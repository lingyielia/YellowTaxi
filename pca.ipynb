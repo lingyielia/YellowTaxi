{
 "cells": [
  {
   "cell_type": "code",
   "execution_count": 1,
   "metadata": {},
   "outputs": [],
   "source": [
    "%matplotlib inline\n",
    "import numpy as np\n",
    "import pandas as pd\n",
    "import matplotlib.pyplot as plt\n",
    "import statsmodels.formula.api as smf\n",
    "from scipy import stats\n",
    "from sklearn.decomposition import PCA\n",
    "from sklearn.model_selection import train_test_split"
   ]
  },
  {
   "cell_type": "code",
   "execution_count": 2,
   "metadata": {},
   "outputs": [
    {
     "name": "stdout",
     "output_type": "stream",
     "text": [
      "Shape of data\n",
      "(124533, 29)\n"
     ]
    },
    {
     "data": {
      "text/html": [
       "<div>\n",
       "<style scoped>\n",
       "    .dataframe tbody tr th:only-of-type {\n",
       "        vertical-align: middle;\n",
       "    }\n",
       "\n",
       "    .dataframe tbody tr th {\n",
       "        vertical-align: top;\n",
       "    }\n",
       "\n",
       "    .dataframe thead th {\n",
       "        text-align: right;\n",
       "    }\n",
       "</style>\n",
       "<table border=\"1\" class=\"dataframe\">\n",
       "  <thead>\n",
       "    <tr style=\"text-align: right;\">\n",
       "      <th></th>\n",
       "      <th>passenger_count</th>\n",
       "      <th>pickup_longitude</th>\n",
       "      <th>pickup_latitude</th>\n",
       "      <th>dropoff_longitude</th>\n",
       "      <th>dropoff_latitude</th>\n",
       "      <th>hour</th>\n",
       "      <th>dayofweek</th>\n",
       "      <th>dayofyear</th>\n",
       "      <th>timerange</th>\n",
       "      <th>day_and_hour</th>\n",
       "      <th>...</th>\n",
       "      <th>snowfall</th>\n",
       "      <th>snow_depth</th>\n",
       "      <th>temperature_max</th>\n",
       "      <th>temperature_min</th>\n",
       "      <th>fastest_2minute_windspeed</th>\n",
       "      <th>fog</th>\n",
       "      <th>heavy_fog</th>\n",
       "      <th>ice_pellets</th>\n",
       "      <th>smoke_haze</th>\n",
       "      <th>EVENT_TYPE</th>\n",
       "    </tr>\n",
       "  </thead>\n",
       "  <tbody>\n",
       "    <tr>\n",
       "      <th>2192450</th>\n",
       "      <td>1</td>\n",
       "      <td>-73.872955</td>\n",
       "      <td>40.773956</td>\n",
       "      <td>-74.000648</td>\n",
       "      <td>40.739120</td>\n",
       "      <td>18</td>\n",
       "      <td>Monday</td>\n",
       "      <td>5</td>\n",
       "      <td>1583</td>\n",
       "      <td>518</td>\n",
       "      <td>...</td>\n",
       "      <td>0.0</td>\n",
       "      <td>0.0</td>\n",
       "      <td>49.0</td>\n",
       "      <td>21.0</td>\n",
       "      <td>23.9</td>\n",
       "      <td>0.0</td>\n",
       "      <td>0.0</td>\n",
       "      <td>0.0</td>\n",
       "      <td>0.0</td>\n",
       "      <td>-1</td>\n",
       "    </tr>\n",
       "    <tr>\n",
       "      <th>2310230</th>\n",
       "      <td>1</td>\n",
       "      <td>-73.982193</td>\n",
       "      <td>40.771347</td>\n",
       "      <td>-73.981712</td>\n",
       "      <td>40.740631</td>\n",
       "      <td>15</td>\n",
       "      <td>Saturday</td>\n",
       "      <td>3</td>\n",
       "      <td>683</td>\n",
       "      <td>315</td>\n",
       "      <td>...</td>\n",
       "      <td>0.0</td>\n",
       "      <td>0.0</td>\n",
       "      <td>42.0</td>\n",
       "      <td>33.0</td>\n",
       "      <td>12.1</td>\n",
       "      <td>1.0</td>\n",
       "      <td>0.0</td>\n",
       "      <td>0.0</td>\n",
       "      <td>1.0</td>\n",
       "      <td>-1</td>\n",
       "    </tr>\n",
       "    <tr>\n",
       "      <th>8416465</th>\n",
       "      <td>1</td>\n",
       "      <td>-73.960800</td>\n",
       "      <td>40.778404</td>\n",
       "      <td>-73.962158</td>\n",
       "      <td>40.763882</td>\n",
       "      <td>15</td>\n",
       "      <td>Wednesday</td>\n",
       "      <td>28</td>\n",
       "      <td>1413</td>\n",
       "      <td>2815</td>\n",
       "      <td>...</td>\n",
       "      <td>0.0</td>\n",
       "      <td>8.0</td>\n",
       "      <td>34.0</td>\n",
       "      <td>16.0</td>\n",
       "      <td>16.1</td>\n",
       "      <td>0.0</td>\n",
       "      <td>0.0</td>\n",
       "      <td>0.0</td>\n",
       "      <td>0.0</td>\n",
       "      <td>-1</td>\n",
       "    </tr>\n",
       "    <tr>\n",
       "      <th>7531245</th>\n",
       "      <td>1</td>\n",
       "      <td>-73.994743</td>\n",
       "      <td>40.721054</td>\n",
       "      <td>-73.984894</td>\n",
       "      <td>40.736752</td>\n",
       "      <td>2</td>\n",
       "      <td>Friday</td>\n",
       "      <td>30</td>\n",
       "      <td>393</td>\n",
       "      <td>302</td>\n",
       "      <td>...</td>\n",
       "      <td>1.0</td>\n",
       "      <td>7.0</td>\n",
       "      <td>38.0</td>\n",
       "      <td>19.0</td>\n",
       "      <td>21.9</td>\n",
       "      <td>1.0</td>\n",
       "      <td>0.0</td>\n",
       "      <td>0.0</td>\n",
       "      <td>1.0</td>\n",
       "      <td>-1</td>\n",
       "    </tr>\n",
       "    <tr>\n",
       "      <th>7565772</th>\n",
       "      <td>3</td>\n",
       "      <td>-74.010300</td>\n",
       "      <td>40.720509</td>\n",
       "      <td>-73.971458</td>\n",
       "      <td>40.761696</td>\n",
       "      <td>9</td>\n",
       "      <td>Friday</td>\n",
       "      <td>30</td>\n",
       "      <td>2719</td>\n",
       "      <td>309</td>\n",
       "      <td>...</td>\n",
       "      <td>1.0</td>\n",
       "      <td>7.0</td>\n",
       "      <td>38.0</td>\n",
       "      <td>19.0</td>\n",
       "      <td>21.9</td>\n",
       "      <td>1.0</td>\n",
       "      <td>0.0</td>\n",
       "      <td>0.0</td>\n",
       "      <td>1.0</td>\n",
       "      <td>-1</td>\n",
       "    </tr>\n",
       "  </tbody>\n",
       "</table>\n",
       "<p>5 rows × 29 columns</p>\n",
       "</div>"
      ],
      "text/plain": [
       "         passenger_count  pickup_longitude  pickup_latitude  \\\n",
       "2192450                1        -73.872955        40.773956   \n",
       "2310230                1        -73.982193        40.771347   \n",
       "8416465                1        -73.960800        40.778404   \n",
       "7531245                1        -73.994743        40.721054   \n",
       "7565772                3        -74.010300        40.720509   \n",
       "\n",
       "         dropoff_longitude  dropoff_latitude  hour  dayofweek  dayofyear  \\\n",
       "2192450         -74.000648         40.739120    18     Monday          5   \n",
       "2310230         -73.981712         40.740631    15   Saturday          3   \n",
       "8416465         -73.962158         40.763882    15  Wednesday         28   \n",
       "7531245         -73.984894         40.736752     2     Friday         30   \n",
       "7565772         -73.971458         40.761696     9     Friday         30   \n",
       "\n",
       "         timerange  day_and_hour     ...     snowfall snow_depth  \\\n",
       "2192450       1583           518     ...          0.0        0.0   \n",
       "2310230        683           315     ...          0.0        0.0   \n",
       "8416465       1413          2815     ...          0.0        8.0   \n",
       "7531245        393           302     ...          1.0        7.0   \n",
       "7565772       2719           309     ...          1.0        7.0   \n",
       "\n",
       "         temperature_max  temperature_min fastest_2minute_windspeed  fog  \\\n",
       "2192450             49.0             21.0                      23.9  0.0   \n",
       "2310230             42.0             33.0                      12.1  1.0   \n",
       "8416465             34.0             16.0                      16.1  0.0   \n",
       "7531245             38.0             19.0                      21.9  1.0   \n",
       "7565772             38.0             19.0                      21.9  1.0   \n",
       "\n",
       "         heavy_fog  ice_pellets  smoke_haze  EVENT_TYPE  \n",
       "2192450        0.0          0.0         0.0          -1  \n",
       "2310230        0.0          0.0         1.0          -1  \n",
       "8416465        0.0          0.0         0.0          -1  \n",
       "7531245        0.0          0.0         1.0          -1  \n",
       "7565772        0.0          0.0         1.0          -1  \n",
       "\n",
       "[5 rows x 29 columns]"
      ]
     },
     "execution_count": 2,
     "metadata": {},
     "output_type": "execute_result"
    }
   ],
   "source": [
    "df = pd.read_csv('final_clean_data_201501_shortest.csv', index_col=0)\n",
    "print (\"Shape of data\\n{}\".format(df.shape))\n",
    "df.head()"
   ]
  },
  {
   "cell_type": "code",
   "execution_count": 3,
   "metadata": {},
   "outputs": [
    {
     "data": {
      "text/html": [
       "<div>\n",
       "<style scoped>\n",
       "    .dataframe tbody tr th:only-of-type {\n",
       "        vertical-align: middle;\n",
       "    }\n",
       "\n",
       "    .dataframe tbody tr th {\n",
       "        vertical-align: top;\n",
       "    }\n",
       "\n",
       "    .dataframe thead th {\n",
       "        text-align: right;\n",
       "    }\n",
       "</style>\n",
       "<table border=\"1\" class=\"dataframe\">\n",
       "  <thead>\n",
       "    <tr style=\"text-align: right;\">\n",
       "      <th></th>\n",
       "      <th>passenger_count</th>\n",
       "      <th>pickup_longitude</th>\n",
       "      <th>pickup_latitude</th>\n",
       "      <th>dropoff_longitude</th>\n",
       "      <th>dropoff_latitude</th>\n",
       "      <th>hour</th>\n",
       "      <th>dayofweek</th>\n",
       "      <th>dayofyear</th>\n",
       "      <th>timerange</th>\n",
       "      <th>day_and_hour</th>\n",
       "      <th>...</th>\n",
       "      <th>snowfall</th>\n",
       "      <th>snow_depth</th>\n",
       "      <th>temperature_max</th>\n",
       "      <th>temperature_min</th>\n",
       "      <th>fastest_2minute_windspeed</th>\n",
       "      <th>fog</th>\n",
       "      <th>heavy_fog</th>\n",
       "      <th>ice_pellets</th>\n",
       "      <th>smoke_haze</th>\n",
       "      <th>EVENT_TYPE</th>\n",
       "    </tr>\n",
       "  </thead>\n",
       "  <tbody>\n",
       "    <tr>\n",
       "      <th>0</th>\n",
       "      <td>1</td>\n",
       "      <td>-73.872955</td>\n",
       "      <td>40.773956</td>\n",
       "      <td>-74.000648</td>\n",
       "      <td>40.739120</td>\n",
       "      <td>18</td>\n",
       "      <td>Monday</td>\n",
       "      <td>5</td>\n",
       "      <td>1583</td>\n",
       "      <td>518</td>\n",
       "      <td>...</td>\n",
       "      <td>0.0</td>\n",
       "      <td>0.0</td>\n",
       "      <td>49.0</td>\n",
       "      <td>21.0</td>\n",
       "      <td>23.9</td>\n",
       "      <td>0.0</td>\n",
       "      <td>0.0</td>\n",
       "      <td>0.0</td>\n",
       "      <td>0.0</td>\n",
       "      <td>-1</td>\n",
       "    </tr>\n",
       "    <tr>\n",
       "      <th>1</th>\n",
       "      <td>1</td>\n",
       "      <td>-73.982193</td>\n",
       "      <td>40.771347</td>\n",
       "      <td>-73.981712</td>\n",
       "      <td>40.740631</td>\n",
       "      <td>15</td>\n",
       "      <td>Saturday</td>\n",
       "      <td>3</td>\n",
       "      <td>683</td>\n",
       "      <td>315</td>\n",
       "      <td>...</td>\n",
       "      <td>0.0</td>\n",
       "      <td>0.0</td>\n",
       "      <td>42.0</td>\n",
       "      <td>33.0</td>\n",
       "      <td>12.1</td>\n",
       "      <td>1.0</td>\n",
       "      <td>0.0</td>\n",
       "      <td>0.0</td>\n",
       "      <td>1.0</td>\n",
       "      <td>-1</td>\n",
       "    </tr>\n",
       "    <tr>\n",
       "      <th>2</th>\n",
       "      <td>1</td>\n",
       "      <td>-73.960800</td>\n",
       "      <td>40.778404</td>\n",
       "      <td>-73.962158</td>\n",
       "      <td>40.763882</td>\n",
       "      <td>15</td>\n",
       "      <td>Wednesday</td>\n",
       "      <td>28</td>\n",
       "      <td>1413</td>\n",
       "      <td>2815</td>\n",
       "      <td>...</td>\n",
       "      <td>0.0</td>\n",
       "      <td>8.0</td>\n",
       "      <td>34.0</td>\n",
       "      <td>16.0</td>\n",
       "      <td>16.1</td>\n",
       "      <td>0.0</td>\n",
       "      <td>0.0</td>\n",
       "      <td>0.0</td>\n",
       "      <td>0.0</td>\n",
       "      <td>-1</td>\n",
       "    </tr>\n",
       "    <tr>\n",
       "      <th>3</th>\n",
       "      <td>1</td>\n",
       "      <td>-73.994743</td>\n",
       "      <td>40.721054</td>\n",
       "      <td>-73.984894</td>\n",
       "      <td>40.736752</td>\n",
       "      <td>2</td>\n",
       "      <td>Friday</td>\n",
       "      <td>30</td>\n",
       "      <td>393</td>\n",
       "      <td>302</td>\n",
       "      <td>...</td>\n",
       "      <td>1.0</td>\n",
       "      <td>7.0</td>\n",
       "      <td>38.0</td>\n",
       "      <td>19.0</td>\n",
       "      <td>21.9</td>\n",
       "      <td>1.0</td>\n",
       "      <td>0.0</td>\n",
       "      <td>0.0</td>\n",
       "      <td>1.0</td>\n",
       "      <td>-1</td>\n",
       "    </tr>\n",
       "    <tr>\n",
       "      <th>4</th>\n",
       "      <td>3</td>\n",
       "      <td>-74.010300</td>\n",
       "      <td>40.720509</td>\n",
       "      <td>-73.971458</td>\n",
       "      <td>40.761696</td>\n",
       "      <td>9</td>\n",
       "      <td>Friday</td>\n",
       "      <td>30</td>\n",
       "      <td>2719</td>\n",
       "      <td>309</td>\n",
       "      <td>...</td>\n",
       "      <td>1.0</td>\n",
       "      <td>7.0</td>\n",
       "      <td>38.0</td>\n",
       "      <td>19.0</td>\n",
       "      <td>21.9</td>\n",
       "      <td>1.0</td>\n",
       "      <td>0.0</td>\n",
       "      <td>0.0</td>\n",
       "      <td>1.0</td>\n",
       "      <td>-1</td>\n",
       "    </tr>\n",
       "  </tbody>\n",
       "</table>\n",
       "<p>5 rows × 29 columns</p>\n",
       "</div>"
      ],
      "text/plain": [
       "   passenger_count  pickup_longitude  pickup_latitude  dropoff_longitude  \\\n",
       "0                1        -73.872955        40.773956         -74.000648   \n",
       "1                1        -73.982193        40.771347         -73.981712   \n",
       "2                1        -73.960800        40.778404         -73.962158   \n",
       "3                1        -73.994743        40.721054         -73.984894   \n",
       "4                3        -74.010300        40.720509         -73.971458   \n",
       "\n",
       "   dropoff_latitude  hour  dayofweek  dayofyear  timerange  day_and_hour  \\\n",
       "0         40.739120    18     Monday          5       1583           518   \n",
       "1         40.740631    15   Saturday          3        683           315   \n",
       "2         40.763882    15  Wednesday         28       1413          2815   \n",
       "3         40.736752     2     Friday         30        393           302   \n",
       "4         40.761696     9     Friday         30       2719           309   \n",
       "\n",
       "      ...     snowfall snow_depth  temperature_max  temperature_min  \\\n",
       "0     ...          0.0        0.0             49.0             21.0   \n",
       "1     ...          0.0        0.0             42.0             33.0   \n",
       "2     ...          0.0        8.0             34.0             16.0   \n",
       "3     ...          1.0        7.0             38.0             19.0   \n",
       "4     ...          1.0        7.0             38.0             19.0   \n",
       "\n",
       "  fastest_2minute_windspeed  fog  heavy_fog  ice_pellets  smoke_haze  \\\n",
       "0                      23.9  0.0        0.0          0.0         0.0   \n",
       "1                      12.1  1.0        0.0          0.0         1.0   \n",
       "2                      16.1  0.0        0.0          0.0         0.0   \n",
       "3                      21.9  1.0        0.0          0.0         1.0   \n",
       "4                      21.9  1.0        0.0          0.0         1.0   \n",
       "\n",
       "   EVENT_TYPE  \n",
       "0          -1  \n",
       "1          -1  \n",
       "2          -1  \n",
       "3          -1  \n",
       "4          -1  \n",
       "\n",
       "[5 rows x 29 columns]"
      ]
     },
     "execution_count": 3,
     "metadata": {},
     "output_type": "execute_result"
    }
   ],
   "source": [
    "df.reset_index(drop=True, inplace=True)\n",
    "df.head()"
   ]
  },
  {
   "cell_type": "code",
   "execution_count": 4,
   "metadata": {},
   "outputs": [
    {
     "data": {
      "text/plain": [
       "Index(['passenger_count', 'pickup_longitude', 'pickup_latitude',\n",
       "       'dropoff_longitude', 'dropoff_latitude', 'hour', 'dayofweek',\n",
       "       'dayofyear', 'timerange', 'day_and_hour', 'geohash_pickup',\n",
       "       'geohash_dropoff', 'airport_as_destination', 'FHV_count', 'DATE',\n",
       "       'DAILYSunrise', 'DAILYSunset', 'wind_speed_average', 'precipitation',\n",
       "       'snowfall', 'snow_depth', 'temperature_max', 'temperature_min',\n",
       "       'fastest_2minute_windspeed', 'fog', 'heavy_fog', 'ice_pellets',\n",
       "       'smoke_haze', 'EVENT_TYPE'],\n",
       "      dtype='object')"
      ]
     },
     "execution_count": 4,
     "metadata": {},
     "output_type": "execute_result"
    }
   ],
   "source": [
    "df.columns"
   ]
  },
  {
   "cell_type": "markdown",
   "metadata": {},
   "source": [
    "## PCA"
   ]
  },
  {
   "cell_type": "code",
   "execution_count": 5,
   "metadata": {},
   "outputs": [],
   "source": [
    "y = df.loc[:,'airport_as_destination']"
   ]
  },
  {
   "cell_type": "code",
   "execution_count": 6,
   "metadata": {},
   "outputs": [],
   "source": [
    "df['geohash_factorize'] = pd.factorize(df['geohash_pickup'])[0]\n",
    "df['dayofweek'] = pd.factorize(df['dayofweek'])[0]"
   ]
  },
  {
   "cell_type": "code",
   "execution_count": 7,
   "metadata": {},
   "outputs": [],
   "source": [
    "X = df[['timerange', 'day_and_hour', 'FHV_count', 'geohash_factorize', 'DAILYSunrise', 'wind_speed_average',\n",
    "       'snow_depth', 'temperature_min']]"
   ]
  },
  {
   "cell_type": "raw",
   "metadata": {},
   "source": [
    "X = df.drop(['pickup_longitude', 'pickup_latitude', 'geohash_dropoff', 'DATE',\n",
    "       'dropoff_longitude', 'dropoff_latitude', 'airport_as_destination', 'geohash_pickup'], axis=1)"
   ]
  },
  {
   "cell_type": "code",
   "execution_count": 8,
   "metadata": {},
   "outputs": [
    {
     "name": "stdout",
     "output_type": "stream",
     "text": [
      "(124533, 8) 124533\n"
     ]
    }
   ],
   "source": [
    "print (X.shape, len(y))"
   ]
  },
  {
   "cell_type": "code",
   "execution_count": 9,
   "metadata": {},
   "outputs": [
    {
     "name": "stdout",
     "output_type": "stream",
     "text": [
      "[  7.11562647e-01   2.04193076e-01   8.39101701e-02   3.14671343e-04\n",
      "   1.52491135e-05   3.00510115e-06   9.52584235e-07   2.29132594e-07]\n"
     ]
    },
    {
     "data": {
      "image/png": "[encoded data removed]",
      "text/plain": [
       "<matplotlib.figure.Figure at 0x104ad5128>"
      ]
     },
     "metadata": {},
     "output_type": "display_data"
    }
   ],
   "source": [
    "n=8\n",
    "pca = PCA(n)\n",
    "Xproj = pca.fit_transform(X)\n",
    "eigenvalues = pca.explained_variance_ratio_\n",
    "print (pca.explained_variance_ratio_)\n",
    "plt.figure(2, figsize=(8, 6))\n",
    "plt.bar(np.arange(n), eigenvalues);\n",
    "plt.xlabel(\"Dimensionality\")\n",
    "plt.ylabel(\"Explained Variance Ratio\")\n",
    "plt.show()"
   ]
  },
  {
   "cell_type": "code",
   "execution_count": 10,
   "metadata": {},
   "outputs": [
    {
     "data": {
      "image/png": "[encoded data removed]",
      "text/plain": [
       "<matplotlib.figure.Figure at 0x10448b9b0>"
      ]
     },
     "metadata": {},
     "output_type": "display_data"
    }
   ],
   "source": [
    "plt.figure(2, figsize=(8, 6))\n",
    "plt.clf()\n",
    "plt.scatter(Xproj[:, 0], Xproj[:, 1], c=y, cmap=plt.cm.cool, alpha=0.6)\n",
    "plt.xlabel('First eigenvector')\n",
    "plt.ylabel('Second eigenvector')\n",
    "plt.show()"
   ]
  },
  {
   "cell_type": "code",
   "execution_count": 11,
   "metadata": {},
   "outputs": [
    {
     "data": {
      "text/html": [
       "<div>\n",
       "<style scoped>\n",
       "    .dataframe tbody tr th:only-of-type {\n",
       "        vertical-align: middle;\n",
       "    }\n",
       "\n",
       "    .dataframe tbody tr th {\n",
       "        vertical-align: top;\n",
       "    }\n",
       "\n",
       "    .dataframe thead th {\n",
       "        text-align: right;\n",
       "    }\n",
       "</style>\n",
       "<table border=\"1\" class=\"dataframe\">\n",
       "  <thead>\n",
       "    <tr style=\"text-align: right;\">\n",
       "      <th></th>\n",
       "      <th>timerange</th>\n",
       "      <th>day_and_hour</th>\n",
       "      <th>FHV_count</th>\n",
       "      <th>geohash_factorize</th>\n",
       "      <th>DAILYSunrise</th>\n",
       "      <th>wind_speed_average</th>\n",
       "      <th>snow_depth</th>\n",
       "      <th>temperature_min</th>\n",
       "    </tr>\n",
       "  </thead>\n",
       "  <tbody>\n",
       "    <tr>\n",
       "      <th>0</th>\n",
       "      <td>0.012349</td>\n",
       "      <td>0.164216</td>\n",
       "      <td>9.863464e-01</td>\n",
       "      <td>-0.000640</td>\n",
       "      <td>-0.000458</td>\n",
       "      <td>0.000147</td>\n",
       "      <td>0.000262</td>\n",
       "      <td>-0.000836</td>\n",
       "    </tr>\n",
       "    <tr>\n",
       "      <th>1</th>\n",
       "      <td>0.022669</td>\n",
       "      <td>0.986117</td>\n",
       "      <td>-1.644639e-01</td>\n",
       "      <td>-0.001583</td>\n",
       "      <td>-0.002566</td>\n",
       "      <td>-0.000036</td>\n",
       "      <td>0.001201</td>\n",
       "      <td>0.000042</td>\n",
       "    </tr>\n",
       "    <tr>\n",
       "      <th>2</th>\n",
       "      <td>0.999667</td>\n",
       "      <td>-0.024391</td>\n",
       "      <td>-8.455119e-03</td>\n",
       "      <td>-0.000122</td>\n",
       "      <td>0.000027</td>\n",
       "      <td>-0.000015</td>\n",
       "      <td>-0.000039</td>\n",
       "      <td>-0.000172</td>\n",
       "    </tr>\n",
       "    <tr>\n",
       "      <th>3</th>\n",
       "      <td>0.000166</td>\n",
       "      <td>0.001652</td>\n",
       "      <td>3.697826e-04</td>\n",
       "      <td>0.999990</td>\n",
       "      <td>-0.003710</td>\n",
       "      <td>0.000694</td>\n",
       "      <td>0.001805</td>\n",
       "      <td>-0.000168</td>\n",
       "    </tr>\n",
       "    <tr>\n",
       "      <th>4</th>\n",
       "      <td>0.000176</td>\n",
       "      <td>0.000273</td>\n",
       "      <td>8.466986e-04</td>\n",
       "      <td>0.000546</td>\n",
       "      <td>0.026476</td>\n",
       "      <td>-0.165339</td>\n",
       "      <td>-0.094060</td>\n",
       "      <td>0.981384</td>\n",
       "    </tr>\n",
       "    <tr>\n",
       "      <th>5</th>\n",
       "      <td>-0.000008</td>\n",
       "      <td>-0.002815</td>\n",
       "      <td>-6.322876e-07</td>\n",
       "      <td>-0.004128</td>\n",
       "      <td>-0.844559</td>\n",
       "      <td>0.154854</td>\n",
       "      <td>0.503274</td>\n",
       "      <td>0.097113</td>\n",
       "    </tr>\n",
       "    <tr>\n",
       "      <th>6</th>\n",
       "      <td>0.000048</td>\n",
       "      <td>0.000524</td>\n",
       "      <td>-1.013345e-05</td>\n",
       "      <td>0.000063</td>\n",
       "      <td>0.172848</td>\n",
       "      <td>0.971842</td>\n",
       "      <td>-0.038938</td>\n",
       "      <td>0.155336</td>\n",
       "    </tr>\n",
       "    <tr>\n",
       "      <th>7</th>\n",
       "      <td>0.000036</td>\n",
       "      <td>0.000270</td>\n",
       "      <td>2.020829e-05</td>\n",
       "      <td>0.000383</td>\n",
       "      <td>0.506085</td>\n",
       "      <td>-0.064847</td>\n",
       "      <td>0.858107</td>\n",
       "      <td>0.057666</td>\n",
       "    </tr>\n",
       "  </tbody>\n",
       "</table>\n",
       "</div>"
      ],
      "text/plain": [
       "   timerange  day_and_hour     FHV_count  geohash_factorize  DAILYSunrise  \\\n",
       "0   0.012349      0.164216  9.863464e-01          -0.000640     -0.000458   \n",
       "1   0.022669      0.986117 -1.644639e-01          -0.001583     -0.002566   \n",
       "2   0.999667     -0.024391 -8.455119e-03          -0.000122      0.000027   \n",
       "3   0.000166      0.001652  3.697826e-04           0.999990     -0.003710   \n",
       "4   0.000176      0.000273  8.466986e-04           0.000546      0.026476   \n",
       "5  -0.000008     -0.002815 -6.322876e-07          -0.004128     -0.844559   \n",
       "6   0.000048      0.000524 -1.013345e-05           0.000063      0.172848   \n",
       "7   0.000036      0.000270  2.020829e-05           0.000383      0.506085   \n",
       "\n",
       "   wind_speed_average  snow_depth  temperature_min  \n",
       "0            0.000147    0.000262        -0.000836  \n",
       "1           -0.000036    0.001201         0.000042  \n",
       "2           -0.000015   -0.000039        -0.000172  \n",
       "3            0.000694    0.001805        -0.000168  \n",
       "4           -0.165339   -0.094060         0.981384  \n",
       "5            0.154854    0.503274         0.097113  \n",
       "6            0.971842   -0.038938         0.155336  \n",
       "7           -0.064847    0.858107         0.057666  "
      ]
     },
     "execution_count": 11,
     "metadata": {},
     "output_type": "execute_result"
    }
   ],
   "source": [
    "components_explanation = pd.DataFrame(pca.components_,columns = X.columns)\n",
    "components_explanation"
   ]
  },
  {
   "cell_type": "markdown",
   "metadata": {},
   "source": [
    "## logistic regression"
   ]
  },
  {
   "cell_type": "code",
   "execution_count": 12,
   "metadata": {},
   "outputs": [],
   "source": [
    "from sklearn.linear_model import LogisticRegression\n",
    "from sklearn.decomposition import PCA\n",
    "from sklearn.cluster import KMeans\n",
    "from sklearn.metrics import confusion_matrix\n",
    "from sklearn import metrics\n",
    "from mpl_toolkits.mplot3d import Axes3D"
   ]
  },
  {
   "cell_type": "code",
   "execution_count": 13,
   "metadata": {},
   "outputs": [],
   "source": [
    "X_train, X_test, y_train, y_test = train_test_split(X, y, test_size = 0.3, random_state = 200)"
   ]
  },
  {
   "cell_type": "code",
   "execution_count": 14,
   "metadata": {},
   "outputs": [],
   "source": [
    "lr = LogisticRegression(C=1e4)"
   ]
  },
  {
   "cell_type": "code",
   "execution_count": 15,
   "metadata": {},
   "outputs": [
    {
     "data": {
      "text/plain": [
       "{'C': 10000.0,\n",
       " 'class_weight': None,\n",
       " 'dual': False,\n",
       " 'fit_intercept': True,\n",
       " 'intercept_scaling': 1,\n",
       " 'max_iter': 100,\n",
       " 'multi_class': 'ovr',\n",
       " 'n_jobs': 1,\n",
       " 'penalty': 'l2',\n",
       " 'random_state': None,\n",
       " 'solver': 'liblinear',\n",
       " 'tol': 0.0001,\n",
       " 'verbose': 0,\n",
       " 'warm_start': False}"
      ]
     },
     "execution_count": 15,
     "metadata": {},
     "output_type": "execute_result"
    }
   ],
   "source": [
    "lrm = lr.fit(X_train, y_train)\n",
    "lrm.get_params()"
   ]
  },
  {
   "cell_type": "code",
   "execution_count": 16,
   "metadata": {},
   "outputs": [
    {
     "data": {
      "text/plain": [
       "array([0, 0, 0, ..., 0, 0, 0])"
      ]
     },
     "execution_count": 16,
     "metadata": {},
     "output_type": "execute_result"
    }
   ],
   "source": [
    "labelPred = lrm.predict(X_test)\n",
    "labelPred"
   ]
  },
  {
   "cell_type": "code",
   "execution_count": 17,
   "metadata": {},
   "outputs": [
    {
     "data": {
      "text/plain": [
       "array([0, 0, 0, ..., 0, 0, 0])"
      ]
     },
     "execution_count": 17,
     "metadata": {},
     "output_type": "execute_result"
    }
   ],
   "source": [
    "labelActual = np.array(y_test)\n",
    "labelActual"
   ]
  },
  {
   "cell_type": "code",
   "execution_count": 18,
   "metadata": {},
   "outputs": [
    {
     "data": {
      "text/plain": [
       "array([ True,  True,  True, ...,  True,  True,  True], dtype=bool)"
      ]
     },
     "execution_count": 18,
     "metadata": {},
     "output_type": "execute_result"
    }
   ],
   "source": [
    "#compare\n",
    "labelPred == labelActual"
   ]
  },
  {
   "cell_type": "code",
   "execution_count": 19,
   "metadata": {},
   "outputs": [
    {
     "name": "stdout",
     "output_type": "stream",
     "text": [
      "Precision = 0.00%\n",
      "Accuracy = 99.53%\n",
      "Recall = 0.00%\n"
     ]
    }
   ],
   "source": [
    "#compute TP,FP,FN,TN for the above classification\n",
    "TP = sum((labelPred==1)&(labelActual==1))\n",
    "FP = sum((labelPred==1)&(labelActual==0))\n",
    "FN = sum((labelPred==0)&(labelActual==1))\n",
    "TN = sum((labelPred==0)&(labelActual==0))\n",
    "\n",
    "#compute precision, accuracy and recall\n",
    "Acc = 100.0 * (TP+TN)/(TP+TN+FP+FN)\n",
    "Rec = 100.0 * TP/(TP+FN)\n",
    "Prec= 100.0 * TP/(TP+FP)\n",
    "print('Precision = %.2f%%\\nAccuracy = %.2f%%\\nRecall = %.2f%%'%(Prec,Acc,Rec))"
   ]
  },
  {
   "cell_type": "code",
   "execution_count": 20,
   "metadata": {},
   "outputs": [
    {
     "name": "stdout",
     "output_type": "stream",
     "text": [
      "[[37186   167]\n",
      " [    7     0]]\n",
      "\n",
      "TP = 0, TN = 37186, FP = 7, FN = 167\n"
     ]
    }
   ],
   "source": [
    "print(confusion_matrix(labelPred, labelActual))\n",
    "print('\\nTP = %d, TN = %d, FP = %d, FN = %d'%(TP,TN,FP,FN))"
   ]
  },
  {
   "cell_type": "code",
   "execution_count": null,
   "metadata": {},
   "outputs": [],
   "source": []
  },
  {
   "cell_type": "code",
   "execution_count": null,
   "metadata": {},
   "outputs": [],
   "source": []
  },
  {
   "cell_type": "code",
   "execution_count": null,
   "metadata": {},
   "outputs": [],
   "source": []
  },
  {
   "cell_type": "code",
   "execution_count": null,
   "metadata": {},
   "outputs": [],
   "source": []
  }
 ],
 "metadata": {
  "kernelspec": {
   "display_name": "Python 3",
   "language": "python",
   "name": "python3"
  },
  "language_info": {
   "codemirror_mode": {
    "name": "ipython",
    "version": 3
   },
   "file_extension": ".py",
   "mimetype": "text/x-python",
   "name": "python",
   "nbconvert_exporter": "python",
   "pygments_lexer": "ipython3",
   "version": "3.6.1"
  }
 },
 "nbformat": 4,
 "nbformat_minor": 2
}
