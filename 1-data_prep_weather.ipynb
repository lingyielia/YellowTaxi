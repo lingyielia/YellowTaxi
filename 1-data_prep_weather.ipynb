{
 "cells": [
  {
   "cell_type": "code",
   "execution_count": 1,
   "metadata": {},
   "outputs": [],
   "source": [
    "from __future__ import print_function, division\n",
    "%matplotlib inline\n",
    "import os\n",
    "import pandas as pd\n",
    "import numpy as np\n",
    "import matplotlib\n",
    "import matplotlib.pyplot as plt\n",
    "import geopandas as gpd\n",
    "import requests\n",
    "import json\n",
    "from io import StringIO\n",
    "import io\n",
    "import shapely"
   ]
  },
  {
   "cell_type": "raw",
   "metadata": {},
   "source": [
    "from NOAAapi import myAPI"
   ]
  },
  {
   "cell_type": "markdown",
   "metadata": {},
   "source": [
    "### Step1 clean"
   ]
  },
  {
   "cell_type": "markdown",
   "metadata": {},
   "source": [
    "#### 1. weather data - Local Climatological Data (LCD)"
   ]
  },
  {
   "cell_type": "code",
   "execution_count": 2,
   "metadata": {},
   "outputs": [
    {
     "name": "stderr",
     "output_type": "stream",
     "text": [
      "/Library/Frameworks/Python.framework/Versions/3.6/lib/python3.6/site-packages/IPython/core/interactiveshell.py:2698: DtypeWarning: Columns (10,11,14,15,20,23,25,40,44,45,67,68,84,85,86,87) have mixed types. Specify dtype option on import or set low_memory=False.\n",
      "  interactivity=interactivity, compiler=compiler, result=result)\n"
     ]
    }
   ],
   "source": [
    "df = pd.read_csv('weather130101-171130.csv')"
   ]
  },
  {
   "cell_type": "code",
   "execution_count": 3,
   "metadata": {},
   "outputs": [
    {
     "name": "stdout",
     "output_type": "stream",
     "text": [
      "Shape of data\n",
      "(55996, 90)\n"
     ]
    }
   ],
   "source": [
    "print (\"Shape of data\\n{}\".format(df.shape))"
   ]
  },
  {
   "cell_type": "code",
   "execution_count": 4,
   "metadata": {},
   "outputs": [],
   "source": [
    "df.drop(['STATION', 'STATION_NAME', 'ELEVATION', 'LATITUDE', \n",
    "              'LONGITUDE', 'REPORTTPYE', 'HOURLYSKYCONDITIONS', \n",
    "              'HOURLYVISIBILITY', 'HOURLYPRSENTWEATHERTYPE', \n",
    "              'HOURLYDRYBULBTEMPF', 'HOURLYDRYBULBTEMPC', \n",
    "              'HOURLYWETBULBTEMPF', 'HOURLYWETBULBTEMPC', \n",
    "              'HOURLYDewPointTempF', 'HOURLYDewPointTempC', \n",
    "              'HOURLYRelativeHumidity', 'HOURLYWindDirection',\n",
    "              'HOURLYPrecip', 'MonthlyMaximumTemp',\n",
    "       'MonthlyMinimumTemp', 'MonthlyMeanTemp', 'MonthlyAverageRH',\n",
    "       'MonthlyDewpointTemp', 'MonthlyWetBulbTemp',\n",
    "       'MonthlyAvgHeatingDegreeDays', 'MonthlyAvgCoolingDegreeDays',\n",
    "       'MonthlyStationPressure', 'MonthlySeaLevelPressure',\n",
    "       'MonthlyAverageWindSpeed', 'MonthlyTotalSnowfall',\n",
    "       'MonthlyDeptFromNormalMaximumTemp', 'MonthlyDeptFromNormalMinimumTemp',\n",
    "       'MonthlyDeptFromNormalAverageTemp', 'MonthlyDeptFromNormalPrecip',\n",
    "       'MonthlyTotalLiquidPrecip', 'MonthlyGreatestPrecip',\n",
    "       'MonthlyGreatestPrecipDate', 'MonthlyGreatestSnowfall',\n",
    "       'MonthlyGreatestSnowfallDate', 'MonthlyGreatestSnowDepth',\n",
    "       'MonthlyGreatestSnowDepthDate', 'MonthlyDaysWithGT90Temp',\n",
    "       'MonthlyDaysWithLT32Temp', 'MonthlyDaysWithGT32Temp',\n",
    "       'MonthlyDaysWithLT0Temp', 'MonthlyDaysWithGT001Precip',\n",
    "       'MonthlyDaysWithGT010Precip', 'MonthlyDaysWithGT1Snow',\n",
    "       'MonthlyMaxSeaLevelPressureValue', 'MonthlyMaxSeaLevelPressureDate',\n",
    "       'MonthlyMaxSeaLevelPressureTime', 'MonthlyMinSeaLevelPressureValue',\n",
    "       'MonthlyMinSeaLevelPressureDate', 'MonthlyMinSeaLevelPressureTime',\n",
    "       'MonthlyTotalHeatingDegreeDays', 'MonthlyTotalCoolingDegreeDays',\n",
    "       'MonthlyDeptFromNormalHeatingDD', 'MonthlyDeptFromNormalCoolingDD',\n",
    "       'MonthlyTotalSeasonToDateHeatingDD',\n",
    "       'MonthlyTotalSeasonToDateCoolingDD','DAILYAverageStationPressure',\n",
    "       'DAILYAverageSeaLevelPressure', 'DAILYAverageWindSpeed',\n",
    "       'DAILYPeakWindSpeed', 'PeakWindDirection', 'DAILYSustainedWindSpeed',\n",
    "       'DAILYSustainedWindDirection','DAILYMaximumDryBulbTemp',\n",
    "       'DAILYMinimumDryBulbTemp', 'DAILYAverageDryBulbTemp',\n",
    "       'DAILYDeptFromNormalAverageTemp', 'DAILYAverageRelativeHumidity',\n",
    "       'DAILYAverageDewPointTemp', 'DAILYAverageWetBulbTemp',\n",
    "       'DAILYHeatingDegreeDays', 'DAILYCoolingDegreeDays'], axis=1, inplace=True)"
   ]
  },
  {
   "cell_type": "code",
   "execution_count": 5,
   "metadata": {},
   "outputs": [
    {
     "data": {
      "text/plain": [
       "Index(['DATE', 'HOURLYWindSpeed', 'HOURLYWindGustSpeed',\n",
       "       'HOURLYStationPressure', 'HOURLYPressureTendency',\n",
       "       'HOURLYPressureChange', 'HOURLYSeaLevelPressure',\n",
       "       'HOURLYAltimeterSetting', 'DAILYSunrise', 'DAILYSunset', 'DAILYWeather',\n",
       "       'DAILYPrecip', 'DAILYSnowfall', 'DAILYSnowDepth'],\n",
       "      dtype='object')"
      ]
     },
     "execution_count": 5,
     "metadata": {},
     "output_type": "execute_result"
    }
   ],
   "source": [
    "df.columns"
   ]
  },
  {
   "cell_type": "code",
   "execution_count": 6,
   "metadata": {},
   "outputs": [
    {
     "data": {
      "text/plain": [
       "DATE                      55996\n",
       "HOURLYWindSpeed           50749\n",
       "HOURLYWindGustSpeed        9362\n",
       "HOURLYStationPressure     53604\n",
       "HOURLYPressureTendency    14083\n",
       "HOURLYPressureChange       2423\n",
       "HOURLYSeaLevelPressure    42318\n",
       "HOURLYAltimeterSetting    53660\n",
       "DAILYSunrise              55996\n",
       "DAILYSunset               55996\n",
       "DAILYWeather                776\n",
       "DAILYPrecip                2388\n",
       "DAILYSnowfall              1794\n",
       "DAILYSnowDepth             1794\n",
       "dtype: int64"
      ]
     },
     "execution_count": 6,
     "metadata": {},
     "output_type": "execute_result"
    }
   ],
   "source": [
    "df.count()"
   ]
  },
  {
   "cell_type": "code",
   "execution_count": 7,
   "metadata": {},
   "outputs": [
    {
     "data": {
      "text/html": [
       "<div>\n",
       "<style scoped>\n",
       "    .dataframe tbody tr th:only-of-type {\n",
       "        vertical-align: middle;\n",
       "    }\n",
       "\n",
       "    .dataframe tbody tr th {\n",
       "        vertical-align: top;\n",
       "    }\n",
       "\n",
       "    .dataframe thead th {\n",
       "        text-align: right;\n",
       "    }\n",
       "</style>\n",
       "<table border=\"1\" class=\"dataframe\">\n",
       "  <thead>\n",
       "    <tr style=\"text-align: right;\">\n",
       "      <th></th>\n",
       "      <th>DATE</th>\n",
       "      <th>HOURLYWindSpeed</th>\n",
       "      <th>HOURLYWindGustSpeed</th>\n",
       "      <th>HOURLYStationPressure</th>\n",
       "      <th>HOURLYPressureTendency</th>\n",
       "      <th>HOURLYPressureChange</th>\n",
       "      <th>HOURLYSeaLevelPressure</th>\n",
       "      <th>HOURLYAltimeterSetting</th>\n",
       "      <th>DAILYSunrise</th>\n",
       "      <th>DAILYSunset</th>\n",
       "      <th>DAILYWeather</th>\n",
       "      <th>DAILYPrecip</th>\n",
       "      <th>DAILYSnowfall</th>\n",
       "      <th>DAILYSnowDepth</th>\n",
       "    </tr>\n",
       "  </thead>\n",
       "  <tbody>\n",
       "    <tr>\n",
       "      <th>0</th>\n",
       "      <td>2013-01-01 00:51</td>\n",
       "      <td>10.0</td>\n",
       "      <td>22.0</td>\n",
       "      <td>29.72</td>\n",
       "      <td>8.0</td>\n",
       "      <td>NaN</td>\n",
       "      <td>29.87</td>\n",
       "      <td>29.89</td>\n",
       "      <td>720</td>\n",
       "      <td>1639</td>\n",
       "      <td>NaN</td>\n",
       "      <td>NaN</td>\n",
       "      <td>NaN</td>\n",
       "      <td>NaN</td>\n",
       "    </tr>\n",
       "  </tbody>\n",
       "</table>\n",
       "</div>"
      ],
      "text/plain": [
       "               DATE  HOURLYWindSpeed  HOURLYWindGustSpeed  \\\n",
       "0  2013-01-01 00:51             10.0                 22.0   \n",
       "\n",
       "  HOURLYStationPressure  HOURLYPressureTendency  HOURLYPressureChange  \\\n",
       "0                 29.72                     8.0                   NaN   \n",
       "\n",
       "  HOURLYSeaLevelPressure HOURLYAltimeterSetting  DAILYSunrise  DAILYSunset  \\\n",
       "0                  29.87                  29.89           720         1639   \n",
       "\n",
       "  DAILYWeather DAILYPrecip DAILYSnowfall DAILYSnowDepth  \n",
       "0          NaN         NaN           NaN            NaN  "
      ]
     },
     "execution_count": 7,
     "metadata": {},
     "output_type": "execute_result"
    }
   ],
   "source": [
    "df.head(1)"
   ]
  },
  {
   "cell_type": "raw",
   "metadata": {},
   "source": [
    "df.HOURLYWindSpeed.unique()\n",
    "df.HOURLYStationPressure.unique()\n",
    "df.HOURLYWindGustSpeed.unique()\n",
    "df.HOURLYPressureTendency.unique()\n",
    "df.HOURLYPressureChange.unique()\n",
    "df.HOURLYSeaLevelPressure.unique()\n",
    "df.HOURLYAltimeterSetting.unique()\n",
    "df.DAILYWeather.unique()\n",
    "#T indicates trace amount.\n",
    "df.DAILYPrecip.unique()\n",
    "#The depth of frozen precipitation like snow is measured in tenths (0.1) of an inch and \n",
    "#trace amounts are defined as less than half that amount (0.05 inch).\n",
    "#T indicates trace amount.\n",
    "df.DAILYSnowfall.unique()\n",
    "#T indicates trace amount.\n",
    "df.DAILYSnowDepth.unique()\n",
    "df.DAILYSunrise.unique()\n",
    "df.DAILYSunset.unique()"
   ]
  },
  {
   "cell_type": "code",
   "execution_count": 8,
   "metadata": {},
   "outputs": [
    {
     "data": {
      "text/html": [
       "<div>\n",
       "<style scoped>\n",
       "    .dataframe tbody tr th:only-of-type {\n",
       "        vertical-align: middle;\n",
       "    }\n",
       "\n",
       "    .dataframe tbody tr th {\n",
       "        vertical-align: top;\n",
       "    }\n",
       "\n",
       "    .dataframe thead th {\n",
       "        text-align: right;\n",
       "    }\n",
       "</style>\n",
       "<table border=\"1\" class=\"dataframe\">\n",
       "  <thead>\n",
       "    <tr style=\"text-align: right;\">\n",
       "      <th></th>\n",
       "      <th>DATE</th>\n",
       "      <th>DAILYSunrise</th>\n",
       "      <th>DAILYSunset</th>\n",
       "    </tr>\n",
       "  </thead>\n",
       "  <tbody>\n",
       "    <tr>\n",
       "      <th>0</th>\n",
       "      <td>2013-01-01 00:51</td>\n",
       "      <td>720</td>\n",
       "      <td>1639</td>\n",
       "    </tr>\n",
       "  </tbody>\n",
       "</table>\n",
       "</div>"
      ],
      "text/plain": [
       "               DATE  DAILYSunrise  DAILYSunset\n",
       "0  2013-01-01 00:51           720         1639"
      ]
     },
     "execution_count": 8,
     "metadata": {},
     "output_type": "execute_result"
    }
   ],
   "source": [
    "df1 = df[['DATE', 'DAILYSunrise', 'DAILYSunset']]\n",
    "df1.head(1)"
   ]
  },
  {
   "cell_type": "code",
   "execution_count": 9,
   "metadata": {},
   "outputs": [
    {
     "name": "stderr",
     "output_type": "stream",
     "text": [
      "/Library/Frameworks/Python.framework/Versions/3.6/lib/python3.6/site-packages/ipykernel_launcher.py:1: SettingWithCopyWarning: \n",
      "A value is trying to be set on a copy of a slice from a DataFrame.\n",
      "Try using .loc[row_indexer,col_indexer] = value instead\n",
      "\n",
      "See the caveats in the documentation: http://pandas.pydata.org/pandas-docs/stable/indexing.html#indexing-view-versus-copy\n",
      "  \"\"\"Entry point for launching an IPython kernel.\n",
      "/Library/Frameworks/Python.framework/Versions/3.6/lib/python3.6/site-packages/ipykernel_launcher.py:2: SettingWithCopyWarning: \n",
      "A value is trying to be set on a copy of a slice from a DataFrame.\n",
      "Try using .loc[row_indexer,col_indexer] = value instead\n",
      "\n",
      "See the caveats in the documentation: http://pandas.pydata.org/pandas-docs/stable/indexing.html#indexing-view-versus-copy\n",
      "  \n",
      "/Library/Frameworks/Python.framework/Versions/3.6/lib/python3.6/site-packages/ipykernel_launcher.py:3: SettingWithCopyWarning: \n",
      "A value is trying to be set on a copy of a slice from a DataFrame.\n",
      "Try using .loc[row_indexer,col_indexer] = value instead\n",
      "\n",
      "See the caveats in the documentation: http://pandas.pydata.org/pandas-docs/stable/indexing.html#indexing-view-versus-copy\n",
      "  This is separate from the ipykernel package so we can avoid doing imports until\n"
     ]
    }
   ],
   "source": [
    "df1['DATE'] = pd.to_datetime(df1['DATE'], format='%Y/%m/%d')\n",
    "df1['DATE'] = df1['DATE'].dt.date\n",
    "df1['DATE'] = pd.to_datetime(df1['DATE'], format='%Y/%m/%d')"
   ]
  },
  {
   "cell_type": "code",
   "execution_count": 10,
   "metadata": {},
   "outputs": [
    {
     "data": {
      "text/plain": [
       "DATE            datetime64[ns]\n",
       "DAILYSunrise             int64\n",
       "DAILYSunset              int64\n",
       "dtype: object"
      ]
     },
     "execution_count": 10,
     "metadata": {},
     "output_type": "execute_result"
    }
   ],
   "source": [
    "df1.dtypes"
   ]
  },
  {
   "cell_type": "code",
   "execution_count": 11,
   "metadata": {},
   "outputs": [
    {
     "name": "stderr",
     "output_type": "stream",
     "text": [
      "/Library/Frameworks/Python.framework/Versions/3.6/lib/python3.6/site-packages/ipykernel_launcher.py:1: SettingWithCopyWarning: \n",
      "A value is trying to be set on a copy of a slice from a DataFrame\n",
      "\n",
      "See the caveats in the documentation: http://pandas.pydata.org/pandas-docs/stable/indexing.html#indexing-view-versus-copy\n",
      "  \"\"\"Entry point for launching an IPython kernel.\n"
     ]
    }
   ],
   "source": [
    "df1.drop_duplicates(subset='DATE', inplace=True)"
   ]
  },
  {
   "cell_type": "code",
   "execution_count": 12,
   "metadata": {},
   "outputs": [
    {
     "data": {
      "text/html": [
       "<div>\n",
       "<style scoped>\n",
       "    .dataframe tbody tr th:only-of-type {\n",
       "        vertical-align: middle;\n",
       "    }\n",
       "\n",
       "    .dataframe tbody tr th {\n",
       "        vertical-align: top;\n",
       "    }\n",
       "\n",
       "    .dataframe thead th {\n",
       "        text-align: right;\n",
       "    }\n",
       "</style>\n",
       "<table border=\"1\" class=\"dataframe\">\n",
       "  <thead>\n",
       "    <tr style=\"text-align: right;\">\n",
       "      <th></th>\n",
       "      <th>DATE</th>\n",
       "      <th>DAILYSunrise</th>\n",
       "      <th>DAILYSunset</th>\n",
       "    </tr>\n",
       "  </thead>\n",
       "  <tbody>\n",
       "    <tr>\n",
       "      <th>0</th>\n",
       "      <td>2013-01-01</td>\n",
       "      <td>720</td>\n",
       "      <td>1639</td>\n",
       "    </tr>\n",
       "    <tr>\n",
       "      <th>1</th>\n",
       "      <td>2013-01-02</td>\n",
       "      <td>720</td>\n",
       "      <td>1640</td>\n",
       "    </tr>\n",
       "    <tr>\n",
       "      <th>2</th>\n",
       "      <td>2013-01-03</td>\n",
       "      <td>720</td>\n",
       "      <td>1641</td>\n",
       "    </tr>\n",
       "    <tr>\n",
       "      <th>3</th>\n",
       "      <td>2013-01-04</td>\n",
       "      <td>720</td>\n",
       "      <td>1642</td>\n",
       "    </tr>\n",
       "    <tr>\n",
       "      <th>4</th>\n",
       "      <td>2013-01-05</td>\n",
       "      <td>720</td>\n",
       "      <td>1643</td>\n",
       "    </tr>\n",
       "  </tbody>\n",
       "</table>\n",
       "</div>"
      ],
      "text/plain": [
       "        DATE  DAILYSunrise  DAILYSunset\n",
       "0 2013-01-01           720         1639\n",
       "1 2013-01-02           720         1640\n",
       "2 2013-01-03           720         1641\n",
       "3 2013-01-04           720         1642\n",
       "4 2013-01-05           720         1643"
      ]
     },
     "execution_count": 12,
     "metadata": {},
     "output_type": "execute_result"
    }
   ],
   "source": [
    "df1.reset_index(drop=True, inplace=True)\n",
    "df1.head()"
   ]
  },
  {
   "cell_type": "code",
   "execution_count": 28,
   "metadata": {},
   "outputs": [
    {
     "data": {
      "text/plain": [
       "(1795, 3)"
      ]
     },
     "execution_count": 28,
     "metadata": {},
     "output_type": "execute_result"
    }
   ],
   "source": [
    "df1.shape"
   ]
  },
  {
   "cell_type": "code",
   "execution_count": 29,
   "metadata": {},
   "outputs": [
    {
     "data": {
      "text/plain": [
       "DATE            datetime64[ns]\n",
       "DAILYSunrise             int64\n",
       "DAILYSunset              int64\n",
       "dtype: object"
      ]
     },
     "execution_count": 29,
     "metadata": {},
     "output_type": "execute_result"
    }
   ],
   "source": [
    "df1.dtypes"
   ]
  },
  {
   "cell_type": "code",
   "execution_count": 30,
   "metadata": {},
   "outputs": [
    {
     "data": {
      "text/plain": [
       "array(['2013-01-01T00:00:00.000000000', '2013-01-02T00:00:00.000000000',\n",
       "       '2013-01-03T00:00:00.000000000', ...,\n",
       "       '2017-11-28T00:00:00.000000000', '2017-11-29T00:00:00.000000000',\n",
       "       '2017-11-30T00:00:00.000000000'], dtype='datetime64[ns]')"
      ]
     },
     "execution_count": 30,
     "metadata": {},
     "output_type": "execute_result"
    }
   ],
   "source": [
    "df1.DATE.unique()"
   ]
  },
  {
   "cell_type": "markdown",
   "metadata": {},
   "source": [
    "#### 2. weather data -- daily summary"
   ]
  },
  {
   "cell_type": "code",
   "execution_count": 13,
   "metadata": {},
   "outputs": [],
   "source": [
    "df2 = pd.read_csv('weather_daily_summary_2013_now.csv')"
   ]
  },
  {
   "cell_type": "code",
   "execution_count": 14,
   "metadata": {},
   "outputs": [
    {
     "name": "stdout",
     "output_type": "stream",
     "text": [
      "Shape of data\n",
      "(1794, 27)\n"
     ]
    }
   ],
   "source": [
    "print (\"Shape of data\\n{}\".format(df2.shape))"
   ]
  },
  {
   "cell_type": "code",
   "execution_count": 15,
   "metadata": {},
   "outputs": [
    {
     "data": {
      "text/plain": [
       "STATION      1794\n",
       "NAME         1794\n",
       "LATITUDE     1794\n",
       "LONGITUDE    1794\n",
       "ELEVATION    1794\n",
       "DATE         1794\n",
       "AWND         1781\n",
       "PGTM            1\n",
       "PRCP         1794\n",
       "SNOW         1793\n",
       "SNWD         1793\n",
       "TAVG            0\n",
       "TMAX         1794\n",
       "TMIN         1794\n",
       "WSF2         1784\n",
       "WSF5         1768\n",
       "WT01          508\n",
       "WT02           32\n",
       "WT04            5\n",
       "WT06            7\n",
       "WT08          347\n",
       "WT13           27\n",
       "WT14            1\n",
       "WT16           23\n",
       "WT18           21\n",
       "WT19            9\n",
       "WT22            2\n",
       "dtype: int64"
      ]
     },
     "execution_count": 15,
     "metadata": {},
     "output_type": "execute_result"
    }
   ],
   "source": [
    "df2.count()"
   ]
  },
  {
   "cell_type": "code",
   "execution_count": 16,
   "metadata": {},
   "outputs": [
    {
     "data": {
      "text/html": [
       "<div>\n",
       "<style scoped>\n",
       "    .dataframe tbody tr th:only-of-type {\n",
       "        vertical-align: middle;\n",
       "    }\n",
       "\n",
       "    .dataframe tbody tr th {\n",
       "        vertical-align: top;\n",
       "    }\n",
       "\n",
       "    .dataframe thead th {\n",
       "        text-align: right;\n",
       "    }\n",
       "</style>\n",
       "<table border=\"1\" class=\"dataframe\">\n",
       "  <thead>\n",
       "    <tr style=\"text-align: right;\">\n",
       "      <th></th>\n",
       "      <th>STATION</th>\n",
       "      <th>NAME</th>\n",
       "      <th>LATITUDE</th>\n",
       "      <th>LONGITUDE</th>\n",
       "      <th>ELEVATION</th>\n",
       "      <th>DATE</th>\n",
       "      <th>AWND</th>\n",
       "      <th>PGTM</th>\n",
       "      <th>PRCP</th>\n",
       "      <th>SNOW</th>\n",
       "      <th>...</th>\n",
       "      <th>WT02</th>\n",
       "      <th>WT04</th>\n",
       "      <th>WT06</th>\n",
       "      <th>WT08</th>\n",
       "      <th>WT13</th>\n",
       "      <th>WT14</th>\n",
       "      <th>WT16</th>\n",
       "      <th>WT18</th>\n",
       "      <th>WT19</th>\n",
       "      <th>WT22</th>\n",
       "    </tr>\n",
       "  </thead>\n",
       "  <tbody>\n",
       "    <tr>\n",
       "      <th>0</th>\n",
       "      <td>USW00094728</td>\n",
       "      <td>NY CITY CENTRAL PARK, NY US</td>\n",
       "      <td>40.77898</td>\n",
       "      <td>-73.96925</td>\n",
       "      <td>42.7</td>\n",
       "      <td>2013-01-01</td>\n",
       "      <td>6.93</td>\n",
       "      <td>NaN</td>\n",
       "      <td>0.0</td>\n",
       "      <td>0.0</td>\n",
       "      <td>...</td>\n",
       "      <td>NaN</td>\n",
       "      <td>NaN</td>\n",
       "      <td>NaN</td>\n",
       "      <td>NaN</td>\n",
       "      <td>NaN</td>\n",
       "      <td>NaN</td>\n",
       "      <td>NaN</td>\n",
       "      <td>NaN</td>\n",
       "      <td>NaN</td>\n",
       "      <td>NaN</td>\n",
       "    </tr>\n",
       "  </tbody>\n",
       "</table>\n",
       "<p>1 rows × 27 columns</p>\n",
       "</div>"
      ],
      "text/plain": [
       "       STATION                         NAME  LATITUDE  LONGITUDE  ELEVATION  \\\n",
       "0  USW00094728  NY CITY CENTRAL PARK, NY US  40.77898  -73.96925       42.7   \n",
       "\n",
       "         DATE  AWND  PGTM  PRCP  SNOW  ...   WT02  WT04  WT06  WT08  WT13  \\\n",
       "0  2013-01-01  6.93   NaN   0.0   0.0  ...    NaN   NaN   NaN   NaN   NaN   \n",
       "\n",
       "   WT14  WT16  WT18  WT19  WT22  \n",
       "0   NaN   NaN   NaN   NaN   NaN  \n",
       "\n",
       "[1 rows x 27 columns]"
      ]
     },
     "execution_count": 16,
     "metadata": {},
     "output_type": "execute_result"
    }
   ],
   "source": [
    "df2.head(1)"
   ]
  },
  {
   "cell_type": "code",
   "execution_count": 17,
   "metadata": {},
   "outputs": [
    {
     "data": {
      "text/plain": [
       "STATION       object\n",
       "NAME          object\n",
       "LATITUDE     float64\n",
       "LONGITUDE    float64\n",
       "ELEVATION    float64\n",
       "DATE          object\n",
       "AWND         float64\n",
       "PGTM         float64\n",
       "PRCP         float64\n",
       "SNOW         float64\n",
       "SNWD         float64\n",
       "TAVG         float64\n",
       "TMAX           int64\n",
       "TMIN           int64\n",
       "WSF2         float64\n",
       "WSF5         float64\n",
       "WT01         float64\n",
       "WT02         float64\n",
       "WT04         float64\n",
       "WT06         float64\n",
       "WT08         float64\n",
       "WT13         float64\n",
       "WT14         float64\n",
       "WT16         float64\n",
       "WT18         float64\n",
       "WT19         float64\n",
       "WT22         float64\n",
       "dtype: object"
      ]
     },
     "execution_count": 17,
     "metadata": {},
     "output_type": "execute_result"
    }
   ],
   "source": [
    "df2.dtypes"
   ]
  },
  {
   "cell_type": "raw",
   "metadata": {},
   "source": [
    "df2.columns"
   ]
  },
  {
   "cell_type": "code",
   "execution_count": 18,
   "metadata": {},
   "outputs": [],
   "source": [
    "df2.drop(['STATION', 'NAME', 'LATITUDE', 'LONGITUDE', 'ELEVATION'], axis=1, inplace=True)\n",
    "df2.columns = ['DATE', 'wind_speed_average',\n",
    "       'peak_gust_time', 'precipitation', 'snowfall', 'snow_depth', 'temperature_average', 'temperature_max', 'temperature_min', 'fastest_2minute_windspeed', 'fastest_5minute_windspeed',\n",
    "       'fog', 'heavy_fog', 'ice_pellets', 'glaze_rime', 'smoke_haze', 'mist', 'drizzle', 'rain', 'WT18',\n",
    "       'precipitation_unknownsource', 'ice_fog']"
   ]
  },
  {
   "cell_type": "code",
   "execution_count": 19,
   "metadata": {},
   "outputs": [],
   "source": [
    "df2.drop(['peak_gust_time', 'temperature_average', 'fastest_5minute_windspeed', 'WT18', 'precipitation_unknownsource'], axis=1, inplace=True)"
   ]
  },
  {
   "cell_type": "code",
   "execution_count": 20,
   "metadata": {},
   "outputs": [
    {
     "data": {
      "text/plain": [
       "DATE                         1794\n",
       "wind_speed_average           1781\n",
       "precipitation                1794\n",
       "snowfall                     1793\n",
       "snow_depth                   1793\n",
       "temperature_max              1794\n",
       "temperature_min              1794\n",
       "fastest_2minute_windspeed    1784\n",
       "fog                           508\n",
       "heavy_fog                      32\n",
       "ice_pellets                     5\n",
       "glaze_rime                      7\n",
       "smoke_haze                    347\n",
       "mist                           27\n",
       "drizzle                         1\n",
       "rain                           23\n",
       "ice_fog                         2\n",
       "dtype: int64"
      ]
     },
     "execution_count": 20,
     "metadata": {},
     "output_type": "execute_result"
    }
   ],
   "source": [
    "df2.count()"
   ]
  },
  {
   "cell_type": "code",
   "execution_count": 21,
   "metadata": {},
   "outputs": [
    {
     "data": {
      "text/plain": [
       "DATE                          object\n",
       "wind_speed_average           float64\n",
       "precipitation                float64\n",
       "snowfall                     float64\n",
       "snow_depth                   float64\n",
       "temperature_max                int64\n",
       "temperature_min                int64\n",
       "fastest_2minute_windspeed    float64\n",
       "fog                          float64\n",
       "heavy_fog                    float64\n",
       "ice_pellets                  float64\n",
       "glaze_rime                   float64\n",
       "smoke_haze                   float64\n",
       "mist                         float64\n",
       "drizzle                      float64\n",
       "rain                         float64\n",
       "ice_fog                      float64\n",
       "dtype: object"
      ]
     },
     "execution_count": 21,
     "metadata": {},
     "output_type": "execute_result"
    }
   ],
   "source": [
    "df2.dtypes"
   ]
  },
  {
   "cell_type": "code",
   "execution_count": null,
   "metadata": {},
   "outputs": [],
   "source": []
  },
  {
   "cell_type": "code",
   "execution_count": null,
   "metadata": {},
   "outputs": [],
   "source": []
  },
  {
   "cell_type": "code",
   "execution_count": null,
   "metadata": {},
   "outputs": [],
   "source": []
  },
  {
   "cell_type": "markdown",
   "metadata": {},
   "source": [
    "#### 3. Storm data"
   ]
  },
  {
   "cell_type": "code",
   "execution_count": 22,
   "metadata": {},
   "outputs": [
    {
     "data": {
      "text/html": [
       "<div>\n",
       "<style scoped>\n",
       "    .dataframe tbody tr th:only-of-type {\n",
       "        vertical-align: middle;\n",
       "    }\n",
       "\n",
       "    .dataframe tbody tr th {\n",
       "        vertical-align: top;\n",
       "    }\n",
       "\n",
       "    .dataframe thead th {\n",
       "        text-align: right;\n",
       "    }\n",
       "</style>\n",
       "<table border=\"1\" class=\"dataframe\">\n",
       "  <thead>\n",
       "    <tr style=\"text-align: right;\">\n",
       "      <th></th>\n",
       "      <th>EVENT_ID</th>\n",
       "      <th>CZ_NAME_STR</th>\n",
       "      <th>BEGIN_LOCATION</th>\n",
       "      <th>BEGIN_DATE</th>\n",
       "      <th>BEGIN_TIME</th>\n",
       "      <th>EVENT_TYPE</th>\n",
       "      <th>MAGNITUDE</th>\n",
       "      <th>TOR_F_SCALE</th>\n",
       "      <th>DEATHS_DIRECT</th>\n",
       "      <th>INJURIES_DIRECT</th>\n",
       "      <th>...</th>\n",
       "      <th>BEGIN_RANGE</th>\n",
       "      <th>BEGIN_AZIMUTH</th>\n",
       "      <th>END_RANGE</th>\n",
       "      <th>END_AZIMUTH</th>\n",
       "      <th>END_LOCATION</th>\n",
       "      <th>BEGIN_LAT</th>\n",
       "      <th>BEGIN_LON</th>\n",
       "      <th>END_LAT</th>\n",
       "      <th>END_LON</th>\n",
       "      <th>ABSOLUTE_ROWNUMBER</th>\n",
       "    </tr>\n",
       "  </thead>\n",
       "  <tbody>\n",
       "    <tr>\n",
       "      <th>0</th>\n",
       "      <td>421883</td>\n",
       "      <td>NEW YORK (MANHATTAN) (ZONE)</td>\n",
       "      <td></td>\n",
       "      <td>01/31/2013</td>\n",
       "      <td>0</td>\n",
       "      <td>High Wind</td>\n",
       "      <td>50.00</td>\n",
       "      <td></td>\n",
       "      <td>0</td>\n",
       "      <td>0</td>\n",
       "      <td>...</td>\n",
       "      <td></td>\n",
       "      <td></td>\n",
       "      <td></td>\n",
       "      <td></td>\n",
       "      <td></td>\n",
       "      <td></td>\n",
       "      <td></td>\n",
       "      <td></td>\n",
       "      <td></td>\n",
       "      <td>1</td>\n",
       "    </tr>\n",
       "  </tbody>\n",
       "</table>\n",
       "<p>1 rows × 35 columns</p>\n",
       "</div>"
      ],
      "text/plain": [
       "   EVENT_ID                  CZ_NAME_STR BEGIN_LOCATION  BEGIN_DATE  \\\n",
       "0    421883  NEW YORK (MANHATTAN) (ZONE)                 01/31/2013   \n",
       "\n",
       "   BEGIN_TIME EVENT_TYPE MAGNITUDE TOR_F_SCALE  DEATHS_DIRECT  \\\n",
       "0           0  High Wind     50.00                          0   \n",
       "\n",
       "   INJURIES_DIRECT         ...          BEGIN_RANGE  BEGIN_AZIMUTH END_RANGE  \\\n",
       "0                0         ...                                                 \n",
       "\n",
       "  END_AZIMUTH END_LOCATION  BEGIN_LAT BEGIN_LON  END_LAT END_LON  \\\n",
       "0                                                                  \n",
       "\n",
       "   ABSOLUTE_ROWNUMBER  \n",
       "0                   1  \n",
       "\n",
       "[1 rows x 35 columns]"
      ]
     },
     "execution_count": 22,
     "metadata": {},
     "output_type": "execute_result"
    }
   ],
   "source": [
    "dfbad = pd.read_csv('storm_data_search_results.csv')\n",
    "dfbad.head(1)"
   ]
  },
  {
   "cell_type": "code",
   "execution_count": 23,
   "metadata": {},
   "outputs": [
    {
     "data": {
      "text/plain": [
       "array(['High Wind', 'Winter Storm', 'Thunderstorm Wind', 'Flash Flood',\n",
       "       'Flood', 'Excessive Heat', 'Strong Wind', 'Dense Fog',\n",
       "       'Winter Weather', 'Heavy Snow', 'Blizzard'], dtype=object)"
      ]
     },
     "execution_count": 23,
     "metadata": {},
     "output_type": "execute_result"
    }
   ],
   "source": [
    "dfbad['EVENT_TYPE'].unique()"
   ]
  },
  {
   "cell_type": "code",
   "execution_count": 24,
   "metadata": {},
   "outputs": [
    {
     "data": {
      "text/plain": [
       "(36, 35)"
      ]
     },
     "execution_count": 24,
     "metadata": {},
     "output_type": "execute_result"
    }
   ],
   "source": [
    "dfbad.shape"
   ]
  },
  {
   "cell_type": "code",
   "execution_count": 25,
   "metadata": {},
   "outputs": [
    {
     "data": {
      "text/plain": [
       "Index(['EVENT_ID', 'CZ_NAME_STR', 'BEGIN_LOCATION', 'BEGIN_DATE', 'BEGIN_TIME',\n",
       "       'EVENT_TYPE', 'MAGNITUDE', 'TOR_F_SCALE', 'DEATHS_DIRECT',\n",
       "       'INJURIES_DIRECT', 'DAMAGE_PROPERTY_NUM', 'DAMAGE_CROPS_NUM',\n",
       "       'STATE_ABBR', 'CZ_TIMEZONE', 'MAGNITUDE_TYPE', 'EPISODE_ID', 'CZ_TYPE',\n",
       "       'CZ_FIPS', 'WFO', 'INJURIES_INDIRECT', 'DEATHS_INDIRECT', 'SOURCE',\n",
       "       'FLOOD_CAUSE', 'TOR_LENGTH', 'TOR_WIDTH', 'BEGIN_RANGE',\n",
       "       'BEGIN_AZIMUTH', 'END_RANGE', 'END_AZIMUTH', 'END_LOCATION',\n",
       "       'BEGIN_LAT', 'BEGIN_LON', 'END_LAT', 'END_LON', 'ABSOLUTE_ROWNUMBER'],\n",
       "      dtype='object')"
      ]
     },
     "execution_count": 25,
     "metadata": {},
     "output_type": "execute_result"
    }
   ],
   "source": [
    "dfbad.columns"
   ]
  },
  {
   "cell_type": "raw",
   "metadata": {},
   "source": [
    "dfbad[dfbad['EVENT_TYPE'] == 'Thunderstorm Wind']\n",
    "dfbad.count()"
   ]
  },
  {
   "cell_type": "code",
   "execution_count": 26,
   "metadata": {},
   "outputs": [
    {
     "data": {
      "text/html": [
       "<div>\n",
       "<style scoped>\n",
       "    .dataframe tbody tr th:only-of-type {\n",
       "        vertical-align: middle;\n",
       "    }\n",
       "\n",
       "    .dataframe tbody tr th {\n",
       "        vertical-align: top;\n",
       "    }\n",
       "\n",
       "    .dataframe thead th {\n",
       "        text-align: right;\n",
       "    }\n",
       "</style>\n",
       "<table border=\"1\" class=\"dataframe\">\n",
       "  <thead>\n",
       "    <tr style=\"text-align: right;\">\n",
       "      <th></th>\n",
       "      <th>BEGIN_DATE</th>\n",
       "      <th>EVENT_TYPE</th>\n",
       "    </tr>\n",
       "  </thead>\n",
       "  <tbody>\n",
       "    <tr>\n",
       "      <th>0</th>\n",
       "      <td>01/31/2013</td>\n",
       "      <td>High Wind</td>\n",
       "    </tr>\n",
       "  </tbody>\n",
       "</table>\n",
       "</div>"
      ],
      "text/plain": [
       "   BEGIN_DATE EVENT_TYPE\n",
       "0  01/31/2013  High Wind"
      ]
     },
     "execution_count": 26,
     "metadata": {},
     "output_type": "execute_result"
    }
   ],
   "source": [
    "df3 = dfbad[['BEGIN_DATE', 'EVENT_TYPE']]\n",
    "df3.head(1)"
   ]
  },
  {
   "cell_type": "code",
   "execution_count": 27,
   "metadata": {},
   "outputs": [
    {
     "data": {
      "text/plain": [
       "BEGIN_DATE    object\n",
       "EVENT_TYPE    object\n",
       "dtype: object"
      ]
     },
     "execution_count": 27,
     "metadata": {},
     "output_type": "execute_result"
    }
   ],
   "source": [
    "df3.dtypes"
   ]
  },
  {
   "cell_type": "markdown",
   "metadata": {},
   "source": [
    "### Step2 Merge"
   ]
  },
  {
   "cell_type": "code",
   "execution_count": null,
   "metadata": {},
   "outputs": [],
   "source": []
  },
  {
   "cell_type": "code",
   "execution_count": null,
   "metadata": {},
   "outputs": [],
   "source": []
  },
  {
   "cell_type": "code",
   "execution_count": null,
   "metadata": {},
   "outputs": [],
   "source": []
  },
  {
   "cell_type": "code",
   "execution_count": null,
   "metadata": {},
   "outputs": [],
   "source": []
  },
  {
   "cell_type": "code",
   "execution_count": null,
   "metadata": {},
   "outputs": [],
   "source": []
  },
  {
   "cell_type": "code",
   "execution_count": null,
   "metadata": {},
   "outputs": [],
   "source": []
  },
  {
   "cell_type": "code",
   "execution_count": null,
   "metadata": {},
   "outputs": [],
   "source": []
  },
  {
   "cell_type": "code",
   "execution_count": null,
   "metadata": {},
   "outputs": [],
   "source": []
  },
  {
   "cell_type": "code",
   "execution_count": null,
   "metadata": {},
   "outputs": [],
   "source": []
  },
  {
   "cell_type": "code",
   "execution_count": null,
   "metadata": {},
   "outputs": [],
   "source": []
  }
 ],
 "metadata": {
  "kernelspec": {
   "display_name": "Python 3",
   "language": "python",
   "name": "python3"
  },
  "language_info": {
   "codemirror_mode": {
    "name": "ipython",
    "version": 3
   },
   "file_extension": ".py",
   "mimetype": "text/x-python",
   "name": "python",
   "nbconvert_exporter": "python",
   "pygments_lexer": "ipython3",
   "version": "3.6.1"
  }
 },
 "nbformat": 4,
 "nbformat_minor": 2
}
