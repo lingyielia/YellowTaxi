{
 "cells": [
  {
   "cell_type": "code",
   "execution_count": 1,
   "metadata": {},
   "outputs": [],
   "source": [
    "from __future__ import print_function, division\n",
    "%matplotlib inline\n",
    "import os\n",
    "import pandas as pd\n",
    "import numpy as np\n",
    "import matplotlib\n",
    "import matplotlib.pyplot as plt\n",
    "import geopandas as gpd\n",
    "import requests\n",
    "import json\n",
    "from io import StringIO\n",
    "import io\n",
    "import shapely\n",
    "\n",
    "DEVELOPE = True"
   ]
  },
  {
   "cell_type": "raw",
   "metadata": {},
   "source": [
    "from NOAAapi import myAPI"
   ]
  },
  {
   "cell_type": "markdown",
   "metadata": {},
   "source": [
    "#### weather data - Local Climatological Data (LCD)"
   ]
  },
  {
   "cell_type": "code",
   "execution_count": 2,
   "metadata": {},
   "outputs": [
    {
     "name": "stderr",
     "output_type": "stream",
     "text": [
      "/Library/Frameworks/Python.framework/Versions/3.6/lib/python3.6/site-packages/IPython/core/interactiveshell.py:2698: DtypeWarning: Columns (10,11,14,15,20,23,25,40,44,45,67,68,84,85,86,87) have mixed types. Specify dtype option on import or set low_memory=False.\n",
      "  interactivity=interactivity, compiler=compiler, result=result)\n"
     ]
    }
   ],
   "source": [
    "df = pd.read_csv('weather130101-171130.csv')"
   ]
  },
  {
   "cell_type": "code",
   "execution_count": 3,
   "metadata": {},
   "outputs": [
    {
     "name": "stdout",
     "output_type": "stream",
     "text": [
      "Shape of data\n",
      "(55996, 90)\n"
     ]
    }
   ],
   "source": [
    "print (\"Shape of data\\n{}\".format(df.shape))"
   ]
  },
  {
   "cell_type": "code",
   "execution_count": 4,
   "metadata": {},
   "outputs": [],
   "source": [
    "df.drop(['STATION', 'STATION_NAME', 'ELEVATION', 'LATITUDE', \n",
    "              'LONGITUDE', 'REPORTTPYE', 'HOURLYSKYCONDITIONS', \n",
    "              'HOURLYVISIBILITY', 'HOURLYPRSENTWEATHERTYPE', \n",
    "              'HOURLYDRYBULBTEMPF', 'HOURLYDRYBULBTEMPC', \n",
    "              'HOURLYWETBULBTEMPF', 'HOURLYWETBULBTEMPC', \n",
    "              'HOURLYDewPointTempF', 'HOURLYDewPointTempC', \n",
    "              'HOURLYRelativeHumidity', 'HOURLYWindDirection',\n",
    "              'HOURLYPrecip', 'MonthlyMaximumTemp',\n",
    "       'MonthlyMinimumTemp', 'MonthlyMeanTemp', 'MonthlyAverageRH',\n",
    "       'MonthlyDewpointTemp', 'MonthlyWetBulbTemp',\n",
    "       'MonthlyAvgHeatingDegreeDays', 'MonthlyAvgCoolingDegreeDays',\n",
    "       'MonthlyStationPressure', 'MonthlySeaLevelPressure',\n",
    "       'MonthlyAverageWindSpeed', 'MonthlyTotalSnowfall',\n",
    "       'MonthlyDeptFromNormalMaximumTemp', 'MonthlyDeptFromNormalMinimumTemp',\n",
    "       'MonthlyDeptFromNormalAverageTemp', 'MonthlyDeptFromNormalPrecip',\n",
    "       'MonthlyTotalLiquidPrecip', 'MonthlyGreatestPrecip',\n",
    "       'MonthlyGreatestPrecipDate', 'MonthlyGreatestSnowfall',\n",
    "       'MonthlyGreatestSnowfallDate', 'MonthlyGreatestSnowDepth',\n",
    "       'MonthlyGreatestSnowDepthDate', 'MonthlyDaysWithGT90Temp',\n",
    "       'MonthlyDaysWithLT32Temp', 'MonthlyDaysWithGT32Temp',\n",
    "       'MonthlyDaysWithLT0Temp', 'MonthlyDaysWithGT001Precip',\n",
    "       'MonthlyDaysWithGT010Precip', 'MonthlyDaysWithGT1Snow',\n",
    "       'MonthlyMaxSeaLevelPressureValue', 'MonthlyMaxSeaLevelPressureDate',\n",
    "       'MonthlyMaxSeaLevelPressureTime', 'MonthlyMinSeaLevelPressureValue',\n",
    "       'MonthlyMinSeaLevelPressureDate', 'MonthlyMinSeaLevelPressureTime',\n",
    "       'MonthlyTotalHeatingDegreeDays', 'MonthlyTotalCoolingDegreeDays',\n",
    "       'MonthlyDeptFromNormalHeatingDD', 'MonthlyDeptFromNormalCoolingDD',\n",
    "       'MonthlyTotalSeasonToDateHeatingDD',\n",
    "       'MonthlyTotalSeasonToDateCoolingDD','DAILYAverageStationPressure',\n",
    "       'DAILYAverageSeaLevelPressure', 'DAILYAverageWindSpeed',\n",
    "       'DAILYPeakWindSpeed', 'PeakWindDirection', 'DAILYSustainedWindSpeed',\n",
    "       'DAILYSustainedWindDirection','DAILYMaximumDryBulbTemp',\n",
    "       'DAILYMinimumDryBulbTemp', 'DAILYAverageDryBulbTemp',\n",
    "       'DAILYDeptFromNormalAverageTemp', 'DAILYAverageRelativeHumidity',\n",
    "       'DAILYAverageDewPointTemp', 'DAILYAverageWetBulbTemp',\n",
    "       'DAILYHeatingDegreeDays', 'DAILYCoolingDegreeDays'], axis=1, inplace=True)"
   ]
  },
  {
   "cell_type": "code",
   "execution_count": 5,
   "metadata": {},
   "outputs": [
    {
     "data": {
      "text/plain": [
       "Index(['DATE', 'HOURLYWindSpeed', 'HOURLYWindGustSpeed',\n",
       "       'HOURLYStationPressure', 'HOURLYPressureTendency',\n",
       "       'HOURLYPressureChange', 'HOURLYSeaLevelPressure',\n",
       "       'HOURLYAltimeterSetting', 'DAILYSunrise', 'DAILYSunset', 'DAILYWeather',\n",
       "       'DAILYPrecip', 'DAILYSnowfall', 'DAILYSnowDepth'],\n",
       "      dtype='object')"
      ]
     },
     "execution_count": 5,
     "metadata": {},
     "output_type": "execute_result"
    }
   ],
   "source": [
    "df.columns"
   ]
  },
  {
   "cell_type": "code",
   "execution_count": 6,
   "metadata": {},
   "outputs": [
    {
     "data": {
      "text/plain": [
       "DATE                      55996\n",
       "HOURLYWindSpeed           50749\n",
       "HOURLYWindGustSpeed        9362\n",
       "HOURLYStationPressure     53604\n",
       "HOURLYPressureTendency    14083\n",
       "HOURLYPressureChange       2423\n",
       "HOURLYSeaLevelPressure    42318\n",
       "HOURLYAltimeterSetting    53660\n",
       "DAILYSunrise              55996\n",
       "DAILYSunset               55996\n",
       "DAILYWeather                776\n",
       "DAILYPrecip                2388\n",
       "DAILYSnowfall              1794\n",
       "DAILYSnowDepth             1794\n",
       "dtype: int64"
      ]
     },
     "execution_count": 6,
     "metadata": {},
     "output_type": "execute_result"
    }
   ],
   "source": [
    "df.count()"
   ]
  },
  {
   "cell_type": "code",
   "execution_count": 7,
   "metadata": {},
   "outputs": [
    {
     "data": {
      "text/html": [
       "<div>\n",
       "<style scoped>\n",
       "    .dataframe tbody tr th:only-of-type {\n",
       "        vertical-align: middle;\n",
       "    }\n",
       "\n",
       "    .dataframe tbody tr th {\n",
       "        vertical-align: top;\n",
       "    }\n",
       "\n",
       "    .dataframe thead th {\n",
       "        text-align: right;\n",
       "    }\n",
       "</style>\n",
       "<table border=\"1\" class=\"dataframe\">\n",
       "  <thead>\n",
       "    <tr style=\"text-align: right;\">\n",
       "      <th></th>\n",
       "      <th>DATE</th>\n",
       "      <th>HOURLYWindSpeed</th>\n",
       "      <th>HOURLYWindGustSpeed</th>\n",
       "      <th>HOURLYStationPressure</th>\n",
       "      <th>HOURLYPressureTendency</th>\n",
       "      <th>HOURLYPressureChange</th>\n",
       "      <th>HOURLYSeaLevelPressure</th>\n",
       "      <th>HOURLYAltimeterSetting</th>\n",
       "      <th>DAILYSunrise</th>\n",
       "      <th>DAILYSunset</th>\n",
       "      <th>DAILYWeather</th>\n",
       "      <th>DAILYPrecip</th>\n",
       "      <th>DAILYSnowfall</th>\n",
       "      <th>DAILYSnowDepth</th>\n",
       "    </tr>\n",
       "  </thead>\n",
       "  <tbody>\n",
       "    <tr>\n",
       "      <th>0</th>\n",
       "      <td>2013-01-01 00:51</td>\n",
       "      <td>10.0</td>\n",
       "      <td>22.0</td>\n",
       "      <td>29.72</td>\n",
       "      <td>8.0</td>\n",
       "      <td>NaN</td>\n",
       "      <td>29.87</td>\n",
       "      <td>29.89</td>\n",
       "      <td>720</td>\n",
       "      <td>1639</td>\n",
       "      <td>NaN</td>\n",
       "      <td>NaN</td>\n",
       "      <td>NaN</td>\n",
       "      <td>NaN</td>\n",
       "    </tr>\n",
       "  </tbody>\n",
       "</table>\n",
       "</div>"
      ],
      "text/plain": [
       "               DATE  HOURLYWindSpeed  HOURLYWindGustSpeed  \\\n",
       "0  2013-01-01 00:51             10.0                 22.0   \n",
       "\n",
       "  HOURLYStationPressure  HOURLYPressureTendency  HOURLYPressureChange  \\\n",
       "0                 29.72                     8.0                   NaN   \n",
       "\n",
       "  HOURLYSeaLevelPressure HOURLYAltimeterSetting  DAILYSunrise  DAILYSunset  \\\n",
       "0                  29.87                  29.89           720         1639   \n",
       "\n",
       "  DAILYWeather DAILYPrecip DAILYSnowfall DAILYSnowDepth  \n",
       "0          NaN         NaN           NaN            NaN  "
      ]
     },
     "execution_count": 7,
     "metadata": {},
     "output_type": "execute_result"
    }
   ],
   "source": [
    "df.head(1)"
   ]
  },
  {
   "cell_type": "raw",
   "metadata": {},
   "source": [
    "df.HOURLYWindSpeed.unique()"
   ]
  },
  {
   "cell_type": "raw",
   "metadata": {},
   "source": [
    "df.HOURLYStationPressure.unique()"
   ]
  },
  {
   "cell_type": "raw",
   "metadata": {},
   "source": [
    "df.HOURLYWindGustSpeed.unique()"
   ]
  },
  {
   "cell_type": "raw",
   "metadata": {},
   "source": [
    "df.HOURLYPressureTendency.unique()"
   ]
  },
  {
   "cell_type": "raw",
   "metadata": {},
   "source": [
    "df.HOURLYPressureChange.unique()"
   ]
  },
  {
   "cell_type": "raw",
   "metadata": {},
   "source": [
    "df.HOURLYSeaLevelPressure.unique()"
   ]
  },
  {
   "cell_type": "raw",
   "metadata": {},
   "source": [
    "df.HOURLYAltimeterSetting.unique()"
   ]
  },
  {
   "cell_type": "raw",
   "metadata": {},
   "source": [
    "df.DAILYSunrise.unique()"
   ]
  },
  {
   "cell_type": "raw",
   "metadata": {},
   "source": [
    "df.DAILYSunset.unique()"
   ]
  },
  {
   "cell_type": "markdown",
   "metadata": {},
   "source": [
    "DZ:01 - Drizzle | RA:02 - Rain | SN:03 - Snow | SG:04 - Snow Grains | IC:05 - Ice Crystals \n",
    "PL:06 - Ice Pellets | GR:07 - Hail | GS:08- Small Hail an/or Snow Pellets \n",
    "UP:09 - Unknown Precipitation | BR:1 - Mist | FG:2 - Fog | FU:3 - Smoke\n",
    "VA:4 - Volcanic Ash | DU:5 - Widespread Dust | SA:6 - Sand | HZ:7 - Haze\n",
    "PY:8 - Spray | PO:1 - Well developed dust/sand whirls | SQ:2 - Squalls\n",
    "FC:3 - Funnel CLoud, Waterspout or Tornado | SS:4 - Sandstorm | DS:5 - Duststorm"
   ]
  },
  {
   "cell_type": "raw",
   "metadata": {},
   "source": [
    "df.DAILYWeather.unique()"
   ]
  },
  {
   "cell_type": "raw",
   "metadata": {},
   "source": [
    "#T indicates trace amount.\n",
    "df.DAILYPrecip.unique()"
   ]
  },
  {
   "cell_type": "raw",
   "metadata": {},
   "source": [
    "#The depth of frozen precipitation like snow is measured in tenths (0.1) of an inch and \n",
    "#trace amounts are defined as less than half that amount (0.05 inch).\n",
    "#T indicates trace amount.\n",
    "df.DAILYSnowfall.unique()"
   ]
  },
  {
   "cell_type": "raw",
   "metadata": {},
   "source": [
    "#T indicates trace amount.\n",
    "df.DAILYSnowDepth.unique()"
   ]
  },
  {
   "cell_type": "code",
   "execution_count": 8,
   "metadata": {},
   "outputs": [
    {
     "data": {
      "text/html": [
       "<div>\n",
       "<style scoped>\n",
       "    .dataframe tbody tr th:only-of-type {\n",
       "        vertical-align: middle;\n",
       "    }\n",
       "\n",
       "    .dataframe tbody tr th {\n",
       "        vertical-align: top;\n",
       "    }\n",
       "\n",
       "    .dataframe thead th {\n",
       "        text-align: right;\n",
       "    }\n",
       "</style>\n",
       "<table border=\"1\" class=\"dataframe\">\n",
       "  <thead>\n",
       "    <tr style=\"text-align: right;\">\n",
       "      <th></th>\n",
       "      <th>DATE</th>\n",
       "      <th>HOURLYWindSpeed</th>\n",
       "      <th>HOURLYWindGustSpeed</th>\n",
       "      <th>HOURLYStationPressure</th>\n",
       "      <th>DAILYSunrise</th>\n",
       "      <th>DAILYSunset</th>\n",
       "      <th>DAILYPrecip</th>\n",
       "      <th>DAILYSnowfall</th>\n",
       "    </tr>\n",
       "  </thead>\n",
       "  <tbody>\n",
       "    <tr>\n",
       "      <th>0</th>\n",
       "      <td>2013-01-01 00:51</td>\n",
       "      <td>10.0</td>\n",
       "      <td>22.0</td>\n",
       "      <td>29.72</td>\n",
       "      <td>720</td>\n",
       "      <td>1639</td>\n",
       "      <td>NaN</td>\n",
       "      <td>NaN</td>\n",
       "    </tr>\n",
       "  </tbody>\n",
       "</table>\n",
       "</div>"
      ],
      "text/plain": [
       "               DATE  HOURLYWindSpeed  HOURLYWindGustSpeed  \\\n",
       "0  2013-01-01 00:51             10.0                 22.0   \n",
       "\n",
       "  HOURLYStationPressure  DAILYSunrise  DAILYSunset DAILYPrecip DAILYSnowfall  \n",
       "0                 29.72           720         1639         NaN           NaN  "
      ]
     },
     "execution_count": 8,
     "metadata": {},
     "output_type": "execute_result"
    }
   ],
   "source": [
    "df1 = df[['DATE', 'HOURLYWindSpeed', 'HOURLYWindGustSpeed',\n",
    "       'HOURLYStationPressure', 'DAILYSunrise', 'DAILYSunset',\n",
    "       'DAILYPrecip', 'DAILYSnowfall']]\n",
    "df1.head(1)"
   ]
  },
  {
   "cell_type": "raw",
   "metadata": {},
   "source": [
    "df1.dtypes"
   ]
  },
  {
   "cell_type": "raw",
   "metadata": {},
   "source": [
    "df1.HOURLYStationPressure.to_numeric"
   ]
  },
  {
   "cell_type": "markdown",
   "metadata": {},
   "source": [
    "#### weather data -- daily summary"
   ]
  },
  {
   "cell_type": "code",
   "execution_count": 9,
   "metadata": {},
   "outputs": [],
   "source": [
    "df2 = pd.read_csv('weather_daily_summary_2013_now.csv')"
   ]
  },
  {
   "cell_type": "code",
   "execution_count": 10,
   "metadata": {},
   "outputs": [
    {
     "name": "stdout",
     "output_type": "stream",
     "text": [
      "Shape of data\n",
      "(1794, 27)\n"
     ]
    }
   ],
   "source": [
    "print (\"Shape of data\\n{}\".format(df2.shape))"
   ]
  },
  {
   "cell_type": "code",
   "execution_count": 11,
   "metadata": {},
   "outputs": [
    {
     "data": {
      "text/plain": [
       "STATION      1794\n",
       "NAME         1794\n",
       "LATITUDE     1794\n",
       "LONGITUDE    1794\n",
       "ELEVATION    1794\n",
       "DATE         1794\n",
       "AWND         1781\n",
       "PGTM            1\n",
       "PRCP         1794\n",
       "SNOW         1793\n",
       "SNWD         1793\n",
       "TAVG            0\n",
       "TMAX         1794\n",
       "TMIN         1794\n",
       "WSF2         1784\n",
       "WSF5         1768\n",
       "WT01          508\n",
       "WT02           32\n",
       "WT04            5\n",
       "WT06            7\n",
       "WT08          347\n",
       "WT13           27\n",
       "WT14            1\n",
       "WT16           23\n",
       "WT18           21\n",
       "WT19            9\n",
       "WT22            2\n",
       "dtype: int64"
      ]
     },
     "execution_count": 11,
     "metadata": {},
     "output_type": "execute_result"
    }
   ],
   "source": [
    "df2.count()"
   ]
  },
  {
   "cell_type": "raw",
   "metadata": {},
   "source": [
    "WSF2 - Fastest 2-minute wind speed\n",
    "WSF5 - Fastest 5-second wind speed\n",
    "SNOW - Snowfall\n",
    "WT03 - Thunder\n",
    "WESF - Water equivalent of snowfall\n",
    "WT04 - Ice pellets, sleet, snow pellets, or small hail\" \n",
    "PRCP - Precipitation\n",
    "WT05 - Hail (may include small hail)\n",
    "WT06 - Glaze or rime \n",
    "WT08 - Smoke or haze \n",
    "MDSF - Multiday snowfall total \n",
    "SNWD - Snow depth\n",
    "WT09 - Blowing or drifting snow\n",
    "AWND - Average wind speed\n",
    "WT10 - Tornado, waterspout, or funnel cloud\" \n",
    "PGTM - Peak gust time\n",
    "WT11 - High or damaging winds\n",
    "WT01 - Fog, ice fog, or freezing fog (may include heavy fog)\n",
    "TMAX - Maximum temperature\n",
    "WESD - Water equivalent of snow on the ground\n",
    "WT02 - Heavy fog or heaving freezing fog (not always distinguished from fog)\n",
    "TAVG - Average Temperature.\n",
    "TMIN - Minimum temperature\n",
    "MDPR - Multiday precipitation total (use with DAPR and DWPR, if available)"
   ]
  },
  {
   "cell_type": "code",
   "execution_count": 12,
   "metadata": {},
   "outputs": [
    {
     "data": {
      "text/html": [
       "<div>\n",
       "<style scoped>\n",
       "    .dataframe tbody tr th:only-of-type {\n",
       "        vertical-align: middle;\n",
       "    }\n",
       "\n",
       "    .dataframe tbody tr th {\n",
       "        vertical-align: top;\n",
       "    }\n",
       "\n",
       "    .dataframe thead th {\n",
       "        text-align: right;\n",
       "    }\n",
       "</style>\n",
       "<table border=\"1\" class=\"dataframe\">\n",
       "  <thead>\n",
       "    <tr style=\"text-align: right;\">\n",
       "      <th></th>\n",
       "      <th>STATION</th>\n",
       "      <th>NAME</th>\n",
       "      <th>LATITUDE</th>\n",
       "      <th>LONGITUDE</th>\n",
       "      <th>ELEVATION</th>\n",
       "      <th>DATE</th>\n",
       "      <th>AWND</th>\n",
       "      <th>PGTM</th>\n",
       "      <th>PRCP</th>\n",
       "      <th>SNOW</th>\n",
       "      <th>...</th>\n",
       "      <th>WT02</th>\n",
       "      <th>WT04</th>\n",
       "      <th>WT06</th>\n",
       "      <th>WT08</th>\n",
       "      <th>WT13</th>\n",
       "      <th>WT14</th>\n",
       "      <th>WT16</th>\n",
       "      <th>WT18</th>\n",
       "      <th>WT19</th>\n",
       "      <th>WT22</th>\n",
       "    </tr>\n",
       "  </thead>\n",
       "  <tbody>\n",
       "    <tr>\n",
       "      <th>0</th>\n",
       "      <td>USW00094728</td>\n",
       "      <td>NY CITY CENTRAL PARK, NY US</td>\n",
       "      <td>40.77898</td>\n",
       "      <td>-73.96925</td>\n",
       "      <td>42.7</td>\n",
       "      <td>2013-01-01</td>\n",
       "      <td>6.93</td>\n",
       "      <td>NaN</td>\n",
       "      <td>0.0</td>\n",
       "      <td>0.0</td>\n",
       "      <td>...</td>\n",
       "      <td>NaN</td>\n",
       "      <td>NaN</td>\n",
       "      <td>NaN</td>\n",
       "      <td>NaN</td>\n",
       "      <td>NaN</td>\n",
       "      <td>NaN</td>\n",
       "      <td>NaN</td>\n",
       "      <td>NaN</td>\n",
       "      <td>NaN</td>\n",
       "      <td>NaN</td>\n",
       "    </tr>\n",
       "  </tbody>\n",
       "</table>\n",
       "<p>1 rows × 27 columns</p>\n",
       "</div>"
      ],
      "text/plain": [
       "       STATION                         NAME  LATITUDE  LONGITUDE  ELEVATION  \\\n",
       "0  USW00094728  NY CITY CENTRAL PARK, NY US  40.77898  -73.96925       42.7   \n",
       "\n",
       "         DATE  AWND  PGTM  PRCP  SNOW  ...   WT02  WT04  WT06  WT08  WT13  \\\n",
       "0  2013-01-01  6.93   NaN   0.0   0.0  ...    NaN   NaN   NaN   NaN   NaN   \n",
       "\n",
       "   WT14  WT16  WT18  WT19  WT22  \n",
       "0   NaN   NaN   NaN   NaN   NaN  \n",
       "\n",
       "[1 rows x 27 columns]"
      ]
     },
     "execution_count": 12,
     "metadata": {},
     "output_type": "execute_result"
    }
   ],
   "source": [
    "df2.head(1)"
   ]
  },
  {
   "cell_type": "code",
   "execution_count": 13,
   "metadata": {},
   "outputs": [
    {
     "data": {
      "text/plain": [
       "STATION       object\n",
       "NAME          object\n",
       "LATITUDE     float64\n",
       "LONGITUDE    float64\n",
       "ELEVATION    float64\n",
       "DATE          object\n",
       "AWND         float64\n",
       "PGTM         float64\n",
       "PRCP         float64\n",
       "SNOW         float64\n",
       "SNWD         float64\n",
       "TAVG         float64\n",
       "TMAX           int64\n",
       "TMIN           int64\n",
       "WSF2         float64\n",
       "WSF5         float64\n",
       "WT01         float64\n",
       "WT02         float64\n",
       "WT04         float64\n",
       "WT06         float64\n",
       "WT08         float64\n",
       "WT13         float64\n",
       "WT14         float64\n",
       "WT16         float64\n",
       "WT18         float64\n",
       "WT19         float64\n",
       "WT22         float64\n",
       "dtype: object"
      ]
     },
     "execution_count": 13,
     "metadata": {},
     "output_type": "execute_result"
    }
   ],
   "source": [
    "df2.dtypes"
   ]
  },
  {
   "cell_type": "code",
   "execution_count": 18,
   "metadata": {},
   "outputs": [
    {
     "data": {
      "text/plain": [
       "array(['USW00094728'], dtype=object)"
      ]
     },
     "execution_count": 18,
     "metadata": {},
     "output_type": "execute_result"
    }
   ],
   "source": [
    "df2.STATION.unique()"
   ]
  },
  {
   "cell_type": "code",
   "execution_count": null,
   "metadata": {},
   "outputs": [],
   "source": [
    "df2.columns"
   ]
  },
  {
   "cell_type": "code",
   "execution_count": null,
   "metadata": {},
   "outputs": [],
   "source": []
  },
  {
   "cell_type": "code",
   "execution_count": null,
   "metadata": {},
   "outputs": [],
   "source": []
  },
  {
   "cell_type": "code",
   "execution_count": null,
   "metadata": {},
   "outputs": [],
   "source": []
  },
  {
   "cell_type": "code",
   "execution_count": null,
   "metadata": {},
   "outputs": [],
   "source": []
  },
  {
   "cell_type": "code",
   "execution_count": null,
   "metadata": {},
   "outputs": [],
   "source": []
  },
  {
   "cell_type": "markdown",
   "metadata": {},
   "source": [
    "#### Storm data"
   ]
  },
  {
   "cell_type": "code",
   "execution_count": 15,
   "metadata": {},
   "outputs": [
    {
     "data": {
      "text/html": [
       "<div>\n",
       "<style scoped>\n",
       "    .dataframe tbody tr th:only-of-type {\n",
       "        vertical-align: middle;\n",
       "    }\n",
       "\n",
       "    .dataframe tbody tr th {\n",
       "        vertical-align: top;\n",
       "    }\n",
       "\n",
       "    .dataframe thead th {\n",
       "        text-align: right;\n",
       "    }\n",
       "</style>\n",
       "<table border=\"1\" class=\"dataframe\">\n",
       "  <thead>\n",
       "    <tr style=\"text-align: right;\">\n",
       "      <th></th>\n",
       "      <th>EVENT_ID</th>\n",
       "      <th>CZ_NAME_STR</th>\n",
       "      <th>BEGIN_LOCATION</th>\n",
       "      <th>BEGIN_DATE</th>\n",
       "      <th>BEGIN_TIME</th>\n",
       "      <th>EVENT_TYPE</th>\n",
       "      <th>MAGNITUDE</th>\n",
       "      <th>TOR_F_SCALE</th>\n",
       "      <th>DEATHS_DIRECT</th>\n",
       "      <th>INJURIES_DIRECT</th>\n",
       "      <th>...</th>\n",
       "      <th>BEGIN_RANGE</th>\n",
       "      <th>BEGIN_AZIMUTH</th>\n",
       "      <th>END_RANGE</th>\n",
       "      <th>END_AZIMUTH</th>\n",
       "      <th>END_LOCATION</th>\n",
       "      <th>BEGIN_LAT</th>\n",
       "      <th>BEGIN_LON</th>\n",
       "      <th>END_LAT</th>\n",
       "      <th>END_LON</th>\n",
       "      <th>ABSOLUTE_ROWNUMBER</th>\n",
       "    </tr>\n",
       "  </thead>\n",
       "  <tbody>\n",
       "    <tr>\n",
       "      <th>0</th>\n",
       "      <td>421883</td>\n",
       "      <td>NEW YORK (MANHATTAN) (ZONE)</td>\n",
       "      <td></td>\n",
       "      <td>01/31/2013</td>\n",
       "      <td>0</td>\n",
       "      <td>High Wind</td>\n",
       "      <td>50.00</td>\n",
       "      <td></td>\n",
       "      <td>0</td>\n",
       "      <td>0</td>\n",
       "      <td>...</td>\n",
       "      <td></td>\n",
       "      <td></td>\n",
       "      <td></td>\n",
       "      <td></td>\n",
       "      <td></td>\n",
       "      <td></td>\n",
       "      <td></td>\n",
       "      <td></td>\n",
       "      <td></td>\n",
       "      <td>1</td>\n",
       "    </tr>\n",
       "    <tr>\n",
       "      <th>1</th>\n",
       "      <td>436900</td>\n",
       "      <td>NEW YORK (MANHATTAN) (ZONE)</td>\n",
       "      <td></td>\n",
       "      <td>02/08/2013</td>\n",
       "      <td>1400</td>\n",
       "      <td>Winter Storm</td>\n",
       "      <td></td>\n",
       "      <td></td>\n",
       "      <td>0</td>\n",
       "      <td>0</td>\n",
       "      <td>...</td>\n",
       "      <td></td>\n",
       "      <td></td>\n",
       "      <td></td>\n",
       "      <td></td>\n",
       "      <td></td>\n",
       "      <td></td>\n",
       "      <td></td>\n",
       "      <td></td>\n",
       "      <td></td>\n",
       "      <td>2</td>\n",
       "    </tr>\n",
       "    <tr>\n",
       "      <th>2</th>\n",
       "      <td>452589</td>\n",
       "      <td>NEW YORK CO.</td>\n",
       "      <td>NEW YORK</td>\n",
       "      <td>05/11/2013</td>\n",
       "      <td>1508</td>\n",
       "      <td>Thunderstorm Wind</td>\n",
       "      <td>61.00</td>\n",
       "      <td></td>\n",
       "      <td>0</td>\n",
       "      <td>0</td>\n",
       "      <td>...</td>\n",
       "      <td>1</td>\n",
       "      <td>SW</td>\n",
       "      <td>1</td>\n",
       "      <td>SW</td>\n",
       "      <td>NEW YORK</td>\n",
       "      <td>40.716</td>\n",
       "      <td>-74.0165</td>\n",
       "      <td>40.716</td>\n",
       "      <td>-74.0165</td>\n",
       "      <td>3</td>\n",
       "    </tr>\n",
       "    <tr>\n",
       "      <th>3</th>\n",
       "      <td>452588</td>\n",
       "      <td>NEW YORK CO.</td>\n",
       "      <td>NEW YORK</td>\n",
       "      <td>05/11/2013</td>\n",
       "      <td>1508</td>\n",
       "      <td>Thunderstorm Wind</td>\n",
       "      <td>65.00</td>\n",
       "      <td></td>\n",
       "      <td>0</td>\n",
       "      <td>0</td>\n",
       "      <td>...</td>\n",
       "      <td>2</td>\n",
       "      <td>SSW</td>\n",
       "      <td>2</td>\n",
       "      <td>SSW</td>\n",
       "      <td>NEW YORK</td>\n",
       "      <td>40.7108</td>\n",
       "      <td>-74.0161</td>\n",
       "      <td>40.7108</td>\n",
       "      <td>-74.0161</td>\n",
       "      <td>4</td>\n",
       "    </tr>\n",
       "    <tr>\n",
       "      <th>4</th>\n",
       "      <td>459595</td>\n",
       "      <td>NEW YORK CO.</td>\n",
       "      <td>CENTRAL PARK</td>\n",
       "      <td>06/02/2013</td>\n",
       "      <td>2259</td>\n",
       "      <td>Flash Flood</td>\n",
       "      <td></td>\n",
       "      <td></td>\n",
       "      <td>0</td>\n",
       "      <td>0</td>\n",
       "      <td>...</td>\n",
       "      <td>2</td>\n",
       "      <td>NNE</td>\n",
       "      <td>2</td>\n",
       "      <td>NNE</td>\n",
       "      <td>CENTRAL PARK</td>\n",
       "      <td>40.8032</td>\n",
       "      <td>-73.9314</td>\n",
       "      <td>40.801</td>\n",
       "      <td>-73.9321</td>\n",
       "      <td>5</td>\n",
       "    </tr>\n",
       "  </tbody>\n",
       "</table>\n",
       "<p>5 rows × 35 columns</p>\n",
       "</div>"
      ],
      "text/plain": [
       "   EVENT_ID                  CZ_NAME_STR BEGIN_LOCATION  BEGIN_DATE  \\\n",
       "0    421883  NEW YORK (MANHATTAN) (ZONE)                 01/31/2013   \n",
       "1    436900  NEW YORK (MANHATTAN) (ZONE)                 02/08/2013   \n",
       "2    452589                 NEW YORK CO.       NEW YORK  05/11/2013   \n",
       "3    452588                 NEW YORK CO.       NEW YORK  05/11/2013   \n",
       "4    459595                 NEW YORK CO.   CENTRAL PARK  06/02/2013   \n",
       "\n",
       "   BEGIN_TIME         EVENT_TYPE MAGNITUDE TOR_F_SCALE  DEATHS_DIRECT  \\\n",
       "0           0          High Wind     50.00                          0   \n",
       "1        1400       Winter Storm                                    0   \n",
       "2        1508  Thunderstorm Wind     61.00                          0   \n",
       "3        1508  Thunderstorm Wind     65.00                          0   \n",
       "4        2259        Flash Flood                                    0   \n",
       "\n",
       "   INJURIES_DIRECT         ...          BEGIN_RANGE  BEGIN_AZIMUTH END_RANGE  \\\n",
       "0                0         ...                                                 \n",
       "1                0         ...                                                 \n",
       "2                0         ...                    1             SW         1   \n",
       "3                0         ...                    2            SSW         2   \n",
       "4                0         ...                    2            NNE         2   \n",
       "\n",
       "  END_AZIMUTH  END_LOCATION  BEGIN_LAT BEGIN_LON  END_LAT   END_LON  \\\n",
       "0                                                                     \n",
       "1                                                                     \n",
       "2          SW      NEW YORK     40.716  -74.0165   40.716  -74.0165   \n",
       "3         SSW      NEW YORK    40.7108  -74.0161  40.7108  -74.0161   \n",
       "4         NNE  CENTRAL PARK    40.8032  -73.9314   40.801  -73.9321   \n",
       "\n",
       "   ABSOLUTE_ROWNUMBER  \n",
       "0                   1  \n",
       "1                   2  \n",
       "2                   3  \n",
       "3                   4  \n",
       "4                   5  \n",
       "\n",
       "[5 rows x 35 columns]"
      ]
     },
     "execution_count": 15,
     "metadata": {},
     "output_type": "execute_result"
    }
   ],
   "source": [
    "dfbad = pd.read_csv('storm_data_search_results.csv')\n",
    "dfbad.head()"
   ]
  },
  {
   "cell_type": "code",
   "execution_count": 16,
   "metadata": {},
   "outputs": [
    {
     "data": {
      "text/plain": [
       "array(['High Wind', 'Winter Storm', 'Thunderstorm Wind', 'Flash Flood',\n",
       "       'Flood', 'Excessive Heat', 'Strong Wind', 'Dense Fog',\n",
       "       'Winter Weather', 'Heavy Snow', 'Blizzard'], dtype=object)"
      ]
     },
     "execution_count": 16,
     "metadata": {},
     "output_type": "execute_result"
    }
   ],
   "source": [
    "dfbad['EVENT_TYPE'].unique()"
   ]
  },
  {
   "cell_type": "code",
   "execution_count": 17,
   "metadata": {},
   "outputs": [
    {
     "data": {
      "text/html": [
       "<div>\n",
       "<style scoped>\n",
       "    .dataframe tbody tr th:only-of-type {\n",
       "        vertical-align: middle;\n",
       "    }\n",
       "\n",
       "    .dataframe tbody tr th {\n",
       "        vertical-align: top;\n",
       "    }\n",
       "\n",
       "    .dataframe thead th {\n",
       "        text-align: right;\n",
       "    }\n",
       "</style>\n",
       "<table border=\"1\" class=\"dataframe\">\n",
       "  <thead>\n",
       "    <tr style=\"text-align: right;\">\n",
       "      <th></th>\n",
       "      <th>EVENT_ID</th>\n",
       "      <th>CZ_NAME_STR</th>\n",
       "      <th>BEGIN_LOCATION</th>\n",
       "      <th>BEGIN_DATE</th>\n",
       "      <th>BEGIN_TIME</th>\n",
       "      <th>EVENT_TYPE</th>\n",
       "      <th>MAGNITUDE</th>\n",
       "      <th>TOR_F_SCALE</th>\n",
       "      <th>DEATHS_DIRECT</th>\n",
       "      <th>INJURIES_DIRECT</th>\n",
       "      <th>...</th>\n",
       "      <th>BEGIN_RANGE</th>\n",
       "      <th>BEGIN_AZIMUTH</th>\n",
       "      <th>END_RANGE</th>\n",
       "      <th>END_AZIMUTH</th>\n",
       "      <th>END_LOCATION</th>\n",
       "      <th>BEGIN_LAT</th>\n",
       "      <th>BEGIN_LON</th>\n",
       "      <th>END_LAT</th>\n",
       "      <th>END_LON</th>\n",
       "      <th>ABSOLUTE_ROWNUMBER</th>\n",
       "    </tr>\n",
       "  </thead>\n",
       "  <tbody>\n",
       "    <tr>\n",
       "      <th>5</th>\n",
       "      <td>467533</td>\n",
       "      <td>NEW YORK CO.</td>\n",
       "      <td>CENTRAL PARK</td>\n",
       "      <td>06/07/2013</td>\n",
       "      <td>2205</td>\n",
       "      <td>Flood</td>\n",
       "      <td></td>\n",
       "      <td></td>\n",
       "      <td>0</td>\n",
       "      <td>0</td>\n",
       "      <td>...</td>\n",
       "      <td>1</td>\n",
       "      <td>NNW</td>\n",
       "      <td>2</td>\n",
       "      <td>NW</td>\n",
       "      <td>CENTRAL PARK</td>\n",
       "      <td>40.7942</td>\n",
       "      <td>-73.9547</td>\n",
       "      <td>40.7939</td>\n",
       "      <td>-73.9732</td>\n",
       "      <td>6</td>\n",
       "    </tr>\n",
       "  </tbody>\n",
       "</table>\n",
       "<p>1 rows × 35 columns</p>\n",
       "</div>"
      ],
      "text/plain": [
       "   EVENT_ID   CZ_NAME_STR BEGIN_LOCATION  BEGIN_DATE  BEGIN_TIME EVENT_TYPE  \\\n",
       "5    467533  NEW YORK CO.   CENTRAL PARK  06/07/2013        2205      Flood   \n",
       "\n",
       "  MAGNITUDE TOR_F_SCALE  DEATHS_DIRECT  INJURIES_DIRECT         ...          \\\n",
       "5                                    0                0         ...           \n",
       "\n",
       "   BEGIN_RANGE  BEGIN_AZIMUTH END_RANGE END_AZIMUTH  END_LOCATION  BEGIN_LAT  \\\n",
       "5            1            NNW         2          NW  CENTRAL PARK    40.7942   \n",
       "\n",
       "  BEGIN_LON  END_LAT   END_LON  ABSOLUTE_ROWNUMBER  \n",
       "5  -73.9547  40.7939  -73.9732                   6  \n",
       "\n",
       "[1 rows x 35 columns]"
      ]
     },
     "execution_count": 17,
     "metadata": {},
     "output_type": "execute_result"
    }
   ],
   "source": [
    "dfbad[dfbad['EVENT_TYPE'] == 'Flood']"
   ]
  },
  {
   "cell_type": "code",
   "execution_count": null,
   "metadata": {},
   "outputs": [],
   "source": []
  },
  {
   "cell_type": "code",
   "execution_count": null,
   "metadata": {},
   "outputs": [],
   "source": []
  },
  {
   "cell_type": "code",
   "execution_count": null,
   "metadata": {},
   "outputs": [],
   "source": []
  },
  {
   "cell_type": "code",
   "execution_count": null,
   "metadata": {},
   "outputs": [],
   "source": []
  },
  {
   "cell_type": "code",
   "execution_count": null,
   "metadata": {},
   "outputs": [],
   "source": []
  },
  {
   "cell_type": "code",
   "execution_count": null,
   "metadata": {},
   "outputs": [],
   "source": []
  }
 ],
 "metadata": {
  "kernelspec": {
   "display_name": "Python 3",
   "language": "python",
   "name": "python3"
  },
  "language_info": {
   "codemirror_mode": {
    "name": "ipython",
    "version": 3
   },
   "file_extension": ".py",
   "mimetype": "text/x-python",
   "name": "python",
   "nbconvert_exporter": "python",
   "pygments_lexer": "ipython3",
   "version": "3.6.1"
  }
 },
 "nbformat": 4,
 "nbformat_minor": 2
}
