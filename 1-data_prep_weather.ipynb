{
 "cells": [
  {
   "cell_type": "code",
   "execution_count": 1,
   "metadata": {},
   "outputs": [],
   "source": [
    "from __future__ import print_function, division\n",
    "%matplotlib inline\n",
    "import os\n",
    "import pandas as pd\n",
    "import numpy as np\n",
    "import matplotlib\n",
    "import matplotlib.pyplot as plt\n",
    "import geopandas as gpd\n",
    "import requests\n",
    "import json\n",
    "from io import StringIO\n",
    "import io\n",
    "import shapely\n",
    "\n",
    "DEVELOPE = True"
   ]
  },
  {
   "cell_type": "raw",
   "metadata": {},
   "source": [
    "from NOAAapi import myAPI"
   ]
  },
  {
   "cell_type": "markdown",
   "metadata": {},
   "source": [
    "#### weather data - Local Climatological Data (LCD)"
   ]
  },
  {
   "cell_type": "code",
   "execution_count": 2,
   "metadata": {},
   "outputs": [
    {
     "name": "stderr",
     "output_type": "stream",
     "text": [
      "/Library/Frameworks/Python.framework/Versions/3.6/lib/python3.6/site-packages/IPython/core/interactiveshell.py:2698: DtypeWarning: Columns (10,11,14,15,20,23,25,40,44,45,67,68,84,85,86,87) have mixed types. Specify dtype option on import or set low_memory=False.\n",
      "  interactivity=interactivity, compiler=compiler, result=result)\n"
     ]
    }
   ],
   "source": [
    "df = pd.read_csv('weather130101-171130.csv')"
   ]
  },
  {
   "cell_type": "code",
   "execution_count": 3,
   "metadata": {},
   "outputs": [
    {
     "name": "stdout",
     "output_type": "stream",
     "text": [
      "Shape of data\n",
      "(55996, 90)\n"
     ]
    }
   ],
   "source": [
    "print (\"Shape of data\\n{}\".format(df.shape))"
   ]
  },
  {
   "cell_type": "code",
   "execution_count": 4,
   "metadata": {},
   "outputs": [],
   "source": [
    "df.drop(['STATION', 'STATION_NAME', 'ELEVATION', 'LATITUDE', \n",
    "              'LONGITUDE', 'REPORTTPYE', 'HOURLYSKYCONDITIONS', \n",
    "              'HOURLYVISIBILITY', 'HOURLYPRSENTWEATHERTYPE', \n",
    "              'HOURLYDRYBULBTEMPF', 'HOURLYDRYBULBTEMPC', \n",
    "              'HOURLYWETBULBTEMPF', 'HOURLYWETBULBTEMPC', \n",
    "              'HOURLYDewPointTempF', 'HOURLYDewPointTempC', \n",
    "              'HOURLYRelativeHumidity', 'HOURLYWindDirection',\n",
    "              'HOURLYPrecip', 'MonthlyMaximumTemp',\n",
    "       'MonthlyMinimumTemp', 'MonthlyMeanTemp', 'MonthlyAverageRH',\n",
    "       'MonthlyDewpointTemp', 'MonthlyWetBulbTemp',\n",
    "       'MonthlyAvgHeatingDegreeDays', 'MonthlyAvgCoolingDegreeDays',\n",
    "       'MonthlyStationPressure', 'MonthlySeaLevelPressure',\n",
    "       'MonthlyAverageWindSpeed', 'MonthlyTotalSnowfall',\n",
    "       'MonthlyDeptFromNormalMaximumTemp', 'MonthlyDeptFromNormalMinimumTemp',\n",
    "       'MonthlyDeptFromNormalAverageTemp', 'MonthlyDeptFromNormalPrecip',\n",
    "       'MonthlyTotalLiquidPrecip', 'MonthlyGreatestPrecip',\n",
    "       'MonthlyGreatestPrecipDate', 'MonthlyGreatestSnowfall',\n",
    "       'MonthlyGreatestSnowfallDate', 'MonthlyGreatestSnowDepth',\n",
    "       'MonthlyGreatestSnowDepthDate', 'MonthlyDaysWithGT90Temp',\n",
    "       'MonthlyDaysWithLT32Temp', 'MonthlyDaysWithGT32Temp',\n",
    "       'MonthlyDaysWithLT0Temp', 'MonthlyDaysWithGT001Precip',\n",
    "       'MonthlyDaysWithGT010Precip', 'MonthlyDaysWithGT1Snow',\n",
    "       'MonthlyMaxSeaLevelPressureValue', 'MonthlyMaxSeaLevelPressureDate',\n",
    "       'MonthlyMaxSeaLevelPressureTime', 'MonthlyMinSeaLevelPressureValue',\n",
    "       'MonthlyMinSeaLevelPressureDate', 'MonthlyMinSeaLevelPressureTime',\n",
    "       'MonthlyTotalHeatingDegreeDays', 'MonthlyTotalCoolingDegreeDays',\n",
    "       'MonthlyDeptFromNormalHeatingDD', 'MonthlyDeptFromNormalCoolingDD',\n",
    "       'MonthlyTotalSeasonToDateHeatingDD',\n",
    "       'MonthlyTotalSeasonToDateCoolingDD','DAILYAverageStationPressure',\n",
    "       'DAILYAverageSeaLevelPressure', 'DAILYAverageWindSpeed',\n",
    "       'DAILYPeakWindSpeed', 'PeakWindDirection', 'DAILYSustainedWindSpeed',\n",
    "       'DAILYSustainedWindDirection','DAILYMaximumDryBulbTemp',\n",
    "       'DAILYMinimumDryBulbTemp', 'DAILYAverageDryBulbTemp',\n",
    "       'DAILYDeptFromNormalAverageTemp', 'DAILYAverageRelativeHumidity',\n",
    "       'DAILYAverageDewPointTemp', 'DAILYAverageWetBulbTemp',\n",
    "       'DAILYHeatingDegreeDays', 'DAILYCoolingDegreeDays'], axis=1, inplace=True)"
   ]
  },
  {
   "cell_type": "code",
   "execution_count": 5,
   "metadata": {},
   "outputs": [
    {
     "data": {
      "text/plain": [
       "Index(['DATE', 'HOURLYWindSpeed', 'HOURLYWindGustSpeed',\n",
       "       'HOURLYStationPressure', 'HOURLYPressureTendency',\n",
       "       'HOURLYPressureChange', 'HOURLYSeaLevelPressure',\n",
       "       'HOURLYAltimeterSetting', 'DAILYSunrise', 'DAILYSunset', 'DAILYWeather',\n",
       "       'DAILYPrecip', 'DAILYSnowfall', 'DAILYSnowDepth'],\n",
       "      dtype='object')"
      ]
     },
     "execution_count": 5,
     "metadata": {},
     "output_type": "execute_result"
    }
   ],
   "source": [
    "df.columns"
   ]
  },
  {
   "cell_type": "code",
   "execution_count": 6,
   "metadata": {},
   "outputs": [
    {
     "data": {
      "text/plain": [
       "DATE                      55996\n",
       "HOURLYWindSpeed           50749\n",
       "HOURLYWindGustSpeed        9362\n",
       "HOURLYStationPressure     53604\n",
       "HOURLYPressureTendency    14083\n",
       "HOURLYPressureChange       2423\n",
       "HOURLYSeaLevelPressure    42318\n",
       "HOURLYAltimeterSetting    53660\n",
       "DAILYSunrise              55996\n",
       "DAILYSunset               55996\n",
       "DAILYWeather                776\n",
       "DAILYPrecip                2388\n",
       "DAILYSnowfall              1794\n",
       "DAILYSnowDepth             1794\n",
       "dtype: int64"
      ]
     },
     "execution_count": 6,
     "metadata": {},
     "output_type": "execute_result"
    }
   ],
   "source": [
    "df.count()"
   ]
  },
  {
   "cell_type": "code",
   "execution_count": 7,
   "metadata": {},
   "outputs": [
    {
     "data": {
      "text/html": [
       "<div>\n",
       "<style scoped>\n",
       "    .dataframe tbody tr th:only-of-type {\n",
       "        vertical-align: middle;\n",
       "    }\n",
       "\n",
       "    .dataframe tbody tr th {\n",
       "        vertical-align: top;\n",
       "    }\n",
       "\n",
       "    .dataframe thead th {\n",
       "        text-align: right;\n",
       "    }\n",
       "</style>\n",
       "<table border=\"1\" class=\"dataframe\">\n",
       "  <thead>\n",
       "    <tr style=\"text-align: right;\">\n",
       "      <th></th>\n",
       "      <th>DATE</th>\n",
       "      <th>HOURLYWindSpeed</th>\n",
       "      <th>HOURLYWindGustSpeed</th>\n",
       "      <th>HOURLYStationPressure</th>\n",
       "      <th>HOURLYPressureTendency</th>\n",
       "      <th>HOURLYPressureChange</th>\n",
       "      <th>HOURLYSeaLevelPressure</th>\n",
       "      <th>HOURLYAltimeterSetting</th>\n",
       "      <th>DAILYSunrise</th>\n",
       "      <th>DAILYSunset</th>\n",
       "      <th>DAILYWeather</th>\n",
       "      <th>DAILYPrecip</th>\n",
       "      <th>DAILYSnowfall</th>\n",
       "      <th>DAILYSnowDepth</th>\n",
       "    </tr>\n",
       "  </thead>\n",
       "  <tbody>\n",
       "    <tr>\n",
       "      <th>0</th>\n",
       "      <td>2013-01-01 00:51</td>\n",
       "      <td>10.0</td>\n",
       "      <td>22.0</td>\n",
       "      <td>29.72</td>\n",
       "      <td>8.0</td>\n",
       "      <td>NaN</td>\n",
       "      <td>29.87</td>\n",
       "      <td>29.89</td>\n",
       "      <td>720</td>\n",
       "      <td>1639</td>\n",
       "      <td>NaN</td>\n",
       "      <td>NaN</td>\n",
       "      <td>NaN</td>\n",
       "      <td>NaN</td>\n",
       "    </tr>\n",
       "    <tr>\n",
       "      <th>1</th>\n",
       "      <td>2013-01-01 01:51</td>\n",
       "      <td>3.0</td>\n",
       "      <td>17.0</td>\n",
       "      <td>29.73</td>\n",
       "      <td>NaN</td>\n",
       "      <td>NaN</td>\n",
       "      <td>29.88</td>\n",
       "      <td>29.90</td>\n",
       "      <td>720</td>\n",
       "      <td>1639</td>\n",
       "      <td>NaN</td>\n",
       "      <td>NaN</td>\n",
       "      <td>NaN</td>\n",
       "      <td>NaN</td>\n",
       "    </tr>\n",
       "    <tr>\n",
       "      <th>2</th>\n",
       "      <td>2013-01-01 02:51</td>\n",
       "      <td>7.0</td>\n",
       "      <td>NaN</td>\n",
       "      <td>29.73</td>\n",
       "      <td>NaN</td>\n",
       "      <td>NaN</td>\n",
       "      <td>29.88</td>\n",
       "      <td>29.90</td>\n",
       "      <td>720</td>\n",
       "      <td>1639</td>\n",
       "      <td>NaN</td>\n",
       "      <td>NaN</td>\n",
       "      <td>NaN</td>\n",
       "      <td>NaN</td>\n",
       "    </tr>\n",
       "    <tr>\n",
       "      <th>3</th>\n",
       "      <td>2013-01-01 03:51</td>\n",
       "      <td>9.0</td>\n",
       "      <td>NaN</td>\n",
       "      <td>29.74</td>\n",
       "      <td>3.0</td>\n",
       "      <td>NaN</td>\n",
       "      <td>29.88</td>\n",
       "      <td>29.91</td>\n",
       "      <td>720</td>\n",
       "      <td>1639</td>\n",
       "      <td>NaN</td>\n",
       "      <td>NaN</td>\n",
       "      <td>NaN</td>\n",
       "      <td>NaN</td>\n",
       "    </tr>\n",
       "    <tr>\n",
       "      <th>4</th>\n",
       "      <td>2013-01-01 04:51</td>\n",
       "      <td>7.0</td>\n",
       "      <td>NaN</td>\n",
       "      <td>29.73</td>\n",
       "      <td>NaN</td>\n",
       "      <td>NaN</td>\n",
       "      <td>29.88</td>\n",
       "      <td>29.90</td>\n",
       "      <td>720</td>\n",
       "      <td>1639</td>\n",
       "      <td>NaN</td>\n",
       "      <td>NaN</td>\n",
       "      <td>NaN</td>\n",
       "      <td>NaN</td>\n",
       "    </tr>\n",
       "  </tbody>\n",
       "</table>\n",
       "</div>"
      ],
      "text/plain": [
       "               DATE  HOURLYWindSpeed  HOURLYWindGustSpeed  \\\n",
       "0  2013-01-01 00:51             10.0                 22.0   \n",
       "1  2013-01-01 01:51              3.0                 17.0   \n",
       "2  2013-01-01 02:51              7.0                  NaN   \n",
       "3  2013-01-01 03:51              9.0                  NaN   \n",
       "4  2013-01-01 04:51              7.0                  NaN   \n",
       "\n",
       "  HOURLYStationPressure  HOURLYPressureTendency  HOURLYPressureChange  \\\n",
       "0                 29.72                     8.0                   NaN   \n",
       "1                 29.73                     NaN                   NaN   \n",
       "2                 29.73                     NaN                   NaN   \n",
       "3                 29.74                     3.0                   NaN   \n",
       "4                 29.73                     NaN                   NaN   \n",
       "\n",
       "  HOURLYSeaLevelPressure HOURLYAltimeterSetting  DAILYSunrise  DAILYSunset  \\\n",
       "0                  29.87                  29.89           720         1639   \n",
       "1                  29.88                  29.90           720         1639   \n",
       "2                  29.88                  29.90           720         1639   \n",
       "3                  29.88                  29.91           720         1639   \n",
       "4                  29.88                  29.90           720         1639   \n",
       "\n",
       "  DAILYWeather DAILYPrecip DAILYSnowfall DAILYSnowDepth  \n",
       "0          NaN         NaN           NaN            NaN  \n",
       "1          NaN         NaN           NaN            NaN  \n",
       "2          NaN         NaN           NaN            NaN  \n",
       "3          NaN         NaN           NaN            NaN  \n",
       "4          NaN         NaN           NaN            NaN  "
      ]
     },
     "execution_count": 7,
     "metadata": {},
     "output_type": "execute_result"
    }
   ],
   "source": [
    "df.head()"
   ]
  },
  {
   "cell_type": "code",
   "execution_count": 8,
   "metadata": {},
   "outputs": [
    {
     "data": {
      "text/plain": [
       "DATE                       object\n",
       "HOURLYWindSpeed           float64\n",
       "HOURLYWindGustSpeed       float64\n",
       "HOURLYStationPressure      object\n",
       "HOURLYPressureTendency    float64\n",
       "HOURLYPressureChange      float64\n",
       "HOURLYSeaLevelPressure     object\n",
       "HOURLYAltimeterSetting     object\n",
       "DAILYSunrise                int64\n",
       "DAILYSunset                 int64\n",
       "DAILYWeather               object\n",
       "DAILYPrecip                object\n",
       "DAILYSnowfall              object\n",
       "DAILYSnowDepth             object\n",
       "dtype: object"
      ]
     },
     "execution_count": 8,
     "metadata": {},
     "output_type": "execute_result"
    }
   ],
   "source": [
    "df.dtypes"
   ]
  },
  {
   "cell_type": "code",
   "execution_count": 9,
   "metadata": {},
   "outputs": [
    {
     "data": {
      "text/plain": [
       "array([ 10.,   3.,   7.,   9.,   6.,   5.,   0.,  11.,  nan,   8.,  13.,\n",
       "        15.,  14.,  18.,  16.,  17.,  20.,  23.,  21.,  22.,  24.,  25.,\n",
       "        28.,  26.])"
      ]
     },
     "execution_count": 9,
     "metadata": {},
     "output_type": "execute_result"
    }
   ],
   "source": [
    "df.HOURLYWindSpeed.unique()"
   ]
  },
  {
   "cell_type": "code",
   "execution_count": 10,
   "metadata": {},
   "outputs": [
    {
     "data": {
      "text/plain": [
       "array(['29.72', '29.73', '29.74', '29.75', '29.71', '29.69', '29.77',\n",
       "       '29.79', '29.80', '29.82', '29.84', '29.86', nan, '29.87', '29.88',\n",
       "       '29.91', '29.92', '29.89', '29.95', '29.96', '29.97', '29.98',\n",
       "       '29.99', '30.01', '30.02', '30.03', '30.04', '29.94', '29.93',\n",
       "       '29.90', '29.83', '29.85', '30.08', '30.10', '30.11', '30.09',\n",
       "       '30.06', '30.05', '30.14', '30.16', '30.17', '30.19', '30.22',\n",
       "       '30.23', '30.24', '30.25', '30.21', '30.26', '30.28', '30.27',\n",
       "       '30.20', '30.13', '29.99s', '30.07', '30.18', '30.30', '30.32',\n",
       "       '30.35', '30.34', '30.31', '30.33', '30.37', '30.38', '30.39',\n",
       "       '30.36', '30.15', '30.12', '30.00', '29.78', '29.68', '29.70',\n",
       "       '29.76', '30.29', '29.64', '29.61', '29.60', '29.58', '29.56',\n",
       "       '29.55', '29.62', '29.81', '29.65', '29.57', '29.52', '29.49',\n",
       "       '29.47', '29.44', '29.45', '29.39', '29.34', '29.31', '29.29',\n",
       "       '29.24', '29.17', '29.08', '29.01', '28.95', '28.94', '28.93',\n",
       "       '29.02', '29.00', '28.99', '28.92', '28.98', '29.06', '29.14',\n",
       "       '29.21', '29.25', '29.28', '29.63', '29.66', '29.50', '29.53',\n",
       "       '29.42', '29.41', '29.37', '29.36', '29.33', '30.41', '30.43',\n",
       "       '30.42', '30.40', '30.45', '30.46', '30.47', '30.48', '30.49',\n",
       "       '30.50', '30.44', '30.51', '29.26', '30.52', '30.54', '30.55',\n",
       "       '30.57', '30.58', '30.59', '30.60', '30.61', '29.37s', '29.39s',\n",
       "       '29.41s', '29.26s', '29.29s', '29.18', '29.23', '29.15', '29.09',\n",
       "       '29.03', '28.88s', '28.89', '28.88', '28.90', '28.91', '28.96',\n",
       "       '29.07', '29.12', '29.16', '29.10', '29.05', '29.13', '30.56',\n",
       "       '30.53', '29.90s', '29.20', 29.6, 29.58, 29.57, 29.56, 29.62, 29.63,\n",
       "       29.64, 29.66, 29.7, 29.73, 29.77, 29.8, 29.82, 29.84, 29.85, 29.87,\n",
       "       29.88, 29.9, 29.91, 29.94, 29.96, 29.98, 30.02, 30.03, 30.04, 30.07,\n",
       "       30.09, 30.1, 30.11, 30.13, 30.16, 30.19, 30.22, 30.25, 30.27, 30.29,\n",
       "       30.31, 30.33, 30.34, 30.35, 30.36, 30.28, 30.23, 30.2, 30.18, 30.17,\n",
       "       30.15, 30.12, 30.08, 30.06, 30.05, 30.01, 30.0, 29.99, 30.14, 30.24,\n",
       "       30.26, 30.21, 29.97, 29.92, 29.89, 29.81, 29.78, 29.75, 29.71,\n",
       "       29.69, 29.61, 29.68, 29.86, 29.76, 29.79, 29.95, 30.3, 30.32, 30.39,\n",
       "       30.42, 30.45, 30.49, 30.5, 30.51, 30.53, 30.56, 30.59, 30.61, 30.65,\n",
       "       30.66, 30.63, 30.6, 30.58, 30.57, 30.52, 30.48, 30.46, 30.43, 30.4,\n",
       "       30.38, 30.37, 29.93, 29.74, 29.65, 29.72, 29.83, 30.47, 30.44,\n",
       "       29.55, 29.49, 29.47, 29.45, 29.44, 29.42, 29.52, 29.53, 29.5, 29.41,\n",
       "       29.36, 29.34, 29.33, 29.31, 29.37, 29.39, 30.41, '30.63', '30.65',\n",
       "       '30.66', '30.64', '30.67', '29.14s', '29.28s', '29.11', '28.99s',\n",
       "       '29.00s', '29.03s', '29.04s', '29.05s', '29.06s', '29.07s',\n",
       "       '29.11s', '28.86', '28.80', '28.79', '28.78', '28.77s', '28.78s',\n",
       "       '28.79s', '28.80s', '28.86s'], dtype=object)"
      ]
     },
     "execution_count": 10,
     "metadata": {},
     "output_type": "execute_result"
    }
   ],
   "source": [
    "df.HOURLYStationPressure.unique()"
   ]
  },
  {
   "cell_type": "code",
   "execution_count": 11,
   "metadata": {},
   "outputs": [
    {
     "data": {
      "text/plain": [
       "array([ 22.,  17.,  nan,  21.,  16.,  18.,  24.,  28.,  23.,  20.,  25.,\n",
       "        29.,  31.,  36.,  26.,  43.,  33.,  44.,  37.,  40.,  30.,  32.,\n",
       "        34.,  38.,  46.,  39.,  41.,  45.])"
      ]
     },
     "execution_count": 11,
     "metadata": {},
     "output_type": "execute_result"
    }
   ],
   "source": [
    "df.HOURLYWindGustSpeed.unique()"
   ]
  },
  {
   "cell_type": "raw",
   "metadata": {},
   "source": [
    "df.HOURLYPressureTendency.unique()"
   ]
  },
  {
   "cell_type": "raw",
   "metadata": {},
   "source": [
    "df.HOURLYPressureChange.unique()"
   ]
  },
  {
   "cell_type": "raw",
   "metadata": {},
   "source": [
    "df.HOURLYSeaLevelPressure.unique()"
   ]
  },
  {
   "cell_type": "raw",
   "metadata": {},
   "source": [
    "df.HOURLYAltimeterSetting.unique()"
   ]
  },
  {
   "cell_type": "code",
   "execution_count": 12,
   "metadata": {},
   "outputs": [
    {
     "data": {
      "text/plain": [
       "array([720, 719, 718, 717, 716, 715, 714, 713, 712, 711, 710, 709, 708,\n",
       "       707, 706, 705, 704, 703, 702, 701, 700, 659, 658, 657, 655, 654,\n",
       "       653, 652, 650, 649, 648, 646, 645, 644, 642, 641, 639, 638, 636,\n",
       "       635, 633, 632, 630, 629, 627, 626, 624, 623, 621, 619, 618, 616,\n",
       "       615, 613, 611, 610, 608, 606, 605, 603, 601, 600, 558, 556, 555,\n",
       "       553, 551, 550, 548, 547, 545, 543, 542, 540, 538, 537, 535, 533,\n",
       "       532, 530, 529, 527, 525, 524, 522, 521, 519, 518, 516, 514, 513,\n",
       "       511, 510, 508, 507, 506, 504, 503, 501, 500, 459, 457, 456, 455,\n",
       "       453, 452, 451, 450, 449, 447, 446, 445, 444, 443, 442, 441, 440,\n",
       "       439, 438, 437, 436, 435, 434, 433, 432, 431, 430, 429, 428, 427,\n",
       "       426, 425, 424, 448, 454, 458, 502, 505, 509, 512, 515, 517, 520,\n",
       "       523, 526, 528, 531, 534, 536, 539, 541, 544, 546, 549, 552, 554,\n",
       "       557, 559, 604, 607, 609, 612, 617, 620, 625, 628, 631, 634, 637,\n",
       "       640, 643, 647, 651, 656])"
      ]
     },
     "execution_count": 12,
     "metadata": {},
     "output_type": "execute_result"
    }
   ],
   "source": [
    "df.DAILYSunrise.unique()"
   ]
  },
  {
   "cell_type": "code",
   "execution_count": 13,
   "metadata": {},
   "outputs": [
    {
     "data": {
      "text/plain": [
       "array([1639, 1640, 1641, 1642, 1643, 1644, 1645, 1646, 1647, 1649, 1650,\n",
       "       1651, 1652, 1653, 1654, 1655, 1656, 1657, 1659, 1700, 1701, 1702,\n",
       "       1703, 1705, 1706, 1707, 1708, 1710, 1711, 1712, 1713, 1714, 1716,\n",
       "       1717, 1718, 1719, 1721, 1722, 1723, 1724, 1726, 1727, 1728, 1729,\n",
       "       1730, 1732, 1733, 1734, 1735, 1736, 1738, 1739, 1740, 1741, 1742,\n",
       "       1743, 1745, 1746, 1747, 1748, 1749, 1750, 1751, 1753, 1754, 1755,\n",
       "       1756, 1757, 1758, 1759, 1800, 1801, 1802, 1803, 1805, 1806, 1807,\n",
       "       1808, 1809, 1810, 1811, 1812, 1813, 1814, 1815, 1816, 1817, 1818,\n",
       "       1819, 1820, 1821, 1823, 1824, 1825, 1826, 1827, 1828, 1829, 1830,\n",
       "       1831, 1832, 1833, 1834, 1835, 1836, 1837, 1838, 1839, 1840, 1841,\n",
       "       1842, 1844, 1845, 1846, 1847, 1848, 1849, 1850, 1851, 1852, 1853,\n",
       "       1854, 1855, 1856, 1857, 1858, 1859, 1900, 1901, 1902, 1903, 1904,\n",
       "       1905, 1906, 1907, 1908, 1909, 1910, 1911, 1912, 1913, 1914, 1915,\n",
       "       1916, 1917, 1918, 1919, 1920, 1921, 1922, 1923, 1924, 1925, 1926,\n",
       "       1927, 1928, 1929, 1930, 1931, 1843, 1822, 1804, 1752, 1737, 1725,\n",
       "       1704, 1648, 1638, 1637, 1636, 1635, 1634, 1633, 1632, 1631, 1630,\n",
       "       1629, 1628])"
      ]
     },
     "execution_count": 13,
     "metadata": {},
     "output_type": "execute_result"
    }
   ],
   "source": [
    "df.DAILYSunset.unique()"
   ]
  },
  {
   "cell_type": "markdown",
   "metadata": {},
   "source": [
    "DZ:01 - Drizzle | RA:02 - Rain | SN:03 - Snow | SG:04 - Snow Grains | IC:05 - Ice Crystals \n",
    "PL:06 - Ice Pellets | GR:07 - Hail | GS:08- Small Hail an/or Snow Pellets \n",
    "UP:09 - Unknown Precipitation | BR:1 - Mist | FG:2 - Fog | FU:3 - Smoke\n",
    "VA:4 - Volcanic Ash | DU:5 - Widespread Dust | SA:6 - Sand | HZ:7 - Haze\n",
    "PY:8 - Spray | PO:1 - Well developed dust/sand whirls | SQ:2 - Squalls\n",
    "FC:3 - Funnel CLoud, Waterspout or Tornado | SS:4 - Sandstorm | DS:5 - Duststorm"
   ]
  },
  {
   "cell_type": "code",
   "execution_count": 14,
   "metadata": {},
   "outputs": [
    {
     "data": {
      "text/plain": [
       "array([nan, 'HZ:08', 'BR:13 HZ:08', 'RA:16 BR:13', 'FG:01 BR:13 HZ:08',\n",
       "       'FG:01 BR:13 HZ:08 RA:16', 'RA:16 BR:13 UP:19', 'SN:18 BR:13',\n",
       "       'RA:16 SN:18 BR:13 UP:19 HZ:08', 'RA:16 BR:13 HZ:08',\n",
       "       'RA:16 FG:01 BR:13 HZ:08', 'RA:16 FG:01 BR:13', 'SN:18 BR:13 HZ:08',\n",
       "       'RA:16 SN:18 FG:01 FZFG:22 BR:13 UP:19',\n",
       "       'SN:18 FZFG:22 BR:13 HZ:08 FG:01', 'RA:16 SN:18 UP:19',\n",
       "       'BR:13 UP:19', 'RA:16', 'SN:18', 'SN:18 BR:13 UP:19',\n",
       "       'SN:18 FG:01 FZFG:22 BR:13', 'SN:18 FG:01 BR:13',\n",
       "       'RA:16 SN:18 FZFG:22 BR:13 UP:19 HZ:08 FG:01',\n",
       "       'RA:16 SN:18 BR:13 UP:19', 'BR:13', 'RA:16 HZ:08', 'RA:16 SN:18',\n",
       "       'SN:18 FG:01 HZ:08', 'FZRA:17 SN:18 BR:13 UP:19 HZ:08',\n",
       "       'RA:16 FZRA:17 SN:18 BR:13 UP:19', 'SN:18 FG:01 BR:13 HZ:08',\n",
       "       'RA:16 FZRA:17 SN:18 FZFG:22 BR:13 UP:19 HZ:08 FG:01',\n",
       "       'FZRA:17 SN:18 FZFG:22 BR:13 UP:19 HZ:08 FG:01',\n",
       "       'SN:18 FZFG:22 FG:01', 'RA:16 FG:01 BR:13 UP:19 HZ:08',\n",
       "       'RA:16 FG:01 BR:13 UP:19', 'RA:16 SN:18 FG:01 FZFG:22 BR:13 HZ:08',\n",
       "       'FZRA:17 SN:18 FZFG:22 BR:13 UP:19 FG:01',\n",
       "       'RA:16 SN:18 FZFG:22 BR:13 UP:19 FG:01',\n",
       "       'RA:16 SN:18 FG:01 BR:13 HZ:08',\n",
       "       'SN:18 FZFG:22 BR:13 UP:19 HZ:08 FG:01', 'SN:18 HZ:08',\n",
       "       'RA:16 SN:18 BR:13', 'FG:01 BR:13', 'RA:16 SN:18 BR:13 HZ:08',\n",
       "       'RA:16 SN:18 FG:01 BR:13 UP:19 HZ:08', 'SN:18 FZFG:22 HZ:08 FG:01',\n",
       "       'RA:16 FZRA:17 SN:18 FG:01 FZFG:22 BR:13 UP:19 HZ:08',\n",
       "       'UP:19 HZ:08', 'FZRA:17 SN:18 FZFG:22 BR:13 FG:01',\n",
       "       'RA:16 BR:13 UP:19 HZ:08', 'SN:18 FG:01 FZFG:22 BR:13 HZ:08',\n",
       "       'RA:16 UP:19', 'SN:18 FZFG:22 BR:13 FG:01',\n",
       "       'FZRA:17 SN:18 BR:13 UP:19'], dtype=object)"
      ]
     },
     "execution_count": 14,
     "metadata": {},
     "output_type": "execute_result"
    }
   ],
   "source": [
    "df.DAILYWeather.unique()"
   ]
  },
  {
   "cell_type": "code",
   "execution_count": 15,
   "metadata": {},
   "outputs": [
    {
     "data": {
      "text/plain": [
       "array([nan, '0.00', 'T', '0.55', '0.57', '0.02', '0.09', '0.12', '0.63',\n",
       "       '0.69', '0.07', '0.22', '0.06', '0.04', '0.93', '0.90', '0.01',\n",
       "       '0.03', '1.15', '1.52', '0.38', '0.49', '0.40', '0.15', '0.26',\n",
       "       '0.27', '0.14', '1.26', '1.56', '0.44', '0.19', '0.33', '0.54',\n",
       "       '0.08', '0.79', '0.71', '0.65', '0.81', '0.36', '0.20', '0.17',\n",
       "       '0.05', '0.11', '1.28', '3.02', '1.76', '0.50', '0.48', '0.18',\n",
       "       '1.09', '0.92', '0.10', '0.60', '0.51', '1.81', '1.91', '0.30',\n",
       "       '0.29', '0.52', '0.85', '1.00', '0.87', '0.72', '0.13', '0.95',\n",
       "       '4.16', '3.82', '1.38', '1.47', '1.58', '0.24', '0.84', '0.53',\n",
       "       '0.23', '0.25', '0.28', '0.37', '0.31', '0.46', '0.32', '0.43',\n",
       "       '1.60', '1.66', '1.17', '0.45', '2.18', '1.98', '0.73', '0.83',\n",
       "       '1.45', '1.20', '0.58', '1.40', '0.42', '0.97', '1.43', '1.78',\n",
       "       '1.83', '0.16', '0.35', '2.01', '0.21', '0.86', '0.34', '0.89',\n",
       "       '0.59', '4.97', '4.53', '0.41', '1.54', '1.51', '0.91', '0.99',\n",
       "       '0.62', '0.64', '0.96', '1.14', '1.74', '0.39', '1.30', '0.70',\n",
       "       '1.18', '1.04', '1.68', '1.11', '0.61', '1.23', '1.08', '0.68',\n",
       "       '1.24', '1.22', '2.54', '0.80', '2.10', '0.66', '0.78', '1.02',\n",
       "       '0.67', '0.76', '0.47', '1.37', '1.49', '1.46', '1.89', '0.77',\n",
       "       '1.12', '1.42', '1.95', '1.13', '1.33', '1.36', '1.44', '1.25',\n",
       "       '1.21', '1.55', '1.80', '1.03', '2.31', '1.82', '1.01', '1.65',\n",
       "       '0.94', '1.07', '0.82', '0.56', '1.32', '1.41', '1.63', '2.20',\n",
       "       '1.16', '1.97', '1.19', '3.18', '1.61', '1.50', '1.39', '1.35',\n",
       "       '1.29', '0.74', '0.88', '3.03', '3.16'], dtype=object)"
      ]
     },
     "execution_count": 15,
     "metadata": {},
     "output_type": "execute_result"
    }
   ],
   "source": [
    "#T indicates trace amount.\n",
    "df.DAILYPrecip.unique()"
   ]
  },
  {
   "cell_type": "code",
   "execution_count": 16,
   "metadata": {},
   "outputs": [
    {
     "data": {
      "text/plain": [
       "array([nan, '0.0', 'T', '1.5', '0.1', '0.3', '0.4', '6.3', '5.1', '4.0',\n",
       "       '3.0', '0.7', '1.4', '5.0', '8.6', '3.1', '3.3', '11.0', '0.5',\n",
       "       '1.0', '0.8', '8.0', '1.2', '9.5', '1.6', '0.2', '3.6', '5.5',\n",
       "       '4.3', '16.9', '0.9', '4.8', '1.8', '7.5', '4.5', '27.3', '2.5',\n",
       "       '2.8', '3.2', '0.6', '7.9', '9.4', '2.1', '7.6'], dtype=object)"
      ]
     },
     "execution_count": 16,
     "metadata": {},
     "output_type": "execute_result"
    }
   ],
   "source": [
    "#The depth of frozen precipitation like snow is measured in tenths (0.1) of an inch and \n",
    "#trace amounts are defined as less than half that amount (0.05 inch).\n",
    "#T indicates trace amount.\n",
    "df.DAILYSnowfall.unique()"
   ]
  },
  {
   "cell_type": "raw",
   "metadata": {},
   "source": [
    "#T indicates trace amount.\n",
    "df.DAILYSnowDepth.unique()"
   ]
  },
  {
   "cell_type": "code",
   "execution_count": 17,
   "metadata": {},
   "outputs": [
    {
     "data": {
      "text/html": [
       "<div>\n",
       "<style scoped>\n",
       "    .dataframe tbody tr th:only-of-type {\n",
       "        vertical-align: middle;\n",
       "    }\n",
       "\n",
       "    .dataframe tbody tr th {\n",
       "        vertical-align: top;\n",
       "    }\n",
       "\n",
       "    .dataframe thead th {\n",
       "        text-align: right;\n",
       "    }\n",
       "</style>\n",
       "<table border=\"1\" class=\"dataframe\">\n",
       "  <thead>\n",
       "    <tr style=\"text-align: right;\">\n",
       "      <th></th>\n",
       "      <th>DATE</th>\n",
       "      <th>HOURLYWindSpeed</th>\n",
       "      <th>HOURLYWindGustSpeed</th>\n",
       "      <th>HOURLYStationPressure</th>\n",
       "      <th>DAILYSunrise</th>\n",
       "      <th>DAILYSunset</th>\n",
       "      <th>DAILYWeather</th>\n",
       "      <th>DAILYPrecip</th>\n",
       "      <th>DAILYSnowfall</th>\n",
       "    </tr>\n",
       "  </thead>\n",
       "  <tbody>\n",
       "    <tr>\n",
       "      <th>0</th>\n",
       "      <td>2013-01-01 00:51</td>\n",
       "      <td>10.0</td>\n",
       "      <td>22.0</td>\n",
       "      <td>29.72</td>\n",
       "      <td>720</td>\n",
       "      <td>1639</td>\n",
       "      <td>NaN</td>\n",
       "      <td>NaN</td>\n",
       "      <td>NaN</td>\n",
       "    </tr>\n",
       "    <tr>\n",
       "      <th>1</th>\n",
       "      <td>2013-01-01 01:51</td>\n",
       "      <td>3.0</td>\n",
       "      <td>17.0</td>\n",
       "      <td>29.73</td>\n",
       "      <td>720</td>\n",
       "      <td>1639</td>\n",
       "      <td>NaN</td>\n",
       "      <td>NaN</td>\n",
       "      <td>NaN</td>\n",
       "    </tr>\n",
       "    <tr>\n",
       "      <th>2</th>\n",
       "      <td>2013-01-01 02:51</td>\n",
       "      <td>7.0</td>\n",
       "      <td>NaN</td>\n",
       "      <td>29.73</td>\n",
       "      <td>720</td>\n",
       "      <td>1639</td>\n",
       "      <td>NaN</td>\n",
       "      <td>NaN</td>\n",
       "      <td>NaN</td>\n",
       "    </tr>\n",
       "    <tr>\n",
       "      <th>3</th>\n",
       "      <td>2013-01-01 03:51</td>\n",
       "      <td>9.0</td>\n",
       "      <td>NaN</td>\n",
       "      <td>29.74</td>\n",
       "      <td>720</td>\n",
       "      <td>1639</td>\n",
       "      <td>NaN</td>\n",
       "      <td>NaN</td>\n",
       "      <td>NaN</td>\n",
       "    </tr>\n",
       "    <tr>\n",
       "      <th>4</th>\n",
       "      <td>2013-01-01 04:51</td>\n",
       "      <td>7.0</td>\n",
       "      <td>NaN</td>\n",
       "      <td>29.73</td>\n",
       "      <td>720</td>\n",
       "      <td>1639</td>\n",
       "      <td>NaN</td>\n",
       "      <td>NaN</td>\n",
       "      <td>NaN</td>\n",
       "    </tr>\n",
       "  </tbody>\n",
       "</table>\n",
       "</div>"
      ],
      "text/plain": [
       "               DATE  HOURLYWindSpeed  HOURLYWindGustSpeed  \\\n",
       "0  2013-01-01 00:51             10.0                 22.0   \n",
       "1  2013-01-01 01:51              3.0                 17.0   \n",
       "2  2013-01-01 02:51              7.0                  NaN   \n",
       "3  2013-01-01 03:51              9.0                  NaN   \n",
       "4  2013-01-01 04:51              7.0                  NaN   \n",
       "\n",
       "  HOURLYStationPressure  DAILYSunrise  DAILYSunset DAILYWeather DAILYPrecip  \\\n",
       "0                 29.72           720         1639          NaN         NaN   \n",
       "1                 29.73           720         1639          NaN         NaN   \n",
       "2                 29.73           720         1639          NaN         NaN   \n",
       "3                 29.74           720         1639          NaN         NaN   \n",
       "4                 29.73           720         1639          NaN         NaN   \n",
       "\n",
       "  DAILYSnowfall  \n",
       "0           NaN  \n",
       "1           NaN  \n",
       "2           NaN  \n",
       "3           NaN  \n",
       "4           NaN  "
      ]
     },
     "execution_count": 17,
     "metadata": {},
     "output_type": "execute_result"
    }
   ],
   "source": [
    "df1 = df[['DATE', 'HOURLYWindSpeed', 'HOURLYWindGustSpeed',\n",
    "       'HOURLYStationPressure', 'DAILYSunrise', 'DAILYSunset', 'DAILYWeather',\n",
    "       'DAILYPrecip', 'DAILYSnowfall']]\n",
    "df1.head()"
   ]
  },
  {
   "cell_type": "code",
   "execution_count": null,
   "metadata": {},
   "outputs": [],
   "source": []
  },
  {
   "cell_type": "code",
   "execution_count": null,
   "metadata": {},
   "outputs": [],
   "source": []
  },
  {
   "cell_type": "code",
   "execution_count": null,
   "metadata": {},
   "outputs": [],
   "source": []
  },
  {
   "cell_type": "markdown",
   "metadata": {},
   "source": [
    "#### Storm data"
   ]
  },
  {
   "cell_type": "code",
   "execution_count": 18,
   "metadata": {},
   "outputs": [
    {
     "data": {
      "text/html": [
       "<div>\n",
       "<style scoped>\n",
       "    .dataframe tbody tr th:only-of-type {\n",
       "        vertical-align: middle;\n",
       "    }\n",
       "\n",
       "    .dataframe tbody tr th {\n",
       "        vertical-align: top;\n",
       "    }\n",
       "\n",
       "    .dataframe thead th {\n",
       "        text-align: right;\n",
       "    }\n",
       "</style>\n",
       "<table border=\"1\" class=\"dataframe\">\n",
       "  <thead>\n",
       "    <tr style=\"text-align: right;\">\n",
       "      <th></th>\n",
       "      <th>EVENT_ID</th>\n",
       "      <th>CZ_NAME_STR</th>\n",
       "      <th>BEGIN_LOCATION</th>\n",
       "      <th>BEGIN_DATE</th>\n",
       "      <th>BEGIN_TIME</th>\n",
       "      <th>EVENT_TYPE</th>\n",
       "      <th>MAGNITUDE</th>\n",
       "      <th>TOR_F_SCALE</th>\n",
       "      <th>DEATHS_DIRECT</th>\n",
       "      <th>INJURIES_DIRECT</th>\n",
       "      <th>...</th>\n",
       "      <th>BEGIN_RANGE</th>\n",
       "      <th>BEGIN_AZIMUTH</th>\n",
       "      <th>END_RANGE</th>\n",
       "      <th>END_AZIMUTH</th>\n",
       "      <th>END_LOCATION</th>\n",
       "      <th>BEGIN_LAT</th>\n",
       "      <th>BEGIN_LON</th>\n",
       "      <th>END_LAT</th>\n",
       "      <th>END_LON</th>\n",
       "      <th>ABSOLUTE_ROWNUMBER</th>\n",
       "    </tr>\n",
       "  </thead>\n",
       "  <tbody>\n",
       "    <tr>\n",
       "      <th>0</th>\n",
       "      <td>421883</td>\n",
       "      <td>NEW YORK (MANHATTAN) (ZONE)</td>\n",
       "      <td></td>\n",
       "      <td>01/31/2013</td>\n",
       "      <td>0</td>\n",
       "      <td>High Wind</td>\n",
       "      <td>50.00</td>\n",
       "      <td></td>\n",
       "      <td>0</td>\n",
       "      <td>0</td>\n",
       "      <td>...</td>\n",
       "      <td></td>\n",
       "      <td></td>\n",
       "      <td></td>\n",
       "      <td></td>\n",
       "      <td></td>\n",
       "      <td></td>\n",
       "      <td></td>\n",
       "      <td></td>\n",
       "      <td></td>\n",
       "      <td>1</td>\n",
       "    </tr>\n",
       "    <tr>\n",
       "      <th>1</th>\n",
       "      <td>436900</td>\n",
       "      <td>NEW YORK (MANHATTAN) (ZONE)</td>\n",
       "      <td></td>\n",
       "      <td>02/08/2013</td>\n",
       "      <td>1400</td>\n",
       "      <td>Winter Storm</td>\n",
       "      <td></td>\n",
       "      <td></td>\n",
       "      <td>0</td>\n",
       "      <td>0</td>\n",
       "      <td>...</td>\n",
       "      <td></td>\n",
       "      <td></td>\n",
       "      <td></td>\n",
       "      <td></td>\n",
       "      <td></td>\n",
       "      <td></td>\n",
       "      <td></td>\n",
       "      <td></td>\n",
       "      <td></td>\n",
       "      <td>2</td>\n",
       "    </tr>\n",
       "    <tr>\n",
       "      <th>2</th>\n",
       "      <td>452589</td>\n",
       "      <td>NEW YORK CO.</td>\n",
       "      <td>NEW YORK</td>\n",
       "      <td>05/11/2013</td>\n",
       "      <td>1508</td>\n",
       "      <td>Thunderstorm Wind</td>\n",
       "      <td>61.00</td>\n",
       "      <td></td>\n",
       "      <td>0</td>\n",
       "      <td>0</td>\n",
       "      <td>...</td>\n",
       "      <td>1</td>\n",
       "      <td>SW</td>\n",
       "      <td>1</td>\n",
       "      <td>SW</td>\n",
       "      <td>NEW YORK</td>\n",
       "      <td>40.716</td>\n",
       "      <td>-74.0165</td>\n",
       "      <td>40.716</td>\n",
       "      <td>-74.0165</td>\n",
       "      <td>3</td>\n",
       "    </tr>\n",
       "    <tr>\n",
       "      <th>3</th>\n",
       "      <td>452588</td>\n",
       "      <td>NEW YORK CO.</td>\n",
       "      <td>NEW YORK</td>\n",
       "      <td>05/11/2013</td>\n",
       "      <td>1508</td>\n",
       "      <td>Thunderstorm Wind</td>\n",
       "      <td>65.00</td>\n",
       "      <td></td>\n",
       "      <td>0</td>\n",
       "      <td>0</td>\n",
       "      <td>...</td>\n",
       "      <td>2</td>\n",
       "      <td>SSW</td>\n",
       "      <td>2</td>\n",
       "      <td>SSW</td>\n",
       "      <td>NEW YORK</td>\n",
       "      <td>40.7108</td>\n",
       "      <td>-74.0161</td>\n",
       "      <td>40.7108</td>\n",
       "      <td>-74.0161</td>\n",
       "      <td>4</td>\n",
       "    </tr>\n",
       "    <tr>\n",
       "      <th>4</th>\n",
       "      <td>459595</td>\n",
       "      <td>NEW YORK CO.</td>\n",
       "      <td>CENTRAL PARK</td>\n",
       "      <td>06/02/2013</td>\n",
       "      <td>2259</td>\n",
       "      <td>Flash Flood</td>\n",
       "      <td></td>\n",
       "      <td></td>\n",
       "      <td>0</td>\n",
       "      <td>0</td>\n",
       "      <td>...</td>\n",
       "      <td>2</td>\n",
       "      <td>NNE</td>\n",
       "      <td>2</td>\n",
       "      <td>NNE</td>\n",
       "      <td>CENTRAL PARK</td>\n",
       "      <td>40.8032</td>\n",
       "      <td>-73.9314</td>\n",
       "      <td>40.801</td>\n",
       "      <td>-73.9321</td>\n",
       "      <td>5</td>\n",
       "    </tr>\n",
       "  </tbody>\n",
       "</table>\n",
       "<p>5 rows × 35 columns</p>\n",
       "</div>"
      ],
      "text/plain": [
       "   EVENT_ID                  CZ_NAME_STR BEGIN_LOCATION  BEGIN_DATE  \\\n",
       "0    421883  NEW YORK (MANHATTAN) (ZONE)                 01/31/2013   \n",
       "1    436900  NEW YORK (MANHATTAN) (ZONE)                 02/08/2013   \n",
       "2    452589                 NEW YORK CO.       NEW YORK  05/11/2013   \n",
       "3    452588                 NEW YORK CO.       NEW YORK  05/11/2013   \n",
       "4    459595                 NEW YORK CO.   CENTRAL PARK  06/02/2013   \n",
       "\n",
       "   BEGIN_TIME         EVENT_TYPE MAGNITUDE TOR_F_SCALE  DEATHS_DIRECT  \\\n",
       "0           0          High Wind     50.00                          0   \n",
       "1        1400       Winter Storm                                    0   \n",
       "2        1508  Thunderstorm Wind     61.00                          0   \n",
       "3        1508  Thunderstorm Wind     65.00                          0   \n",
       "4        2259        Flash Flood                                    0   \n",
       "\n",
       "   INJURIES_DIRECT         ...          BEGIN_RANGE  BEGIN_AZIMUTH END_RANGE  \\\n",
       "0                0         ...                                                 \n",
       "1                0         ...                                                 \n",
       "2                0         ...                    1             SW         1   \n",
       "3                0         ...                    2            SSW         2   \n",
       "4                0         ...                    2            NNE         2   \n",
       "\n",
       "  END_AZIMUTH  END_LOCATION  BEGIN_LAT BEGIN_LON  END_LAT   END_LON  \\\n",
       "0                                                                     \n",
       "1                                                                     \n",
       "2          SW      NEW YORK     40.716  -74.0165   40.716  -74.0165   \n",
       "3         SSW      NEW YORK    40.7108  -74.0161  40.7108  -74.0161   \n",
       "4         NNE  CENTRAL PARK    40.8032  -73.9314   40.801  -73.9321   \n",
       "\n",
       "   ABSOLUTE_ROWNUMBER  \n",
       "0                   1  \n",
       "1                   2  \n",
       "2                   3  \n",
       "3                   4  \n",
       "4                   5  \n",
       "\n",
       "[5 rows x 35 columns]"
      ]
     },
     "execution_count": 18,
     "metadata": {},
     "output_type": "execute_result"
    }
   ],
   "source": [
    "dfbad = pd.read_csv('storm_data_search_results.csv')\n",
    "dfbad.head()"
   ]
  },
  {
   "cell_type": "code",
   "execution_count": 19,
   "metadata": {},
   "outputs": [
    {
     "data": {
      "text/plain": [
       "array(['High Wind', 'Winter Storm', 'Thunderstorm Wind', 'Flash Flood',\n",
       "       'Flood', 'Excessive Heat', 'Strong Wind', 'Dense Fog',\n",
       "       'Winter Weather', 'Heavy Snow', 'Blizzard'], dtype=object)"
      ]
     },
     "execution_count": 19,
     "metadata": {},
     "output_type": "execute_result"
    }
   ],
   "source": [
    "dfbad['EVENT_TYPE'].unique()"
   ]
  },
  {
   "cell_type": "code",
   "execution_count": 20,
   "metadata": {},
   "outputs": [
    {
     "data": {
      "text/html": [
       "<div>\n",
       "<style scoped>\n",
       "    .dataframe tbody tr th:only-of-type {\n",
       "        vertical-align: middle;\n",
       "    }\n",
       "\n",
       "    .dataframe tbody tr th {\n",
       "        vertical-align: top;\n",
       "    }\n",
       "\n",
       "    .dataframe thead th {\n",
       "        text-align: right;\n",
       "    }\n",
       "</style>\n",
       "<table border=\"1\" class=\"dataframe\">\n",
       "  <thead>\n",
       "    <tr style=\"text-align: right;\">\n",
       "      <th></th>\n",
       "      <th>EVENT_ID</th>\n",
       "      <th>CZ_NAME_STR</th>\n",
       "      <th>BEGIN_LOCATION</th>\n",
       "      <th>BEGIN_DATE</th>\n",
       "      <th>BEGIN_TIME</th>\n",
       "      <th>EVENT_TYPE</th>\n",
       "      <th>MAGNITUDE</th>\n",
       "      <th>TOR_F_SCALE</th>\n",
       "      <th>DEATHS_DIRECT</th>\n",
       "      <th>INJURIES_DIRECT</th>\n",
       "      <th>...</th>\n",
       "      <th>BEGIN_RANGE</th>\n",
       "      <th>BEGIN_AZIMUTH</th>\n",
       "      <th>END_RANGE</th>\n",
       "      <th>END_AZIMUTH</th>\n",
       "      <th>END_LOCATION</th>\n",
       "      <th>BEGIN_LAT</th>\n",
       "      <th>BEGIN_LON</th>\n",
       "      <th>END_LAT</th>\n",
       "      <th>END_LON</th>\n",
       "      <th>ABSOLUTE_ROWNUMBER</th>\n",
       "    </tr>\n",
       "  </thead>\n",
       "  <tbody>\n",
       "    <tr>\n",
       "      <th>5</th>\n",
       "      <td>467533</td>\n",
       "      <td>NEW YORK CO.</td>\n",
       "      <td>CENTRAL PARK</td>\n",
       "      <td>06/07/2013</td>\n",
       "      <td>2205</td>\n",
       "      <td>Flood</td>\n",
       "      <td></td>\n",
       "      <td></td>\n",
       "      <td>0</td>\n",
       "      <td>0</td>\n",
       "      <td>...</td>\n",
       "      <td>1</td>\n",
       "      <td>NNW</td>\n",
       "      <td>2</td>\n",
       "      <td>NW</td>\n",
       "      <td>CENTRAL PARK</td>\n",
       "      <td>40.7942</td>\n",
       "      <td>-73.9547</td>\n",
       "      <td>40.7939</td>\n",
       "      <td>-73.9732</td>\n",
       "      <td>6</td>\n",
       "    </tr>\n",
       "  </tbody>\n",
       "</table>\n",
       "<p>1 rows × 35 columns</p>\n",
       "</div>"
      ],
      "text/plain": [
       "   EVENT_ID   CZ_NAME_STR BEGIN_LOCATION  BEGIN_DATE  BEGIN_TIME EVENT_TYPE  \\\n",
       "5    467533  NEW YORK CO.   CENTRAL PARK  06/07/2013        2205      Flood   \n",
       "\n",
       "  MAGNITUDE TOR_F_SCALE  DEATHS_DIRECT  INJURIES_DIRECT         ...          \\\n",
       "5                                    0                0         ...           \n",
       "\n",
       "   BEGIN_RANGE  BEGIN_AZIMUTH END_RANGE END_AZIMUTH  END_LOCATION  BEGIN_LAT  \\\n",
       "5            1            NNW         2          NW  CENTRAL PARK    40.7942   \n",
       "\n",
       "  BEGIN_LON  END_LAT   END_LON  ABSOLUTE_ROWNUMBER  \n",
       "5  -73.9547  40.7939  -73.9732                   6  \n",
       "\n",
       "[1 rows x 35 columns]"
      ]
     },
     "execution_count": 20,
     "metadata": {},
     "output_type": "execute_result"
    }
   ],
   "source": [
    "dfbad[dfbad['EVENT_TYPE'] == 'Flood']"
   ]
  },
  {
   "cell_type": "code",
   "execution_count": null,
   "metadata": {},
   "outputs": [],
   "source": []
  },
  {
   "cell_type": "code",
   "execution_count": null,
   "metadata": {},
   "outputs": [],
   "source": []
  },
  {
   "cell_type": "code",
   "execution_count": null,
   "metadata": {},
   "outputs": [],
   "source": []
  },
  {
   "cell_type": "code",
   "execution_count": null,
   "metadata": {},
   "outputs": [],
   "source": []
  },
  {
   "cell_type": "code",
   "execution_count": null,
   "metadata": {},
   "outputs": [],
   "source": []
  },
  {
   "cell_type": "code",
   "execution_count": null,
   "metadata": {},
   "outputs": [],
   "source": []
  }
 ],
 "metadata": {
  "kernelspec": {
   "display_name": "Python 3",
   "language": "python",
   "name": "python3"
  },
  "language_info": {
   "codemirror_mode": {
    "name": "ipython",
    "version": 3
   },
   "file_extension": ".py",
   "mimetype": "text/x-python",
   "name": "python",
   "nbconvert_exporter": "python",
   "pygments_lexer": "ipython3",
   "version": "3.6.1"
  }
 },
 "nbformat": 4,
 "nbformat_minor": 2
}
