{
 "cells": [
  {
   "cell_type": "code",
   "execution_count": 1,
   "metadata": {},
   "outputs": [],
   "source": [
    "from __future__ import print_function, division\n",
    "%matplotlib inline\n",
    "import os\n",
    "import pandas as pd\n",
    "import numpy as np\n",
    "import matplotlib\n",
    "import matplotlib.pyplot as plt\n",
    "import geopandas as gpd\n",
    "import geohash_hilbert as ghh"
   ]
  },
  {
   "cell_type": "code",
   "execution_count": 2,
   "metadata": {},
   "outputs": [
    {
     "name": "stdout",
     "output_type": "stream",
     "text": [
      "Shape of data\n",
      "(3917789, 3)\n"
     ]
    },
    {
     "data": {
      "text/html": [
       "<div>\n",
       "<style scoped>\n",
       "    .dataframe tbody tr th:only-of-type {\n",
       "        vertical-align: middle;\n",
       "    }\n",
       "\n",
       "    .dataframe tbody tr th {\n",
       "        vertical-align: top;\n",
       "    }\n",
       "\n",
       "    .dataframe thead th {\n",
       "        text-align: right;\n",
       "    }\n",
       "</style>\n",
       "<table border=\"1\" class=\"dataframe\">\n",
       "  <thead>\n",
       "    <tr style=\"text-align: right;\">\n",
       "      <th></th>\n",
       "      <th>Dispatching_base_num</th>\n",
       "      <th>Pickup_date</th>\n",
       "      <th>locationID</th>\n",
       "    </tr>\n",
       "  </thead>\n",
       "  <tbody>\n",
       "    <tr>\n",
       "      <th>0</th>\n",
       "      <td>B00001</td>\n",
       "      <td>2015-04-01 04:30:00</td>\n",
       "      <td>NaN</td>\n",
       "    </tr>\n",
       "    <tr>\n",
       "      <th>1</th>\n",
       "      <td>B00001</td>\n",
       "      <td>2015-04-01 06:00:00</td>\n",
       "      <td>NaN</td>\n",
       "    </tr>\n",
       "    <tr>\n",
       "      <th>2</th>\n",
       "      <td>B00001</td>\n",
       "      <td>2015-04-01 06:00:00</td>\n",
       "      <td>NaN</td>\n",
       "    </tr>\n",
       "    <tr>\n",
       "      <th>3</th>\n",
       "      <td>B00001</td>\n",
       "      <td>2015-04-01 06:00:00</td>\n",
       "      <td>NaN</td>\n",
       "    </tr>\n",
       "    <tr>\n",
       "      <th>4</th>\n",
       "      <td>B00001</td>\n",
       "      <td>2015-04-01 06:15:00</td>\n",
       "      <td>NaN</td>\n",
       "    </tr>\n",
       "  </tbody>\n",
       "</table>\n",
       "</div>"
      ],
      "text/plain": [
       "  Dispatching_base_num          Pickup_date  locationID\n",
       "0               B00001  2015-04-01 04:30:00         NaN\n",
       "1               B00001  2015-04-01 06:00:00         NaN\n",
       "2               B00001  2015-04-01 06:00:00         NaN\n",
       "3               B00001  2015-04-01 06:00:00         NaN\n",
       "4               B00001  2015-04-01 06:15:00         NaN"
      ]
     },
     "execution_count": 2,
     "metadata": {},
     "output_type": "execute_result"
    }
   ],
   "source": [
    "#downloaded from TLC by month\n",
    "df = pd.read_csv('data/fhv_tripdata_2015-04.csv')\n",
    "print (\"Shape of data\\n{}\".format(df.shape))\n",
    "df.head()"
   ]
  },
  {
   "cell_type": "code",
   "execution_count": 3,
   "metadata": {},
   "outputs": [
    {
     "data": {
      "text/plain": [
       "Index(['Dispatching_base_num', 'Pickup_date', 'locationID'], dtype='object')"
      ]
     },
     "execution_count": 3,
     "metadata": {},
     "output_type": "execute_result"
    }
   ],
   "source": [
    "df.columns"
   ]
  },
  {
   "cell_type": "code",
   "execution_count": 4,
   "metadata": {},
   "outputs": [
    {
     "data": {
      "text/html": [
       "<div>\n",
       "<style scoped>\n",
       "    .dataframe tbody tr th:only-of-type {\n",
       "        vertical-align: middle;\n",
       "    }\n",
       "\n",
       "    .dataframe tbody tr th {\n",
       "        vertical-align: top;\n",
       "    }\n",
       "\n",
       "    .dataframe thead th {\n",
       "        text-align: right;\n",
       "    }\n",
       "</style>\n",
       "<table border=\"1\" class=\"dataframe\">\n",
       "  <thead>\n",
       "    <tr style=\"text-align: right;\">\n",
       "      <th></th>\n",
       "      <th>Dispatching_base_num</th>\n",
       "      <th>Pickup_date</th>\n",
       "    </tr>\n",
       "  </thead>\n",
       "  <tbody>\n",
       "    <tr>\n",
       "      <th>0</th>\n",
       "      <td>B00001</td>\n",
       "      <td>2015-04-01 04:30:00</td>\n",
       "    </tr>\n",
       "    <tr>\n",
       "      <th>1</th>\n",
       "      <td>B00001</td>\n",
       "      <td>2015-04-01 06:00:00</td>\n",
       "    </tr>\n",
       "    <tr>\n",
       "      <th>2</th>\n",
       "      <td>B00001</td>\n",
       "      <td>2015-04-01 06:00:00</td>\n",
       "    </tr>\n",
       "    <tr>\n",
       "      <th>3</th>\n",
       "      <td>B00001</td>\n",
       "      <td>2015-04-01 06:00:00</td>\n",
       "    </tr>\n",
       "    <tr>\n",
       "      <th>4</th>\n",
       "      <td>B00001</td>\n",
       "      <td>2015-04-01 06:15:00</td>\n",
       "    </tr>\n",
       "  </tbody>\n",
       "</table>\n",
       "</div>"
      ],
      "text/plain": [
       "  Dispatching_base_num          Pickup_date\n",
       "0               B00001  2015-04-01 04:30:00\n",
       "1               B00001  2015-04-01 06:00:00\n",
       "2               B00001  2015-04-01 06:00:00\n",
       "3               B00001  2015-04-01 06:00:00\n",
       "4               B00001  2015-04-01 06:15:00"
      ]
     },
     "execution_count": 4,
     "metadata": {},
     "output_type": "execute_result"
    }
   ],
   "source": [
    "df = df.drop(['locationID'], axis=1)\n",
    "df.dropna(inplace=True)\n",
    "df.head()"
   ]
  },
  {
   "cell_type": "code",
   "execution_count": 5,
   "metadata": {},
   "outputs": [
    {
     "data": {
      "text/plain": [
       "(3917789, 2)"
      ]
     },
     "execution_count": 5,
     "metadata": {},
     "output_type": "execute_result"
    }
   ],
   "source": [
    "df.shape"
   ]
  },
  {
   "cell_type": "markdown",
   "metadata": {},
   "source": [
    "## Aggregate by hour"
   ]
  },
  {
   "cell_type": "code",
   "execution_count": 6,
   "metadata": {},
   "outputs": [],
   "source": [
    "df['Pickup_date'] = pd.to_datetime(df['Pickup_date'], format='%Y/%m/%d %H:%M:%S')"
   ]
  },
  {
   "cell_type": "code",
   "execution_count": 7,
   "metadata": {},
   "outputs": [
    {
     "data": {
      "text/plain": [
       "Dispatching_base_num            object\n",
       "Pickup_date             datetime64[ns]\n",
       "dtype: object"
      ]
     },
     "execution_count": 7,
     "metadata": {},
     "output_type": "execute_result"
    }
   ],
   "source": [
    "df.dtypes"
   ]
  },
  {
   "cell_type": "code",
   "execution_count": 8,
   "metadata": {},
   "outputs": [
    {
     "data": {
      "text/plain": [
       "array(['B00001', 'B00008', 'B00009', 'B00013', 'B00014', 'B00035',\n",
       "       'B00037', 'B00078', 'B00160', 'B00202', 'B00210', 'B00221',\n",
       "       'B00225', 'B00227', 'B00235', 'B00236', 'B00248', 'B00254',\n",
       "       'B00255', 'B00256', 'B00272', 'B00277', 'B00280', 'B00281',\n",
       "       'B00310', 'B00346', 'B00373', 'B00381', 'B00411', 'B00412',\n",
       "       'B00419', 'B00448', 'B00475', 'B00477', 'B00492', 'B00552',\n",
       "       'B00608', 'B00619', 'B00623', 'B00628', 'b00639', 'B00652',\n",
       "       'B00692', 'B00756', 'B00789', 'B00821', 'B00837', 'B00856',\n",
       "       'b00881', 'B00882', 'B00888', 'b00906', 'B00911', 'B00932',\n",
       "       'b00941', 'b00983', 'B00984', 'b01013', 'B01020', 'b01048',\n",
       "       'B01069', 'B01087', 'B01129', 'B01148', 'B01176', 'B01177',\n",
       "       'b01177', 'B01190', 'B01197', 'B01222', 'B01231', 'B01265',\n",
       "       'B01280', 'B01292', 'B01306', 'B01308', 'B01311', 'B01313',\n",
       "       'B01315', 'B01332', 'B01336', 'B01339', 'B01340', 'B01351',\n",
       "       'B01362', 'B01367', 'B01386', 'B01391', 'B01392', 'B01398',\n",
       "       'B01424', 'B01453', 'B01455', 'B01467', 'B01478', 'B01487',\n",
       "       'B01492', 'B01506', 'B01509', 'B01514', 'B01525', 'B01537',\n",
       "       'B01546', 'B01593', 'B01608', 'B01614', 'B01623', 'B01625',\n",
       "       'B01626', 'B01631', 'B01635', 'B01644', 'B01667', 'B01672',\n",
       "       'B01675', 'B01678', 'B01679', 'B01726', 'B01727', 'B01730',\n",
       "       'B01733', 'B01734', 'B01738', 'B01741', 'B01742', 'B01745',\n",
       "       'B01779', 'B01811', 'B01846', 'B01849', 'B01854', 'B01868',\n",
       "       'B01871', 'B01875', 'B01876', 'B01877', 'B01899', 'B01912',\n",
       "       'B01928', 'B01938', 'B01949', 'B01957', 'B01970', 'B01973',\n",
       "       'B01979', 'B01980', 'B01990', 'B01995', 'B01998', 'B02003',\n",
       "       'B02016', 'B02021', 'B02022', 'B02026', 'B02032', 'B02054',\n",
       "       'B02067', 'B02073', 'B02096', 'B02099', 'B02106', 'B02110',\n",
       "       'B02111', 'B02127', 'B02132', 'B02133', 'B02142', 'B02144',\n",
       "       'B02147', 'B02155', 'B02157', 'B02167', 'B02182', 'B02191',\n",
       "       'B02196', 'B02197', 'B02210', 'B02213', 'B02216', 'B02217',\n",
       "       'B02240', 'B02248', 'B02252', 'B02253', 'B02265', 'B02277',\n",
       "       'B02288', 'b02301', 'B02303', 'B02306', 'B02315', 'B02320',\n",
       "       'B02342', 'B02376', 'B02377', 'B02378', 'B02379', 'B02389',\n",
       "       'B02397', 'B02410', 'B02423', 'B02435', 'B02436', 'B02440',\n",
       "       'B02447', 'B02468', 'B02469', 'B02470', 'B02471', 'B02485',\n",
       "       'B02491', 'B02496', 'B02503', 'B02508', 'B02510', 'B02511',\n",
       "       'B02512', 'B02517', 'B02524', 'B02532', 'B02535', 'B02541',\n",
       "       'B02542', 'B02543', 'B02546', 'B02547', 'B02551', 'B02554',\n",
       "       'B02556', 'B02563', 'B02564', 'B02566', 'B02590', 'B02594',\n",
       "       'B02597', 'B02598', 'B02617', 'B02629', 'B02630', 'B02637',\n",
       "       'B02638', 'B02644', 'B02653', 'B02655', 'B02657', 'B02664',\n",
       "       'B02666', 'B02667', 'B02673', 'B02675', 'B02681', 'B02682',\n",
       "       'B02686', 'B02687', 'B02688', 'B02689', 'B02695', 'B02702',\n",
       "       'B02705                  ', 'B02710', 'B02712', 'B02716', 'B02718',\n",
       "       'B02719', 'B02721', 'B02723', 'B02725', 'B02726', 'B02727',\n",
       "       'B02731', 'B02745', 'B02751', 'B02753', 'B02754', 'B02764',\n",
       "       'B02765', 'B02770', 'B02782', 'B02783', 'B02791', 'B02794',\n",
       "       'B02800', 'B02808', 'B02809'], dtype=object)"
      ]
     },
     "execution_count": 8,
     "metadata": {},
     "output_type": "execute_result"
    }
   ],
   "source": [
    "df['Dispatching_base_num'].unique()"
   ]
  },
  {
   "cell_type": "code",
   "execution_count": 9,
   "metadata": {},
   "outputs": [],
   "source": [
    "df['hour'] = df['Pickup_date'].dt.hour\n",
    "df['dayofyear'] = df['Pickup_date'].dt.dayofyear"
   ]
  },
  {
   "cell_type": "code",
   "execution_count": 10,
   "metadata": {},
   "outputs": [],
   "source": [
    "df['day_and_hour'] = df['dayofyear'].astype(str) + '-' + df['hour'].astype(str)\n",
    "df['FHV_count'] = pd.Series(np.ones(len(df)).T)"
   ]
  },
  {
   "cell_type": "code",
   "execution_count": 11,
   "metadata": {},
   "outputs": [
    {
     "data": {
      "text/html": [
       "<div>\n",
       "<style scoped>\n",
       "    .dataframe tbody tr th:only-of-type {\n",
       "        vertical-align: middle;\n",
       "    }\n",
       "\n",
       "    .dataframe tbody tr th {\n",
       "        vertical-align: top;\n",
       "    }\n",
       "\n",
       "    .dataframe thead th {\n",
       "        text-align: right;\n",
       "    }\n",
       "</style>\n",
       "<table border=\"1\" class=\"dataframe\">\n",
       "  <thead>\n",
       "    <tr style=\"text-align: right;\">\n",
       "      <th></th>\n",
       "      <th>Dispatching_base_num</th>\n",
       "      <th>Pickup_date</th>\n",
       "      <th>hour</th>\n",
       "      <th>dayofyear</th>\n",
       "      <th>day_and_hour</th>\n",
       "      <th>FHV_count</th>\n",
       "    </tr>\n",
       "  </thead>\n",
       "  <tbody>\n",
       "    <tr>\n",
       "      <th>0</th>\n",
       "      <td>B00001</td>\n",
       "      <td>2015-04-01 04:30:00</td>\n",
       "      <td>4</td>\n",
       "      <td>91</td>\n",
       "      <td>91-4</td>\n",
       "      <td>1.0</td>\n",
       "    </tr>\n",
       "    <tr>\n",
       "      <th>1</th>\n",
       "      <td>B00001</td>\n",
       "      <td>2015-04-01 06:00:00</td>\n",
       "      <td>6</td>\n",
       "      <td>91</td>\n",
       "      <td>91-6</td>\n",
       "      <td>1.0</td>\n",
       "    </tr>\n",
       "    <tr>\n",
       "      <th>2</th>\n",
       "      <td>B00001</td>\n",
       "      <td>2015-04-01 06:00:00</td>\n",
       "      <td>6</td>\n",
       "      <td>91</td>\n",
       "      <td>91-6</td>\n",
       "      <td>1.0</td>\n",
       "    </tr>\n",
       "    <tr>\n",
       "      <th>3</th>\n",
       "      <td>B00001</td>\n",
       "      <td>2015-04-01 06:00:00</td>\n",
       "      <td>6</td>\n",
       "      <td>91</td>\n",
       "      <td>91-6</td>\n",
       "      <td>1.0</td>\n",
       "    </tr>\n",
       "    <tr>\n",
       "      <th>4</th>\n",
       "      <td>B00001</td>\n",
       "      <td>2015-04-01 06:15:00</td>\n",
       "      <td>6</td>\n",
       "      <td>91</td>\n",
       "      <td>91-6</td>\n",
       "      <td>1.0</td>\n",
       "    </tr>\n",
       "  </tbody>\n",
       "</table>\n",
       "</div>"
      ],
      "text/plain": [
       "  Dispatching_base_num         Pickup_date  hour  dayofyear day_and_hour  \\\n",
       "0               B00001 2015-04-01 04:30:00     4         91         91-4   \n",
       "1               B00001 2015-04-01 06:00:00     6         91         91-6   \n",
       "2               B00001 2015-04-01 06:00:00     6         91         91-6   \n",
       "3               B00001 2015-04-01 06:00:00     6         91         91-6   \n",
       "4               B00001 2015-04-01 06:15:00     6         91         91-6   \n",
       "\n",
       "   FHV_count  \n",
       "0        1.0  \n",
       "1        1.0  \n",
       "2        1.0  \n",
       "3        1.0  \n",
       "4        1.0  "
      ]
     },
     "execution_count": 11,
     "metadata": {},
     "output_type": "execute_result"
    }
   ],
   "source": [
    "df.head()"
   ]
  },
  {
   "cell_type": "code",
   "execution_count": 12,
   "metadata": {},
   "outputs": [
    {
     "data": {
      "text/html": [
       "<div>\n",
       "<style scoped>\n",
       "    .dataframe tbody tr th:only-of-type {\n",
       "        vertical-align: middle;\n",
       "    }\n",
       "\n",
       "    .dataframe tbody tr th {\n",
       "        vertical-align: top;\n",
       "    }\n",
       "\n",
       "    .dataframe thead th {\n",
       "        text-align: right;\n",
       "    }\n",
       "</style>\n",
       "<table border=\"1\" class=\"dataframe\">\n",
       "  <thead>\n",
       "    <tr style=\"text-align: right;\">\n",
       "      <th></th>\n",
       "      <th>Pickup_date</th>\n",
       "      <th>hour</th>\n",
       "      <th>dayofyear</th>\n",
       "      <th>day_and_hour</th>\n",
       "      <th>FHV_count</th>\n",
       "    </tr>\n",
       "  </thead>\n",
       "  <tbody>\n",
       "    <tr>\n",
       "      <th>0</th>\n",
       "      <td>2015-04-01 04:30:00</td>\n",
       "      <td>4</td>\n",
       "      <td>91</td>\n",
       "      <td>91-4</td>\n",
       "      <td>1.0</td>\n",
       "    </tr>\n",
       "    <tr>\n",
       "      <th>1</th>\n",
       "      <td>2015-04-01 06:00:00</td>\n",
       "      <td>6</td>\n",
       "      <td>91</td>\n",
       "      <td>91-6</td>\n",
       "      <td>1.0</td>\n",
       "    </tr>\n",
       "    <tr>\n",
       "      <th>2</th>\n",
       "      <td>2015-04-01 06:00:00</td>\n",
       "      <td>6</td>\n",
       "      <td>91</td>\n",
       "      <td>91-6</td>\n",
       "      <td>1.0</td>\n",
       "    </tr>\n",
       "    <tr>\n",
       "      <th>3</th>\n",
       "      <td>2015-04-01 06:00:00</td>\n",
       "      <td>6</td>\n",
       "      <td>91</td>\n",
       "      <td>91-6</td>\n",
       "      <td>1.0</td>\n",
       "    </tr>\n",
       "    <tr>\n",
       "      <th>4</th>\n",
       "      <td>2015-04-01 06:15:00</td>\n",
       "      <td>6</td>\n",
       "      <td>91</td>\n",
       "      <td>91-6</td>\n",
       "      <td>1.0</td>\n",
       "    </tr>\n",
       "  </tbody>\n",
       "</table>\n",
       "</div>"
      ],
      "text/plain": [
       "          Pickup_date  hour  dayofyear day_and_hour  FHV_count\n",
       "0 2015-04-01 04:30:00     4         91         91-4        1.0\n",
       "1 2015-04-01 06:00:00     6         91         91-6        1.0\n",
       "2 2015-04-01 06:00:00     6         91         91-6        1.0\n",
       "3 2015-04-01 06:00:00     6         91         91-6        1.0\n",
       "4 2015-04-01 06:15:00     6         91         91-6        1.0"
      ]
     },
     "execution_count": 12,
     "metadata": {},
     "output_type": "execute_result"
    }
   ],
   "source": [
    "df = df.drop(['Dispatching_base_num'], axis=1)\n",
    "df.dropna(inplace=True)\n",
    "df.head()"
   ]
  },
  {
   "cell_type": "raw",
   "metadata": {},
   "source": [
    "df['day_and_hour'].unique()"
   ]
  },
  {
   "cell_type": "code",
   "execution_count": 13,
   "metadata": {},
   "outputs": [
    {
     "data": {
      "text/html": [
       "<div>\n",
       "<style scoped>\n",
       "    .dataframe tbody tr th:only-of-type {\n",
       "        vertical-align: middle;\n",
       "    }\n",
       "\n",
       "    .dataframe tbody tr th {\n",
       "        vertical-align: top;\n",
       "    }\n",
       "\n",
       "    .dataframe thead th {\n",
       "        text-align: right;\n",
       "    }\n",
       "</style>\n",
       "<table border=\"1\" class=\"dataframe\">\n",
       "  <thead>\n",
       "    <tr style=\"text-align: right;\">\n",
       "      <th></th>\n",
       "      <th>Pickup_date</th>\n",
       "      <th>hour</th>\n",
       "      <th>dayofyear</th>\n",
       "      <th>FHV_count</th>\n",
       "    </tr>\n",
       "    <tr>\n",
       "      <th>day_and_hour</th>\n",
       "      <th></th>\n",
       "      <th></th>\n",
       "      <th></th>\n",
       "      <th></th>\n",
       "    </tr>\n",
       "  </thead>\n",
       "  <tbody>\n",
       "    <tr>\n",
       "      <th>100-0</th>\n",
       "      <td>4814</td>\n",
       "      <td>4814</td>\n",
       "      <td>4814</td>\n",
       "      <td>4814</td>\n",
       "    </tr>\n",
       "    <tr>\n",
       "      <th>100-1</th>\n",
       "      <td>2815</td>\n",
       "      <td>2815</td>\n",
       "      <td>2815</td>\n",
       "      <td>2815</td>\n",
       "    </tr>\n",
       "    <tr>\n",
       "      <th>100-10</th>\n",
       "      <td>5674</td>\n",
       "      <td>5674</td>\n",
       "      <td>5674</td>\n",
       "      <td>5674</td>\n",
       "    </tr>\n",
       "    <tr>\n",
       "      <th>100-11</th>\n",
       "      <td>5120</td>\n",
       "      <td>5120</td>\n",
       "      <td>5120</td>\n",
       "      <td>5120</td>\n",
       "    </tr>\n",
       "    <tr>\n",
       "      <th>100-12</th>\n",
       "      <td>5328</td>\n",
       "      <td>5328</td>\n",
       "      <td>5328</td>\n",
       "      <td>5328</td>\n",
       "    </tr>\n",
       "  </tbody>\n",
       "</table>\n",
       "</div>"
      ],
      "text/plain": [
       "              Pickup_date  hour  dayofyear  FHV_count\n",
       "day_and_hour                                         \n",
       "100-0                4814  4814       4814       4814\n",
       "100-1                2815  2815       2815       2815\n",
       "100-10               5674  5674       5674       5674\n",
       "100-11               5120  5120       5120       5120\n",
       "100-12               5328  5328       5328       5328"
      ]
     },
     "execution_count": 13,
     "metadata": {},
     "output_type": "execute_result"
    }
   ],
   "source": [
    "dfsum = df.groupby(df['day_and_hour']).count()\n",
    "dfsum.head()"
   ]
  },
  {
   "cell_type": "code",
   "execution_count": 14,
   "metadata": {},
   "outputs": [
    {
     "data": {
      "text/html": [
       "<div>\n",
       "<style scoped>\n",
       "    .dataframe tbody tr th:only-of-type {\n",
       "        vertical-align: middle;\n",
       "    }\n",
       "\n",
       "    .dataframe tbody tr th {\n",
       "        vertical-align: top;\n",
       "    }\n",
       "\n",
       "    .dataframe thead th {\n",
       "        text-align: right;\n",
       "    }\n",
       "</style>\n",
       "<table border=\"1\" class=\"dataframe\">\n",
       "  <thead>\n",
       "    <tr style=\"text-align: right;\">\n",
       "      <th></th>\n",
       "      <th>day_and_hour</th>\n",
       "      <th>Pickup_date</th>\n",
       "      <th>hour</th>\n",
       "      <th>dayofyear</th>\n",
       "      <th>FHV_count</th>\n",
       "    </tr>\n",
       "  </thead>\n",
       "  <tbody>\n",
       "    <tr>\n",
       "      <th>0</th>\n",
       "      <td>100-0</td>\n",
       "      <td>4814</td>\n",
       "      <td>4814</td>\n",
       "      <td>4814</td>\n",
       "      <td>4814</td>\n",
       "    </tr>\n",
       "    <tr>\n",
       "      <th>1</th>\n",
       "      <td>100-1</td>\n",
       "      <td>2815</td>\n",
       "      <td>2815</td>\n",
       "      <td>2815</td>\n",
       "      <td>2815</td>\n",
       "    </tr>\n",
       "    <tr>\n",
       "      <th>2</th>\n",
       "      <td>100-10</td>\n",
       "      <td>5674</td>\n",
       "      <td>5674</td>\n",
       "      <td>5674</td>\n",
       "      <td>5674</td>\n",
       "    </tr>\n",
       "    <tr>\n",
       "      <th>3</th>\n",
       "      <td>100-11</td>\n",
       "      <td>5120</td>\n",
       "      <td>5120</td>\n",
       "      <td>5120</td>\n",
       "      <td>5120</td>\n",
       "    </tr>\n",
       "    <tr>\n",
       "      <th>4</th>\n",
       "      <td>100-12</td>\n",
       "      <td>5328</td>\n",
       "      <td>5328</td>\n",
       "      <td>5328</td>\n",
       "      <td>5328</td>\n",
       "    </tr>\n",
       "  </tbody>\n",
       "</table>\n",
       "</div>"
      ],
      "text/plain": [
       "  day_and_hour  Pickup_date  hour  dayofyear  FHV_count\n",
       "0        100-0         4814  4814       4814       4814\n",
       "1        100-1         2815  2815       2815       2815\n",
       "2       100-10         5674  5674       5674       5674\n",
       "3       100-11         5120  5120       5120       5120\n",
       "4       100-12         5328  5328       5328       5328"
      ]
     },
     "execution_count": 14,
     "metadata": {},
     "output_type": "execute_result"
    }
   ],
   "source": [
    "dfsum.reset_index(inplace=True)\n",
    "dfsum.head()"
   ]
  },
  {
   "cell_type": "code",
   "execution_count": 15,
   "metadata": {},
   "outputs": [
    {
     "data": {
      "text/plain": [
       "(720, 2)"
      ]
     },
     "execution_count": 15,
     "metadata": {},
     "output_type": "execute_result"
    }
   ],
   "source": [
    "dfsum.drop(['Pickup_date', 'hour', 'dayofyear'], axis=1, inplace=True)\n",
    "dfsum.shape"
   ]
  },
  {
   "cell_type": "code",
   "execution_count": 16,
   "metadata": {},
   "outputs": [
    {
     "data": {
      "text/html": [
       "<div>\n",
       "<style scoped>\n",
       "    .dataframe tbody tr th:only-of-type {\n",
       "        vertical-align: middle;\n",
       "    }\n",
       "\n",
       "    .dataframe tbody tr th {\n",
       "        vertical-align: top;\n",
       "    }\n",
       "\n",
       "    .dataframe thead th {\n",
       "        text-align: right;\n",
       "    }\n",
       "</style>\n",
       "<table border=\"1\" class=\"dataframe\">\n",
       "  <thead>\n",
       "    <tr style=\"text-align: right;\">\n",
       "      <th></th>\n",
       "      <th>day_and_hour</th>\n",
       "      <th>FHV_count</th>\n",
       "    </tr>\n",
       "  </thead>\n",
       "  <tbody>\n",
       "    <tr>\n",
       "      <th>0</th>\n",
       "      <td>100-0</td>\n",
       "      <td>4814</td>\n",
       "    </tr>\n",
       "    <tr>\n",
       "      <th>1</th>\n",
       "      <td>100-1</td>\n",
       "      <td>2815</td>\n",
       "    </tr>\n",
       "    <tr>\n",
       "      <th>2</th>\n",
       "      <td>100-10</td>\n",
       "      <td>5674</td>\n",
       "    </tr>\n",
       "    <tr>\n",
       "      <th>3</th>\n",
       "      <td>100-11</td>\n",
       "      <td>5120</td>\n",
       "    </tr>\n",
       "    <tr>\n",
       "      <th>4</th>\n",
       "      <td>100-12</td>\n",
       "      <td>5328</td>\n",
       "    </tr>\n",
       "  </tbody>\n",
       "</table>\n",
       "</div>"
      ],
      "text/plain": [
       "  day_and_hour  FHV_count\n",
       "0        100-0       4814\n",
       "1        100-1       2815\n",
       "2       100-10       5674\n",
       "3       100-11       5120\n",
       "4       100-12       5328"
      ]
     },
     "execution_count": 16,
     "metadata": {},
     "output_type": "execute_result"
    }
   ],
   "source": [
    "dfsum.head()"
   ]
  },
  {
   "cell_type": "code",
   "execution_count": 17,
   "metadata": {},
   "outputs": [],
   "source": [
    "dfsum.to_csv('clean_FHV_data_04.csv')"
   ]
  }
 ],
 "metadata": {
  "kernelspec": {
   "display_name": "Python 3",
   "language": "python",
   "name": "python3"
  },
  "language_info": {
   "codemirror_mode": {
    "name": "ipython",
    "version": 3
   },
   "file_extension": ".py",
   "mimetype": "text/x-python",
   "name": "python",
   "nbconvert_exporter": "python",
   "pygments_lexer": "ipython3",
   "version": "3.6.1"
  }
 },
 "nbformat": 4,
 "nbformat_minor": 2
}
