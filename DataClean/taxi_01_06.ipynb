{
 "cells": [
  {
   "cell_type": "code",
   "execution_count": 1,
   "metadata": {},
   "outputs": [],
   "source": [
    "from __future__ import print_function, division\n",
    "%matplotlib inline\n",
    "import os\n",
    "import pandas as pd\n",
    "import numpy as np\n",
    "import matplotlib\n",
    "import matplotlib.pyplot as plt\n",
    "import geopandas as gpd"
   ]
  },
  {
   "cell_type": "code",
   "execution_count": 2,
   "metadata": {},
   "outputs": [
    {
     "name": "stdout",
     "output_type": "stream",
     "text": [
      "Shape of data\n",
      "(23408, 5)\n"
     ]
    },
    {
     "data": {
      "text/html": [
       "<div>\n",
       "<style scoped>\n",
       "    .dataframe tbody tr th:only-of-type {\n",
       "        vertical-align: middle;\n",
       "    }\n",
       "\n",
       "    .dataframe tbody tr th {\n",
       "        vertical-align: top;\n",
       "    }\n",
       "\n",
       "    .dataframe thead th {\n",
       "        text-align: right;\n",
       "    }\n",
       "</style>\n",
       "<table border=\"1\" class=\"dataframe\">\n",
       "  <thead>\n",
       "    <tr style=\"text-align: right;\">\n",
       "      <th></th>\n",
       "      <th>dayofweek</th>\n",
       "      <th>dayofyear</th>\n",
       "      <th>day_and_hour</th>\n",
       "      <th>pickups</th>\n",
       "      <th>geohash_pickup</th>\n",
       "    </tr>\n",
       "  </thead>\n",
       "  <tbody>\n",
       "    <tr>\n",
       "      <th>0</th>\n",
       "      <td>Thursday</td>\n",
       "      <td>29</td>\n",
       "      <td>2914</td>\n",
       "      <td>1</td>\n",
       "      <td>SHBHR</td>\n",
       "    </tr>\n",
       "    <tr>\n",
       "      <th>1</th>\n",
       "      <td>Wednesday</td>\n",
       "      <td>21</td>\n",
       "      <td>2111</td>\n",
       "      <td>1</td>\n",
       "      <td>SHBI3</td>\n",
       "    </tr>\n",
       "    <tr>\n",
       "      <th>2</th>\n",
       "      <td>Saturday</td>\n",
       "      <td>10</td>\n",
       "      <td>109</td>\n",
       "      <td>1</td>\n",
       "      <td>SHBJ3</td>\n",
       "    </tr>\n",
       "    <tr>\n",
       "      <th>3</th>\n",
       "      <td>Sunday</td>\n",
       "      <td>11</td>\n",
       "      <td>116</td>\n",
       "      <td>1</td>\n",
       "      <td>SHBJ3</td>\n",
       "    </tr>\n",
       "    <tr>\n",
       "      <th>4</th>\n",
       "      <td>Monday</td>\n",
       "      <td>12</td>\n",
       "      <td>1210</td>\n",
       "      <td>1</td>\n",
       "      <td>SHBJ3</td>\n",
       "    </tr>\n",
       "  </tbody>\n",
       "</table>\n",
       "</div>"
      ],
      "text/plain": [
       "   dayofweek  dayofyear  day_and_hour  pickups geohash_pickup\n",
       "0   Thursday         29          2914        1          SHBHR\n",
       "1  Wednesday         21          2111        1          SHBI3\n",
       "2   Saturday         10           109        1          SHBJ3\n",
       "3     Sunday         11           116        1          SHBJ3\n",
       "4     Monday         12          1210        1          SHBJ3"
      ]
     },
     "execution_count": 2,
     "metadata": {},
     "output_type": "execute_result"
    }
   ],
   "source": [
    "#taxi\n",
    "df1 = pd.read_csv('data/agg_clean_taxi_data_01.csv', index_col=0)\n",
    "print (\"Shape of data\\n{}\".format(df1.shape))\n",
    "df1.head()"
   ]
  },
  {
   "cell_type": "code",
   "execution_count": 3,
   "metadata": {},
   "outputs": [
    {
     "data": {
      "text/plain": [
       "(23408, 5)"
      ]
     },
     "execution_count": 3,
     "metadata": {},
     "output_type": "execute_result"
    }
   ],
   "source": [
    "df1.drop_duplicates(inplace=True)\n",
    "df1.shape"
   ]
  },
  {
   "cell_type": "code",
   "execution_count": 4,
   "metadata": {},
   "outputs": [
    {
     "name": "stdout",
     "output_type": "stream",
     "text": [
      "Shape of data\n",
      "(23403, 5)\n"
     ]
    },
    {
     "data": {
      "text/html": [
       "<div>\n",
       "<style scoped>\n",
       "    .dataframe tbody tr th:only-of-type {\n",
       "        vertical-align: middle;\n",
       "    }\n",
       "\n",
       "    .dataframe tbody tr th {\n",
       "        vertical-align: top;\n",
       "    }\n",
       "\n",
       "    .dataframe thead th {\n",
       "        text-align: right;\n",
       "    }\n",
       "</style>\n",
       "<table border=\"1\" class=\"dataframe\">\n",
       "  <thead>\n",
       "    <tr style=\"text-align: right;\">\n",
       "      <th></th>\n",
       "      <th>dayofweek</th>\n",
       "      <th>dayofyear</th>\n",
       "      <th>day_and_hour</th>\n",
       "      <th>pickups</th>\n",
       "      <th>geohash_pickup</th>\n",
       "    </tr>\n",
       "  </thead>\n",
       "  <tbody>\n",
       "    <tr>\n",
       "      <th>0</th>\n",
       "      <td>Tuesday</td>\n",
       "      <td>55</td>\n",
       "      <td>5516</td>\n",
       "      <td>1</td>\n",
       "      <td>SHBIy</td>\n",
       "    </tr>\n",
       "    <tr>\n",
       "      <th>1</th>\n",
       "      <td>Sunday</td>\n",
       "      <td>32</td>\n",
       "      <td>3212</td>\n",
       "      <td>1</td>\n",
       "      <td>SHBJ3</td>\n",
       "    </tr>\n",
       "    <tr>\n",
       "      <th>2</th>\n",
       "      <td>Monday</td>\n",
       "      <td>33</td>\n",
       "      <td>3314</td>\n",
       "      <td>1</td>\n",
       "      <td>SHBJ3</td>\n",
       "    </tr>\n",
       "    <tr>\n",
       "      <th>3</th>\n",
       "      <td>Monday</td>\n",
       "      <td>33</td>\n",
       "      <td>3315</td>\n",
       "      <td>1</td>\n",
       "      <td>SHBJ3</td>\n",
       "    </tr>\n",
       "    <tr>\n",
       "      <th>4</th>\n",
       "      <td>Tuesday</td>\n",
       "      <td>34</td>\n",
       "      <td>3412</td>\n",
       "      <td>1</td>\n",
       "      <td>SHBJ3</td>\n",
       "    </tr>\n",
       "  </tbody>\n",
       "</table>\n",
       "</div>"
      ],
      "text/plain": [
       "  dayofweek  dayofyear  day_and_hour  pickups geohash_pickup\n",
       "0   Tuesday         55          5516        1          SHBIy\n",
       "1    Sunday         32          3212        1          SHBJ3\n",
       "2    Monday         33          3314        1          SHBJ3\n",
       "3    Monday         33          3315        1          SHBJ3\n",
       "4   Tuesday         34          3412        1          SHBJ3"
      ]
     },
     "execution_count": 4,
     "metadata": {},
     "output_type": "execute_result"
    }
   ],
   "source": [
    "df2 = pd.read_csv('data/agg_clean_taxi_data_02.csv', index_col=0)\n",
    "print (\"Shape of data\\n{}\".format(df2.shape))\n",
    "df2.head()"
   ]
  },
  {
   "cell_type": "code",
   "execution_count": 5,
   "metadata": {},
   "outputs": [
    {
     "data": {
      "text/plain": [
       "(23403, 5)"
      ]
     },
     "execution_count": 5,
     "metadata": {},
     "output_type": "execute_result"
    }
   ],
   "source": [
    "df2.drop_duplicates(inplace=True)\n",
    "df2.shape"
   ]
  },
  {
   "cell_type": "code",
   "execution_count": 6,
   "metadata": {},
   "outputs": [
    {
     "name": "stdout",
     "output_type": "stream",
     "text": [
      "Shape of data\n",
      "(27591, 5)\n"
     ]
    },
    {
     "data": {
      "text/html": [
       "<div>\n",
       "<style scoped>\n",
       "    .dataframe tbody tr th:only-of-type {\n",
       "        vertical-align: middle;\n",
       "    }\n",
       "\n",
       "    .dataframe tbody tr th {\n",
       "        vertical-align: top;\n",
       "    }\n",
       "\n",
       "    .dataframe thead th {\n",
       "        text-align: right;\n",
       "    }\n",
       "</style>\n",
       "<table border=\"1\" class=\"dataframe\">\n",
       "  <thead>\n",
       "    <tr style=\"text-align: right;\">\n",
       "      <th></th>\n",
       "      <th>dayofweek</th>\n",
       "      <th>dayofyear</th>\n",
       "      <th>day_and_hour</th>\n",
       "      <th>pickups</th>\n",
       "      <th>geohash_pickup</th>\n",
       "    </tr>\n",
       "  </thead>\n",
       "  <tbody>\n",
       "    <tr>\n",
       "      <th>0</th>\n",
       "      <td>Monday</td>\n",
       "      <td>61</td>\n",
       "      <td>613</td>\n",
       "      <td>1</td>\n",
       "      <td>SHBHA</td>\n",
       "    </tr>\n",
       "    <tr>\n",
       "      <th>1</th>\n",
       "      <td>Sunday</td>\n",
       "      <td>60</td>\n",
       "      <td>6013</td>\n",
       "      <td>1</td>\n",
       "      <td>SHBJ3</td>\n",
       "    </tr>\n",
       "    <tr>\n",
       "      <th>2</th>\n",
       "      <td>Sunday</td>\n",
       "      <td>60</td>\n",
       "      <td>6017</td>\n",
       "      <td>1</td>\n",
       "      <td>SHBJ3</td>\n",
       "    </tr>\n",
       "    <tr>\n",
       "      <th>3</th>\n",
       "      <td>Monday</td>\n",
       "      <td>61</td>\n",
       "      <td>6118</td>\n",
       "      <td>1</td>\n",
       "      <td>SHBJ3</td>\n",
       "    </tr>\n",
       "    <tr>\n",
       "      <th>4</th>\n",
       "      <td>Tuesday</td>\n",
       "      <td>62</td>\n",
       "      <td>6213</td>\n",
       "      <td>1</td>\n",
       "      <td>SHBJ3</td>\n",
       "    </tr>\n",
       "  </tbody>\n",
       "</table>\n",
       "</div>"
      ],
      "text/plain": [
       "  dayofweek  dayofyear  day_and_hour  pickups geohash_pickup\n",
       "0    Monday         61           613        1          SHBHA\n",
       "1    Sunday         60          6013        1          SHBJ3\n",
       "2    Sunday         60          6017        1          SHBJ3\n",
       "3    Monday         61          6118        1          SHBJ3\n",
       "4   Tuesday         62          6213        1          SHBJ3"
      ]
     },
     "execution_count": 6,
     "metadata": {},
     "output_type": "execute_result"
    }
   ],
   "source": [
    "df3 = pd.read_csv('data/agg_clean_taxi_data_03.csv', index_col=0)\n",
    "print (\"Shape of data\\n{}\".format(df3.shape))\n",
    "df3.head()"
   ]
  },
  {
   "cell_type": "code",
   "execution_count": 7,
   "metadata": {},
   "outputs": [
    {
     "data": {
      "text/plain": [
       "(27591, 5)"
      ]
     },
     "execution_count": 7,
     "metadata": {},
     "output_type": "execute_result"
    }
   ],
   "source": [
    "df3.drop_duplicates(inplace=True)\n",
    "df3.shape"
   ]
  },
  {
   "cell_type": "code",
   "execution_count": 8,
   "metadata": {},
   "outputs": [
    {
     "name": "stdout",
     "output_type": "stream",
     "text": [
      "Shape of data\n",
      "(26869, 5)\n"
     ]
    },
    {
     "data": {
      "text/html": [
       "<div>\n",
       "<style scoped>\n",
       "    .dataframe tbody tr th:only-of-type {\n",
       "        vertical-align: middle;\n",
       "    }\n",
       "\n",
       "    .dataframe tbody tr th {\n",
       "        vertical-align: top;\n",
       "    }\n",
       "\n",
       "    .dataframe thead th {\n",
       "        text-align: right;\n",
       "    }\n",
       "</style>\n",
       "<table border=\"1\" class=\"dataframe\">\n",
       "  <thead>\n",
       "    <tr style=\"text-align: right;\">\n",
       "      <th></th>\n",
       "      <th>dayofweek</th>\n",
       "      <th>dayofyear</th>\n",
       "      <th>day_and_hour</th>\n",
       "      <th>pickups</th>\n",
       "      <th>geohash_pickup</th>\n",
       "    </tr>\n",
       "  </thead>\n",
       "  <tbody>\n",
       "    <tr>\n",
       "      <th>0</th>\n",
       "      <td>Friday</td>\n",
       "      <td>100</td>\n",
       "      <td>100-11</td>\n",
       "      <td>1</td>\n",
       "      <td>SHBJ3</td>\n",
       "    </tr>\n",
       "    <tr>\n",
       "      <th>1</th>\n",
       "      <td>Friday</td>\n",
       "      <td>100</td>\n",
       "      <td>100-15</td>\n",
       "      <td>1</td>\n",
       "      <td>SHBJ3</td>\n",
       "    </tr>\n",
       "    <tr>\n",
       "      <th>2</th>\n",
       "      <td>Friday</td>\n",
       "      <td>100</td>\n",
       "      <td>100-6</td>\n",
       "      <td>1</td>\n",
       "      <td>SHBJ3</td>\n",
       "    </tr>\n",
       "    <tr>\n",
       "      <th>3</th>\n",
       "      <td>Sunday</td>\n",
       "      <td>102</td>\n",
       "      <td>102-12</td>\n",
       "      <td>1</td>\n",
       "      <td>SHBJ3</td>\n",
       "    </tr>\n",
       "    <tr>\n",
       "      <th>4</th>\n",
       "      <td>Sunday</td>\n",
       "      <td>102</td>\n",
       "      <td>102-6</td>\n",
       "      <td>1</td>\n",
       "      <td>SHBJ3</td>\n",
       "    </tr>\n",
       "  </tbody>\n",
       "</table>\n",
       "</div>"
      ],
      "text/plain": [
       "  dayofweek  dayofyear day_and_hour  pickups geohash_pickup\n",
       "0    Friday        100       100-11        1          SHBJ3\n",
       "1    Friday        100       100-15        1          SHBJ3\n",
       "2    Friday        100        100-6        1          SHBJ3\n",
       "3    Sunday        102       102-12        1          SHBJ3\n",
       "4    Sunday        102        102-6        1          SHBJ3"
      ]
     },
     "execution_count": 8,
     "metadata": {},
     "output_type": "execute_result"
    }
   ],
   "source": [
    "df4 = pd.read_csv('data/agg_clean_taxi_data_04.csv', index_col=0)\n",
    "print (\"Shape of data\\n{}\".format(df4.shape))\n",
    "df4.head()"
   ]
  },
  {
   "cell_type": "code",
   "execution_count": 9,
   "metadata": {},
   "outputs": [
    {
     "data": {
      "text/plain": [
       "(26869, 5)"
      ]
     },
     "execution_count": 9,
     "metadata": {},
     "output_type": "execute_result"
    }
   ],
   "source": [
    "df4.drop_duplicates(inplace=True)\n",
    "df4.shape"
   ]
  },
  {
   "cell_type": "code",
   "execution_count": 10,
   "metadata": {},
   "outputs": [
    {
     "name": "stdout",
     "output_type": "stream",
     "text": [
      "Shape of data\n",
      "(29522, 5)\n"
     ]
    },
    {
     "data": {
      "text/html": [
       "<div>\n",
       "<style scoped>\n",
       "    .dataframe tbody tr th:only-of-type {\n",
       "        vertical-align: middle;\n",
       "    }\n",
       "\n",
       "    .dataframe tbody tr th {\n",
       "        vertical-align: top;\n",
       "    }\n",
       "\n",
       "    .dataframe thead th {\n",
       "        text-align: right;\n",
       "    }\n",
       "</style>\n",
       "<table border=\"1\" class=\"dataframe\">\n",
       "  <thead>\n",
       "    <tr style=\"text-align: right;\">\n",
       "      <th></th>\n",
       "      <th>dayofweek</th>\n",
       "      <th>dayofyear</th>\n",
       "      <th>day_and_hour</th>\n",
       "      <th>pickups</th>\n",
       "      <th>geohash_pickup</th>\n",
       "    </tr>\n",
       "  </thead>\n",
       "  <tbody>\n",
       "    <tr>\n",
       "      <th>0</th>\n",
       "      <td>Friday</td>\n",
       "      <td>142</td>\n",
       "      <td>142-22</td>\n",
       "      <td>1</td>\n",
       "      <td>SHBIR</td>\n",
       "    </tr>\n",
       "    <tr>\n",
       "      <th>1</th>\n",
       "      <td>Tuesday</td>\n",
       "      <td>139</td>\n",
       "      <td>139-13</td>\n",
       "      <td>1</td>\n",
       "      <td>SHBJ2</td>\n",
       "    </tr>\n",
       "    <tr>\n",
       "      <th>2</th>\n",
       "      <td>Thursday</td>\n",
       "      <td>141</td>\n",
       "      <td>141-14</td>\n",
       "      <td>1</td>\n",
       "      <td>SHBJ2</td>\n",
       "    </tr>\n",
       "    <tr>\n",
       "      <th>3</th>\n",
       "      <td>Friday</td>\n",
       "      <td>121</td>\n",
       "      <td>121-7</td>\n",
       "      <td>1</td>\n",
       "      <td>SHBJ3</td>\n",
       "    </tr>\n",
       "    <tr>\n",
       "      <th>4</th>\n",
       "      <td>Saturday</td>\n",
       "      <td>122</td>\n",
       "      <td>122-14</td>\n",
       "      <td>1</td>\n",
       "      <td>SHBJ3</td>\n",
       "    </tr>\n",
       "  </tbody>\n",
       "</table>\n",
       "</div>"
      ],
      "text/plain": [
       "  dayofweek  dayofyear day_and_hour  pickups geohash_pickup\n",
       "0    Friday        142       142-22        1          SHBIR\n",
       "1   Tuesday        139       139-13        1          SHBJ2\n",
       "2  Thursday        141       141-14        1          SHBJ2\n",
       "3    Friday        121        121-7        1          SHBJ3\n",
       "4  Saturday        122       122-14        1          SHBJ3"
      ]
     },
     "execution_count": 10,
     "metadata": {},
     "output_type": "execute_result"
    }
   ],
   "source": [
    "df5 = pd.read_csv('data/agg_clean_taxi_data_05.csv', index_col=0)\n",
    "print (\"Shape of data\\n{}\".format(df5.shape))\n",
    "df5.head()"
   ]
  },
  {
   "cell_type": "code",
   "execution_count": 11,
   "metadata": {},
   "outputs": [
    {
     "data": {
      "text/plain": [
       "(29522, 5)"
      ]
     },
     "execution_count": 11,
     "metadata": {},
     "output_type": "execute_result"
    }
   ],
   "source": [
    "df5.drop_duplicates(inplace=True)\n",
    "df5.shape"
   ]
  },
  {
   "cell_type": "code",
   "execution_count": 12,
   "metadata": {},
   "outputs": [
    {
     "name": "stdout",
     "output_type": "stream",
     "text": [
      "Shape of data\n",
      "(27477, 5)\n"
     ]
    },
    {
     "data": {
      "text/html": [
       "<div>\n",
       "<style scoped>\n",
       "    .dataframe tbody tr th:only-of-type {\n",
       "        vertical-align: middle;\n",
       "    }\n",
       "\n",
       "    .dataframe tbody tr th {\n",
       "        vertical-align: top;\n",
       "    }\n",
       "\n",
       "    .dataframe thead th {\n",
       "        text-align: right;\n",
       "    }\n",
       "</style>\n",
       "<table border=\"1\" class=\"dataframe\">\n",
       "  <thead>\n",
       "    <tr style=\"text-align: right;\">\n",
       "      <th></th>\n",
       "      <th>dayofweek</th>\n",
       "      <th>dayofyear</th>\n",
       "      <th>day_and_hour</th>\n",
       "      <th>pickups</th>\n",
       "      <th>geohash_pickup</th>\n",
       "    </tr>\n",
       "  </thead>\n",
       "  <tbody>\n",
       "    <tr>\n",
       "      <th>0</th>\n",
       "      <td>Tuesday</td>\n",
       "      <td>181</td>\n",
       "      <td>181-15</td>\n",
       "      <td>1</td>\n",
       "      <td>SHBJ0</td>\n",
       "    </tr>\n",
       "    <tr>\n",
       "      <th>1</th>\n",
       "      <td>Monday</td>\n",
       "      <td>152</td>\n",
       "      <td>152-10</td>\n",
       "      <td>1</td>\n",
       "      <td>SHBJ3</td>\n",
       "    </tr>\n",
       "    <tr>\n",
       "      <th>2</th>\n",
       "      <td>Monday</td>\n",
       "      <td>152</td>\n",
       "      <td>152-11</td>\n",
       "      <td>1</td>\n",
       "      <td>SHBJ3</td>\n",
       "    </tr>\n",
       "    <tr>\n",
       "      <th>3</th>\n",
       "      <td>Monday</td>\n",
       "      <td>152</td>\n",
       "      <td>152-16</td>\n",
       "      <td>1</td>\n",
       "      <td>SHBJ3</td>\n",
       "    </tr>\n",
       "    <tr>\n",
       "      <th>4</th>\n",
       "      <td>Monday</td>\n",
       "      <td>152</td>\n",
       "      <td>152-18</td>\n",
       "      <td>1</td>\n",
       "      <td>SHBJ3</td>\n",
       "    </tr>\n",
       "  </tbody>\n",
       "</table>\n",
       "</div>"
      ],
      "text/plain": [
       "  dayofweek  dayofyear day_and_hour  pickups geohash_pickup\n",
       "0   Tuesday        181       181-15        1          SHBJ0\n",
       "1    Monday        152       152-10        1          SHBJ3\n",
       "2    Monday        152       152-11        1          SHBJ3\n",
       "3    Monday        152       152-16        1          SHBJ3\n",
       "4    Monday        152       152-18        1          SHBJ3"
      ]
     },
     "execution_count": 12,
     "metadata": {},
     "output_type": "execute_result"
    }
   ],
   "source": [
    "df6 = pd.read_csv('data/agg_clean_taxi_data_06.csv', index_col=0)\n",
    "print (\"Shape of data\\n{}\".format(df6.shape))\n",
    "df6.head()"
   ]
  },
  {
   "cell_type": "code",
   "execution_count": 13,
   "metadata": {},
   "outputs": [
    {
     "data": {
      "text/plain": [
       "(27477, 5)"
      ]
     },
     "execution_count": 13,
     "metadata": {},
     "output_type": "execute_result"
    }
   ],
   "source": [
    "df6.drop_duplicates(inplace=True)\n",
    "df6.shape"
   ]
  },
  {
   "cell_type": "code",
   "execution_count": 14,
   "metadata": {},
   "outputs": [],
   "source": [
    "df = pd.concat([df1, df2], ignore_index=True)\n",
    "df = pd.concat([df, df3], ignore_index=True)\n",
    "df = pd.concat([df, df4], ignore_index=True)\n",
    "df = pd.concat([df, df5], ignore_index=True)\n",
    "df = pd.concat([df, df6], ignore_index=True)"
   ]
  },
  {
   "cell_type": "code",
   "execution_count": 15,
   "metadata": {},
   "outputs": [
    {
     "data": {
      "text/plain": [
       "158270"
      ]
     },
     "execution_count": 15,
     "metadata": {},
     "output_type": "execute_result"
    }
   ],
   "source": [
    "df1.shape[0] + df2.shape[0] + df3.shape[0] + df4.shape[0] + df5.shape[0] + df6.shape[0]"
   ]
  },
  {
   "cell_type": "code",
   "execution_count": 16,
   "metadata": {},
   "outputs": [
    {
     "data": {
      "text/plain": [
       "(158270, 5)"
      ]
     },
     "execution_count": 16,
     "metadata": {},
     "output_type": "execute_result"
    }
   ],
   "source": [
    "df.shape"
   ]
  },
  {
   "cell_type": "code",
   "execution_count": 17,
   "metadata": {},
   "outputs": [],
   "source": [
    "df.to_csv('data/agg_clean_taxi_201501_06.csv')"
   ]
  }
 ],
 "metadata": {
  "kernelspec": {
   "display_name": "Python 3",
   "language": "python",
   "name": "python3"
  },
  "language_info": {
   "codemirror_mode": {
    "name": "ipython",
    "version": 3
   },
   "file_extension": ".py",
   "mimetype": "text/x-python",
   "name": "python",
   "nbconvert_exporter": "python",
   "pygments_lexer": "ipython3",
   "version": "3.6.1"
  }
 },
 "nbformat": 4,
 "nbformat_minor": 2
}
