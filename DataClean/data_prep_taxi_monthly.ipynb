{
 "cells": [
  {
   "cell_type": "code",
   "execution_count": 1,
   "metadata": {},
   "outputs": [],
   "source": [
    "from __future__ import print_function, division\n",
    "%matplotlib inline\n",
    "import statsmodels.formula.api as smf  \n",
    "import matplotlib.pyplot as plt\n",
    "import matplotlib\n",
    "import pandas as pd\n",
    "import numpy as np\n",
    "import geopandas as gpd\n",
    "import os\n",
    "import sys\n",
    "from scipy import stats\n",
    "from fiona.crs import from_epsg\n",
    "import shapely\n",
    "import geohash_hilbert as ghh"
   ]
  },
  {
   "cell_type": "code",
   "execution_count": 2,
   "metadata": {},
   "outputs": [],
   "source": [
    "#nyc open data API, you need apptoken to run this cell\n",
    "from sodapy import Socrata\n",
    "client = Socrata(\"data.cityofnewyork.us\", os.getenv(\"apptoken\"))"
   ]
  },
  {
   "cell_type": "markdown",
   "metadata": {},
   "source": [
    "# taxi 2015-01"
   ]
  },
  {
   "cell_type": "code",
   "execution_count": 3,
   "metadata": {},
   "outputs": [
    {
     "data": {
      "text/html": [
       "<div>\n",
       "<style scoped>\n",
       "    .dataframe tbody tr th:only-of-type {\n",
       "        vertical-align: middle;\n",
       "    }\n",
       "\n",
       "    .dataframe tbody tr th {\n",
       "        vertical-align: top;\n",
       "    }\n",
       "\n",
       "    .dataframe thead th {\n",
       "        text-align: right;\n",
       "    }\n",
       "</style>\n",
       "<table border=\"1\" class=\"dataframe\">\n",
       "  <thead>\n",
       "    <tr style=\"text-align: right;\">\n",
       "      <th></th>\n",
       "      <th>dropoff_datetime</th>\n",
       "      <th>passenger_count</th>\n",
       "      <th>pickup_datetime</th>\n",
       "      <th>pickup_latitude</th>\n",
       "      <th>pickup_longitude</th>\n",
       "    </tr>\n",
       "  </thead>\n",
       "  <tbody>\n",
       "    <tr>\n",
       "      <th>0</th>\n",
       "      <td>2015-01-01T01:25:10.000</td>\n",
       "      <td>1</td>\n",
       "      <td>2015-01-01T01:01:02.000</td>\n",
       "      <td>40.7596435546875</td>\n",
       "      <td>-73.972335815429687</td>\n",
       "    </tr>\n",
       "    <tr>\n",
       "      <th>1</th>\n",
       "      <td>2015-01-01T01:37:54.000</td>\n",
       "      <td>2</td>\n",
       "      <td>2015-01-01T01:01:02.000</td>\n",
       "      <td>40.740058898925781</td>\n",
       "      <td>-74.005821228027344</td>\n",
       "    </tr>\n",
       "    <tr>\n",
       "      <th>2</th>\n",
       "      <td>2015-01-01T01:45:04.000</td>\n",
       "      <td>2</td>\n",
       "      <td>2015-01-01T01:01:02.000</td>\n",
       "      <td>40.768486022949219</td>\n",
       "      <td>-73.984916687011719</td>\n",
       "    </tr>\n",
       "    <tr>\n",
       "      <th>3</th>\n",
       "      <td>2015-01-01T01:08:14.000</td>\n",
       "      <td>5</td>\n",
       "      <td>2015-01-01T01:01:02.000</td>\n",
       "      <td>40.75531005859375</td>\n",
       "      <td>-73.98358154296875</td>\n",
       "    </tr>\n",
       "    <tr>\n",
       "      <th>4</th>\n",
       "      <td>2015-01-01T01:31:47.000</td>\n",
       "      <td>1</td>\n",
       "      <td>2015-01-01T01:01:02.000</td>\n",
       "      <td>40.793972015380859</td>\n",
       "      <td>-73.970268249511719</td>\n",
       "    </tr>\n",
       "  </tbody>\n",
       "</table>\n",
       "</div>"
      ],
      "text/plain": [
       "          dropoff_datetime passenger_count          pickup_datetime  \\\n",
       "0  2015-01-01T01:25:10.000               1  2015-01-01T01:01:02.000   \n",
       "1  2015-01-01T01:37:54.000               2  2015-01-01T01:01:02.000   \n",
       "2  2015-01-01T01:45:04.000               2  2015-01-01T01:01:02.000   \n",
       "3  2015-01-01T01:08:14.000               5  2015-01-01T01:01:02.000   \n",
       "4  2015-01-01T01:31:47.000               1  2015-01-01T01:01:02.000   \n",
       "\n",
       "      pickup_latitude     pickup_longitude  \n",
       "0    40.7596435546875  -73.972335815429687  \n",
       "1  40.740058898925781  -74.005821228027344  \n",
       "2  40.768486022949219  -73.984916687011719  \n",
       "3   40.75531005859375   -73.98358154296875  \n",
       "4  40.793972015380859  -73.970268249511719  "
      ]
     },
     "execution_count": 3,
     "metadata": {},
     "output_type": "execute_result"
    }
   ],
   "source": [
    "results = client.get(\"2yzn-sicd\",\n",
    "                     select = \"passenger_count, pickup_longitude, pickup_latitude, pickup_datetime, dropoff_datetime\",\n",
    "                     where=\"pickup_datetime > '2015-1-1T01:1:1.000' and pickup_datetime < '2015-2-1T01:1:1.000'\",\n",
    "                     limit=2000000)\n",
    "df = pd.DataFrame.from_records(results)\n",
    "df.head()"
   ]
  },
  {
   "cell_type": "code",
   "execution_count": 4,
   "metadata": {},
   "outputs": [
    {
     "data": {
      "text/plain": [
       "(2000000, 5)"
      ]
     },
     "execution_count": 4,
     "metadata": {},
     "output_type": "execute_result"
    }
   ],
   "source": [
    "df.shape"
   ]
  },
  {
   "cell_type": "code",
   "execution_count": null,
   "metadata": {},
   "outputs": [],
   "source": []
  },
  {
   "cell_type": "code",
   "execution_count": null,
   "metadata": {},
   "outputs": [],
   "source": []
  },
  {
   "cell_type": "code",
   "execution_count": null,
   "metadata": {},
   "outputs": [],
   "source": []
  },
  {
   "cell_type": "code",
   "execution_count": null,
   "metadata": {},
   "outputs": [],
   "source": []
  },
  {
   "cell_type": "code",
   "execution_count": null,
   "metadata": {},
   "outputs": [],
   "source": []
  },
  {
   "cell_type": "code",
   "execution_count": null,
   "metadata": {},
   "outputs": [],
   "source": []
  },
  {
   "cell_type": "code",
   "execution_count": null,
   "metadata": {},
   "outputs": [],
   "source": []
  },
  {
   "cell_type": "code",
   "execution_count": null,
   "metadata": {},
   "outputs": [],
   "source": []
  },
  {
   "cell_type": "code",
   "execution_count": null,
   "metadata": {},
   "outputs": [],
   "source": []
  },
  {
   "cell_type": "code",
   "execution_count": null,
   "metadata": {},
   "outputs": [],
   "source": []
  },
  {
   "cell_type": "code",
   "execution_count": null,
   "metadata": {},
   "outputs": [],
   "source": []
  },
  {
   "cell_type": "code",
   "execution_count": null,
   "metadata": {},
   "outputs": [],
   "source": []
  },
  {
   "cell_type": "code",
   "execution_count": null,
   "metadata": {},
   "outputs": [],
   "source": []
  }
 ],
 "metadata": {
  "kernelspec": {
   "display_name": "Python 3",
   "language": "python",
   "name": "python3"
  },
  "language_info": {
   "codemirror_mode": {
    "name": "ipython",
    "version": 3
   },
   "file_extension": ".py",
   "mimetype": "text/x-python",
   "name": "python",
   "nbconvert_exporter": "python",
   "pygments_lexer": "ipython3",
   "version": "3.6.1"
  }
 },
 "nbformat": 4,
 "nbformat_minor": 2
}
