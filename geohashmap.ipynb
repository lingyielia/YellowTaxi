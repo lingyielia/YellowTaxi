{
 "cells": [
  {
   "cell_type": "code",
   "execution_count": 1,
   "metadata": {},
   "outputs": [],
   "source": [
    "from __future__ import print_function, division\n",
    "%matplotlib inline\n",
    "import os\n",
    "import pandas as pd\n",
    "import numpy as np\n",
    "import matplotlib\n",
    "import matplotlib.pyplot as plt\n",
    "import geopandas as gpd\n",
    "import shapely\n",
    "import pysal as ps\n",
    "from fiona.crs import from_epsg\n",
    "from shapely.geometry import Polygon"
   ]
  },
  {
   "cell_type": "code",
   "execution_count": 2,
   "metadata": {},
   "outputs": [
    {
     "name": "stderr",
     "output_type": "stream",
     "text": [
      "/Library/Frameworks/Python.framework/Versions/3.6/lib/python3.6/site-packages/numpy/lib/arraysetops.py:463: FutureWarning: elementwise comparison failed; returning scalar instead, but in the future will perform elementwise comparison\n",
      "  mask |= (ar1 == a)\n"
     ]
    },
    {
     "name": "stdout",
     "output_type": "stream",
     "text": [
      "Shape of data\n",
      "(1245328, 29)\n"
     ]
    },
    {
     "data": {
      "text/html": [
       "<div>\n",
       "<style scoped>\n",
       "    .dataframe tbody tr th:only-of-type {\n",
       "        vertical-align: middle;\n",
       "    }\n",
       "\n",
       "    .dataframe tbody tr th {\n",
       "        vertical-align: top;\n",
       "    }\n",
       "\n",
       "    .dataframe thead th {\n",
       "        text-align: right;\n",
       "    }\n",
       "</style>\n",
       "<table border=\"1\" class=\"dataframe\">\n",
       "  <thead>\n",
       "    <tr style=\"text-align: right;\">\n",
       "      <th></th>\n",
       "      <th>passenger_count</th>\n",
       "      <th>pickup_longitude</th>\n",
       "      <th>pickup_latitude</th>\n",
       "      <th>dropoff_longitude</th>\n",
       "      <th>dropoff_latitude</th>\n",
       "      <th>hour</th>\n",
       "      <th>dayofweek</th>\n",
       "      <th>dayofyear</th>\n",
       "      <th>timerange</th>\n",
       "      <th>day_and_hour</th>\n",
       "      <th>...</th>\n",
       "      <th>snowfall</th>\n",
       "      <th>snow_depth</th>\n",
       "      <th>temperature_max</th>\n",
       "      <th>temperature_min</th>\n",
       "      <th>fastest_2minute_windspeed</th>\n",
       "      <th>fog</th>\n",
       "      <th>heavy_fog</th>\n",
       "      <th>ice_pellets</th>\n",
       "      <th>smoke_haze</th>\n",
       "      <th>EVENT_TYPE</th>\n",
       "    </tr>\n",
       "  </thead>\n",
       "  <tbody>\n",
       "    <tr>\n",
       "      <th>9134884</th>\n",
       "      <td>1</td>\n",
       "      <td>-73.988396</td>\n",
       "      <td>40.720039</td>\n",
       "      <td>-73.952820</td>\n",
       "      <td>40.718426</td>\n",
       "      <td>23</td>\n",
       "      <td>Monday</td>\n",
       "      <td>19</td>\n",
       "      <td>396</td>\n",
       "      <td>1923</td>\n",
       "      <td>...</td>\n",
       "      <td>0.0</td>\n",
       "      <td>0.0</td>\n",
       "      <td>42.0</td>\n",
       "      <td>36.0</td>\n",
       "      <td>16.1</td>\n",
       "      <td>0.0</td>\n",
       "      <td>0.0</td>\n",
       "      <td>0.0</td>\n",
       "      <td>0.0</td>\n",
       "      <td>-1</td>\n",
       "    </tr>\n",
       "    <tr>\n",
       "      <th>10247808</th>\n",
       "      <td>1</td>\n",
       "      <td>-73.970192</td>\n",
       "      <td>40.796490</td>\n",
       "      <td>-73.965637</td>\n",
       "      <td>40.807171</td>\n",
       "      <td>9</td>\n",
       "      <td>Wednesday</td>\n",
       "      <td>14</td>\n",
       "      <td>332</td>\n",
       "      <td>149</td>\n",
       "      <td>...</td>\n",
       "      <td>0.0</td>\n",
       "      <td>0.0</td>\n",
       "      <td>32.0</td>\n",
       "      <td>16.0</td>\n",
       "      <td>14.1</td>\n",
       "      <td>0.0</td>\n",
       "      <td>0.0</td>\n",
       "      <td>0.0</td>\n",
       "      <td>0.0</td>\n",
       "      <td>-1</td>\n",
       "    </tr>\n",
       "    <tr>\n",
       "      <th>5401286</th>\n",
       "      <td>1</td>\n",
       "      <td>-73.967049</td>\n",
       "      <td>40.788399</td>\n",
       "      <td>-73.983917</td>\n",
       "      <td>40.749298</td>\n",
       "      <td>8</td>\n",
       "      <td>Thursday</td>\n",
       "      <td>29</td>\n",
       "      <td>1750</td>\n",
       "      <td>298</td>\n",
       "      <td>...</td>\n",
       "      <td>0.0</td>\n",
       "      <td>6.0</td>\n",
       "      <td>36.0</td>\n",
       "      <td>19.0</td>\n",
       "      <td>14.1</td>\n",
       "      <td>0.0</td>\n",
       "      <td>0.0</td>\n",
       "      <td>0.0</td>\n",
       "      <td>0.0</td>\n",
       "      <td>-1</td>\n",
       "    </tr>\n",
       "    <tr>\n",
       "      <th>3801627</th>\n",
       "      <td>1</td>\n",
       "      <td>-73.974541</td>\n",
       "      <td>40.736504</td>\n",
       "      <td>-73.776344</td>\n",
       "      <td>40.645786</td>\n",
       "      <td>5</td>\n",
       "      <td>Friday</td>\n",
       "      <td>16</td>\n",
       "      <td>1506</td>\n",
       "      <td>165</td>\n",
       "      <td>...</td>\n",
       "      <td>0.0</td>\n",
       "      <td>0.0</td>\n",
       "      <td>43.0</td>\n",
       "      <td>20.0</td>\n",
       "      <td>21.0</td>\n",
       "      <td>0.0</td>\n",
       "      <td>0.0</td>\n",
       "      <td>0.0</td>\n",
       "      <td>1.0</td>\n",
       "      <td>-1</td>\n",
       "    </tr>\n",
       "    <tr>\n",
       "      <th>2176270</th>\n",
       "      <td>1</td>\n",
       "      <td>-73.992386</td>\n",
       "      <td>40.737835</td>\n",
       "      <td>-74.001976</td>\n",
       "      <td>40.739651</td>\n",
       "      <td>16</td>\n",
       "      <td>Tuesday</td>\n",
       "      <td>13</td>\n",
       "      <td>286</td>\n",
       "      <td>1316</td>\n",
       "      <td>...</td>\n",
       "      <td>0.0</td>\n",
       "      <td>0.0</td>\n",
       "      <td>36.0</td>\n",
       "      <td>17.0</td>\n",
       "      <td>18.1</td>\n",
       "      <td>0.0</td>\n",
       "      <td>0.0</td>\n",
       "      <td>0.0</td>\n",
       "      <td>0.0</td>\n",
       "      <td>-1</td>\n",
       "    </tr>\n",
       "  </tbody>\n",
       "</table>\n",
       "<p>5 rows × 29 columns</p>\n",
       "</div>"
      ],
      "text/plain": [
       "          passenger_count  pickup_longitude  pickup_latitude  \\\n",
       "9134884                 1        -73.988396        40.720039   \n",
       "10247808                1        -73.970192        40.796490   \n",
       "5401286                 1        -73.967049        40.788399   \n",
       "3801627                 1        -73.974541        40.736504   \n",
       "2176270                 1        -73.992386        40.737835   \n",
       "\n",
       "          dropoff_longitude  dropoff_latitude  hour  dayofweek  dayofyear  \\\n",
       "9134884          -73.952820         40.718426    23     Monday         19   \n",
       "10247808         -73.965637         40.807171     9  Wednesday         14   \n",
       "5401286          -73.983917         40.749298     8   Thursday         29   \n",
       "3801627          -73.776344         40.645786     5     Friday         16   \n",
       "2176270          -74.001976         40.739651    16    Tuesday         13   \n",
       "\n",
       "          timerange  day_and_hour     ...     snowfall snow_depth  \\\n",
       "9134884         396          1923     ...          0.0        0.0   \n",
       "10247808        332           149     ...          0.0        0.0   \n",
       "5401286        1750           298     ...          0.0        6.0   \n",
       "3801627        1506           165     ...          0.0        0.0   \n",
       "2176270         286          1316     ...          0.0        0.0   \n",
       "\n",
       "          temperature_max  temperature_min fastest_2minute_windspeed  fog  \\\n",
       "9134884              42.0             36.0                      16.1  0.0   \n",
       "10247808             32.0             16.0                      14.1  0.0   \n",
       "5401286              36.0             19.0                      14.1  0.0   \n",
       "3801627              43.0             20.0                      21.0  0.0   \n",
       "2176270              36.0             17.0                      18.1  0.0   \n",
       "\n",
       "          heavy_fog  ice_pellets  smoke_haze  EVENT_TYPE  \n",
       "9134884         0.0          0.0         0.0          -1  \n",
       "10247808        0.0          0.0         0.0          -1  \n",
       "5401286         0.0          0.0         0.0          -1  \n",
       "3801627         0.0          0.0         1.0          -1  \n",
       "2176270         0.0          0.0         0.0          -1  \n",
       "\n",
       "[5 rows x 29 columns]"
      ]
     },
     "execution_count": 2,
     "metadata": {},
     "output_type": "execute_result"
    }
   ],
   "source": [
    "df = pd.read_csv('final_clean_data_201501_shorter.csv', index_col=0)\n",
    "print (\"Shape of data\\n{}\".format(df.shape))\n",
    "df.head()"
   ]
  },
  {
   "cell_type": "code",
   "execution_count": 3,
   "metadata": {},
   "outputs": [],
   "source": [
    "df = df[['dropoff_longitude','dropoff_latitude', 'geohash_dropoff']]"
   ]
  },
  {
   "cell_type": "code",
   "execution_count": 4,
   "metadata": {},
   "outputs": [
    {
     "data": {
      "text/plain": [
       "1777"
      ]
     },
     "execution_count": 4,
     "metadata": {},
     "output_type": "execute_result"
    }
   ],
   "source": [
    "len(df.geohash_dropoff.unique())"
   ]
  },
  {
   "cell_type": "code",
   "execution_count": 5,
   "metadata": {},
   "outputs": [],
   "source": [
    "df['geohash_factorize'] = pd.factorize(df['geohash_dropoff'])[0]"
   ]
  },
  {
   "cell_type": "code",
   "execution_count": 6,
   "metadata": {},
   "outputs": [
    {
     "data": {
      "text/html": [
       "<div>\n",
       "<style scoped>\n",
       "    .dataframe tbody tr th:only-of-type {\n",
       "        vertical-align: middle;\n",
       "    }\n",
       "\n",
       "    .dataframe tbody tr th {\n",
       "        vertical-align: top;\n",
       "    }\n",
       "\n",
       "    .dataframe thead th {\n",
       "        text-align: right;\n",
       "    }\n",
       "</style>\n",
       "<table border=\"1\" class=\"dataframe\">\n",
       "  <thead>\n",
       "    <tr style=\"text-align: right;\">\n",
       "      <th></th>\n",
       "      <th>dropoff_longitude</th>\n",
       "      <th>dropoff_latitude</th>\n",
       "      <th>geohash_dropoff</th>\n",
       "      <th>geohash_factorize</th>\n",
       "      <th>lonlat</th>\n",
       "      <th>geometry</th>\n",
       "    </tr>\n",
       "  </thead>\n",
       "  <tbody>\n",
       "    <tr>\n",
       "      <th>9134884</th>\n",
       "      <td>-73.952820</td>\n",
       "      <td>40.718426</td>\n",
       "      <td>SHG2@</td>\n",
       "      <td>0</td>\n",
       "      <td>(-73.95281982421875, 40.718425750732415)</td>\n",
       "      <td>POINT (-73.95281982421875 40.71842575073241)</td>\n",
       "    </tr>\n",
       "    <tr>\n",
       "      <th>10247808</th>\n",
       "      <td>-73.965637</td>\n",
       "      <td>40.807171</td>\n",
       "      <td>SHBJU</td>\n",
       "      <td>1</td>\n",
       "      <td>(-73.96563720703125, 40.80717086791992)</td>\n",
       "      <td>POINT (-73.96563720703125 40.80717086791992)</td>\n",
       "    </tr>\n",
       "    <tr>\n",
       "      <th>5401286</th>\n",
       "      <td>-73.983917</td>\n",
       "      <td>40.749298</td>\n",
       "      <td>SHG1b</td>\n",
       "      <td>2</td>\n",
       "      <td>(-73.98391723632812, 40.74929809570313)</td>\n",
       "      <td>POINT (-73.98391723632812 40.74929809570313)</td>\n",
       "    </tr>\n",
       "    <tr>\n",
       "      <th>3801627</th>\n",
       "      <td>-73.776344</td>\n",
       "      <td>40.645786</td>\n",
       "      <td>SHFkj</td>\n",
       "      <td>3</td>\n",
       "      <td>(-73.7763442993164, 40.64578628540039)</td>\n",
       "      <td>POINT (-73.77634429931641 40.64578628540039)</td>\n",
       "    </tr>\n",
       "    <tr>\n",
       "      <th>2176270</th>\n",
       "      <td>-74.001976</td>\n",
       "      <td>40.739651</td>\n",
       "      <td>SHG1e</td>\n",
       "      <td>4</td>\n",
       "      <td>(-74.00197601318358, 40.73965072631836)</td>\n",
       "      <td>POINT (-74.00197601318358 40.73965072631836)</td>\n",
       "    </tr>\n",
       "  </tbody>\n",
       "</table>\n",
       "</div>"
      ],
      "text/plain": [
       "          dropoff_longitude  dropoff_latitude geohash_dropoff  \\\n",
       "9134884          -73.952820         40.718426           SHG2@   \n",
       "10247808         -73.965637         40.807171           SHBJU   \n",
       "5401286          -73.983917         40.749298           SHG1b   \n",
       "3801627          -73.776344         40.645786           SHFkj   \n",
       "2176270          -74.001976         40.739651           SHG1e   \n",
       "\n",
       "          geohash_factorize                                    lonlat  \\\n",
       "9134884                   0  (-73.95281982421875, 40.718425750732415)   \n",
       "10247808                  1   (-73.96563720703125, 40.80717086791992)   \n",
       "5401286                   2   (-73.98391723632812, 40.74929809570313)   \n",
       "3801627                   3    (-73.7763442993164, 40.64578628540039)   \n",
       "2176270                   4   (-74.00197601318358, 40.73965072631836)   \n",
       "\n",
       "                                              geometry  \n",
       "9134884   POINT (-73.95281982421875 40.71842575073241)  \n",
       "10247808  POINT (-73.96563720703125 40.80717086791992)  \n",
       "5401286   POINT (-73.98391723632812 40.74929809570313)  \n",
       "3801627   POINT (-73.77634429931641 40.64578628540039)  \n",
       "2176270   POINT (-74.00197601318358 40.73965072631836)  "
      ]
     },
     "execution_count": 6,
     "metadata": {},
     "output_type": "execute_result"
    }
   ],
   "source": [
    "# combine lat and lon to one column\n",
    "df['lonlat']=list(zip(df.dropoff_longitude, df.dropoff_latitude))\n",
    "# Create Point Geometry for based on lonlat column\n",
    "df['geometry']=df[['lonlat']].applymap(lambda x:shapely.geometry.Point(x))\n",
    "df = gpd.GeoDataFrame(df)\n",
    "df.head()"
   ]
  },
  {
   "cell_type": "raw",
   "metadata": {},
   "source": [
    "df.crs = from_epsg(4326)\n",
    "f, ax = plt.subplots(figsize=(10,10))\n",
    "#fig = plt.figure(figsize=(8,8))\n",
    "df['geometry'].plot(ax=ax, marker='.', c=df.geohash_factorize, alpha=0.3)"
   ]
  },
  {
   "cell_type": "code",
   "execution_count": 7,
   "metadata": {},
   "outputs": [
    {
     "data": {
      "text/plain": [
       "1777"
      ]
     },
     "execution_count": 7,
     "metadata": {},
     "output_type": "execute_result"
    }
   ],
   "source": [
    "len(df.geohash_dropoff.unique())"
   ]
  },
  {
   "cell_type": "code",
   "execution_count": 8,
   "metadata": {},
   "outputs": [],
   "source": [
    "import geohash_hilbert as ghh"
   ]
  },
  {
   "cell_type": "code",
   "execution_count": 9,
   "metadata": {},
   "outputs": [
    {
     "data": {
      "text/plain": [
       "{'bbox': (-73.795166015625, 40.6439208984375, -73.7841796875, 40.6494140625),\n",
       " 'geometry': {'coordinates': [[(-73.795166015625, 40.6439208984375),\n",
       "    (-73.7841796875, 40.6439208984375),\n",
       "    (-73.7841796875, 40.6494140625),\n",
       "    (-73.795166015625, 40.6494140625),\n",
       "    (-73.795166015625, 40.6439208984375)]],\n",
       "  'type': 'Polygon'},\n",
       " 'properties': {'bits_per_char': 6,\n",
       "  'code': 'SHFkk',\n",
       "  'lat': 40.64666748046875,\n",
       "  'lat_err': 0.00274658203125,\n",
       "  'lng': -73.7896728515625,\n",
       "  'lng_err': 0.0054931640625},\n",
       " 'type': 'Feature'}"
      ]
     },
     "execution_count": 9,
     "metadata": {},
     "output_type": "execute_result"
    }
   ],
   "source": [
    "ghh.rectangle('SHFkk')"
   ]
  },
  {
   "cell_type": "code",
   "execution_count": 10,
   "metadata": {},
   "outputs": [],
   "source": [
    "coords = ghh.rectangle('SHFkk')['geometry']['coordinates'][0]"
   ]
  },
  {
   "cell_type": "code",
   "execution_count": 11,
   "metadata": {},
   "outputs": [],
   "source": [
    "poly_jfk = Polygon(coords)"
   ]
  },
  {
   "cell_type": "code",
   "execution_count": 12,
   "metadata": {},
   "outputs": [
    {
     "data": {
      "text/plain": [
       "numpy.ndarray"
      ]
     },
     "execution_count": 12,
     "metadata": {},
     "output_type": "execute_result"
    }
   ],
   "source": [
    "type(df.geohash_dropoff.unique())"
   ]
  },
  {
   "cell_type": "code",
   "execution_count": 13,
   "metadata": {},
   "outputs": [],
   "source": [
    "df.drop_duplicates(subset='geohash_dropoff', inplace=True)"
   ]
  },
  {
   "cell_type": "code",
   "execution_count": 14,
   "metadata": {},
   "outputs": [
    {
     "data": {
      "text/plain": [
       "array(['SHG2@', 'SHBJU', 'SHG1b', ..., 'SHBOl', 'SHGEk', 'SHGWK'], dtype=object)"
      ]
     },
     "execution_count": 14,
     "metadata": {},
     "output_type": "execute_result"
    }
   ],
   "source": [
    "df.geohash_dropoff.unique()"
   ]
  },
  {
   "cell_type": "code",
   "execution_count": 15,
   "metadata": {},
   "outputs": [],
   "source": [
    "geohashlist = list(df.geohash_dropoff.unique())"
   ]
  },
  {
   "cell_type": "code",
   "execution_count": 16,
   "metadata": {},
   "outputs": [
    {
     "data": {
      "text/plain": [
       "1777"
      ]
     },
     "execution_count": 16,
     "metadata": {},
     "output_type": "execute_result"
    }
   ],
   "source": [
    "len(geohashlist)"
   ]
  },
  {
   "cell_type": "code",
   "execution_count": 17,
   "metadata": {},
   "outputs": [],
   "source": [
    "df.drop(['geometry', 'lonlat'], axis=1, inplace=True)\n",
    "df.reset_index(drop=True, inplace=True)"
   ]
  },
  {
   "cell_type": "code",
   "execution_count": 18,
   "metadata": {},
   "outputs": [
    {
     "data": {
      "text/html": [
       "<div>\n",
       "<style scoped>\n",
       "    .dataframe tbody tr th:only-of-type {\n",
       "        vertical-align: middle;\n",
       "    }\n",
       "\n",
       "    .dataframe tbody tr th {\n",
       "        vertical-align: top;\n",
       "    }\n",
       "\n",
       "    .dataframe thead th {\n",
       "        text-align: right;\n",
       "    }\n",
       "</style>\n",
       "<table border=\"1\" class=\"dataframe\">\n",
       "  <thead>\n",
       "    <tr style=\"text-align: right;\">\n",
       "      <th></th>\n",
       "      <th>dropoff_longitude</th>\n",
       "      <th>dropoff_latitude</th>\n",
       "      <th>geohash_dropoff</th>\n",
       "      <th>geohash_factorize</th>\n",
       "      <th>geometry</th>\n",
       "    </tr>\n",
       "  </thead>\n",
       "  <tbody>\n",
       "    <tr>\n",
       "      <th>0</th>\n",
       "      <td>-73.952820</td>\n",
       "      <td>40.718426</td>\n",
       "      <td>SHG2@</td>\n",
       "      <td>0</td>\n",
       "      <td>POLYGON ((-73.9599609375 40.71533203125, -73.9...</td>\n",
       "    </tr>\n",
       "    <tr>\n",
       "      <th>1</th>\n",
       "      <td>-73.965637</td>\n",
       "      <td>40.807171</td>\n",
       "      <td>SHBJU</td>\n",
       "      <td>1</td>\n",
       "      <td>POLYGON ((-73.970947265625 40.80322265625, -73...</td>\n",
       "    </tr>\n",
       "    <tr>\n",
       "      <th>2</th>\n",
       "      <td>-73.983917</td>\n",
       "      <td>40.749298</td>\n",
       "      <td>SHG1b</td>\n",
       "      <td>2</td>\n",
       "      <td>POLYGON ((-73.992919921875 40.748291015625, -7...</td>\n",
       "    </tr>\n",
       "    <tr>\n",
       "      <th>3</th>\n",
       "      <td>-73.776344</td>\n",
       "      <td>40.645786</td>\n",
       "      <td>SHFkj</td>\n",
       "      <td>3</td>\n",
       "      <td>POLYGON ((-73.7841796875 40.6439208984375, -73...</td>\n",
       "    </tr>\n",
       "    <tr>\n",
       "      <th>4</th>\n",
       "      <td>-74.001976</td>\n",
       "      <td>40.739651</td>\n",
       "      <td>SHG1e</td>\n",
       "      <td>4</td>\n",
       "      <td>POLYGON ((-74.00390625 40.7373046875, -73.9929...</td>\n",
       "    </tr>\n",
       "  </tbody>\n",
       "</table>\n",
       "</div>"
      ],
      "text/plain": [
       "   dropoff_longitude  dropoff_latitude geohash_dropoff  geohash_factorize  \\\n",
       "0         -73.952820         40.718426           SHG2@                  0   \n",
       "1         -73.965637         40.807171           SHBJU                  1   \n",
       "2         -73.983917         40.749298           SHG1b                  2   \n",
       "3         -73.776344         40.645786           SHFkj                  3   \n",
       "4         -74.001976         40.739651           SHG1e                  4   \n",
       "\n",
       "                                            geometry  \n",
       "0  POLYGON ((-73.9599609375 40.71533203125, -73.9...  \n",
       "1  POLYGON ((-73.970947265625 40.80322265625, -73...  \n",
       "2  POLYGON ((-73.992919921875 40.748291015625, -7...  \n",
       "3  POLYGON ((-73.7841796875 40.6439208984375, -73...  \n",
       "4  POLYGON ((-74.00390625 40.7373046875, -73.9929...  "
      ]
     },
     "execution_count": 18,
     "metadata": {},
     "output_type": "execute_result"
    }
   ],
   "source": [
    "#add a column of geometry to dataframe\n",
    "geo = {}\n",
    "for i in range(len(geohashlist)):\n",
    "    coords = ghh.rectangle(geohashlist[i])['geometry']['coordinates'][0]\n",
    "    poly = Polygon(coords)\n",
    "    geo[i] = poly\n",
    "s = pd.Series(geo, name='geometry')\n",
    "geo = pd.DataFrame(s)\n",
    "df = df.merge(geo, left_index=True, right_index=True)\n",
    "df.head()"
   ]
  },
  {
   "cell_type": "code",
   "execution_count": 19,
   "metadata": {},
   "outputs": [
    {
     "data": {
      "text/plain": [
       "1777"
      ]
     },
     "execution_count": 19,
     "metadata": {},
     "output_type": "execute_result"
    }
   ],
   "source": [
    "len(df)"
   ]
  },
  {
   "cell_type": "code",
   "execution_count": 20,
   "metadata": {},
   "outputs": [],
   "source": [
    "df.crs"
   ]
  },
  {
   "cell_type": "code",
   "execution_count": 21,
   "metadata": {},
   "outputs": [],
   "source": [
    "df = gpd.GeoDataFrame(df)\n",
    "df.crs = from_epsg(4326)\n",
    "df = df.to_crs(epsg=2263)"
   ]
  },
  {
   "cell_type": "code",
   "execution_count": 23,
   "metadata": {},
   "outputs": [
    {
     "data": {
      "image/png": "[encoded data removed]",
      "text/plain": [
       "<matplotlib.figure.Figure at 0x14d2e4828>"
      ]
     },
     "metadata": {},
     "output_type": "display_data"
    }
   ],
   "source": [
    "f, ax = plt.subplots(figsize=(10,10))\n",
    "ax.get_xaxis().set_visible(True)\n",
    "ax.get_yaxis().set_visible(True)\n",
    "df.plot(column=None, color=\"white\", edgecolor=\"black\", ax=ax)\n",
    "df[df.geohash_dropoff == 'SHFkk'].plot(ax=ax, color='r')\n",
    "df[df.geohash_dropoff == 'SHG0t'].plot(ax=ax, color='g')\n",
    "df[df.geohash_dropoff == 'SHGTe'].plot(ax=ax, color='k')\n",
    "plt.savefig('geohash_nyc_shorter', dpi=500, transparent=True)\n",
    "plt.show()"
   ]
  }
 ],
 "metadata": {
  "kernelspec": {
   "display_name": "Python 3",
   "language": "python",
   "name": "python3"
  },
  "language_info": {
   "codemirror_mode": {
    "name": "ipython",
    "version": 3
   },
   "file_extension": ".py",
   "mimetype": "text/x-python",
   "name": "python",
   "nbconvert_exporter": "python",
   "pygments_lexer": "ipython3",
   "version": "3.6.1"
  }
 },
 "nbformat": 4,
 "nbformat_minor": 2
}
