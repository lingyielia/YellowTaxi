{
 "cells": [
  {
   "cell_type": "markdown",
   "metadata": {},
   "source": [
    "#### Produce cleaning procedure locally on a small sample"
   ]
  },
  {
   "cell_type": "code",
   "execution_count": 1,
   "metadata": {},
   "outputs": [],
   "source": [
    "from __future__ import print_function, division\n",
    "%matplotlib inline\n",
    "import os\n",
    "import pandas as pd\n",
    "import numpy as np\n",
    "import matplotlib\n",
    "import matplotlib.pyplot as plt\n",
    "import geopandas as gpd\n",
    "from pandas.tseries import offsets\n",
    "from pandas.tseries.offsets import *\n",
    "\n",
    "DEVELOPE = True"
   ]
  },
  {
   "cell_type": "markdown",
   "metadata": {},
   "source": [
    "### Step1 download and read data\n",
    "Save a smaller sample when developing"
   ]
  },
  {
   "cell_type": "raw",
   "metadata": {},
   "source": [
    "os.system(\"curl -O https://s3-us-west-2.amazonaws.com/nyctlc/yellow_tripdata_2015-01-06.csv.gz\")\n",
    "os.system(\"mv \" + \"yellow_tripdata_2015-01-06.csv.gz \" + os.getenv(\"PUIDATA\"))\n",
    "os.system(\"gunzip \" + os.getenv(\"PUIDATA\") + \"/yellow_tripdata_2015-01-06.csv.gz -d \" + os.getenv(\"PUIDATA\") + \"/yellow_tripdata\")"
   ]
  },
  {
   "cell_type": "raw",
   "metadata": {},
   "source": [
    "df = pd.read_csv(os.getenv(\"PUIDATA\") + \"/\" + \"yellow_tripdata_2015-01-06.csv\")"
   ]
  },
  {
   "cell_type": "raw",
   "metadata": {},
   "source": [
    "if DEVELOPE:\n",
    "    df = df.sample(frac=0.01)\n",
    "else:\n",
    "    pass\n",
    "print (\"Shape of data\\n{}\".format(df.shape))"
   ]
  },
  {
   "cell_type": "raw",
   "metadata": {},
   "source": [
    "df.to_csv('yellow_tripdata_2015_short.csv')"
   ]
  },
  {
   "cell_type": "markdown",
   "metadata": {},
   "source": [
    "#### cells above should be resumed when download original data"
   ]
  },
  {
   "cell_type": "code",
   "execution_count": 2,
   "metadata": {},
   "outputs": [
    {
     "name": "stdout",
     "output_type": "stream",
     "text": [
      "Shape of data\n",
      "(770806, 18)\n"
     ]
    },
    {
     "data": {
      "text/html": [
       "<div>\n",
       "<style scoped>\n",
       "    .dataframe tbody tr th:only-of-type {\n",
       "        vertical-align: middle;\n",
       "    }\n",
       "\n",
       "    .dataframe tbody tr th {\n",
       "        vertical-align: top;\n",
       "    }\n",
       "\n",
       "    .dataframe thead th {\n",
       "        text-align: right;\n",
       "    }\n",
       "</style>\n",
       "<table border=\"1\" class=\"dataframe\">\n",
       "  <thead>\n",
       "    <tr style=\"text-align: right;\">\n",
       "      <th></th>\n",
       "      <th>VendorID</th>\n",
       "      <th>tpep_pickup_datetime</th>\n",
       "      <th>tpep_dropoff_datetime</th>\n",
       "      <th>passenger_count</th>\n",
       "      <th>trip_distance</th>\n",
       "      <th>pickup_longitude</th>\n",
       "      <th>pickup_latitude</th>\n",
       "      <th>RateCodeID</th>\n",
       "      <th>store_and_fwd_flag</th>\n",
       "      <th>dropoff_longitude</th>\n",
       "      <th>dropoff_latitude</th>\n",
       "      <th>payment_type</th>\n",
       "      <th>fare_amount</th>\n",
       "      <th>extra</th>\n",
       "      <th>mta_tax</th>\n",
       "      <th>tip_amount</th>\n",
       "      <th>tolls_amount</th>\n",
       "      <th>total_amount</th>\n",
       "    </tr>\n",
       "  </thead>\n",
       "  <tbody>\n",
       "    <tr>\n",
       "      <th>61599709</th>\n",
       "      <td>1</td>\n",
       "      <td>2015-05-12 17:46:38</td>\n",
       "      <td>2015-05-12 18:18:09</td>\n",
       "      <td>1</td>\n",
       "      <td>9.10</td>\n",
       "      <td>-73.863525</td>\n",
       "      <td>40.770012</td>\n",
       "      <td>1</td>\n",
       "      <td>N</td>\n",
       "      <td>-73.982628</td>\n",
       "      <td>40.736942</td>\n",
       "      <td>1</td>\n",
       "      <td>30.0</td>\n",
       "      <td>1.0</td>\n",
       "      <td>0.5</td>\n",
       "      <td>7.45</td>\n",
       "      <td>5.54</td>\n",
       "      <td>44.79</td>\n",
       "    </tr>\n",
       "    <tr>\n",
       "      <th>24871662</th>\n",
       "      <td>1</td>\n",
       "      <td>2015-02-27 06:03:22</td>\n",
       "      <td>2015-02-27 06:09:52</td>\n",
       "      <td>1</td>\n",
       "      <td>2.60</td>\n",
       "      <td>-74.008308</td>\n",
       "      <td>40.714573</td>\n",
       "      <td>1</td>\n",
       "      <td>N</td>\n",
       "      <td>-73.988518</td>\n",
       "      <td>40.748821</td>\n",
       "      <td>1</td>\n",
       "      <td>9.0</td>\n",
       "      <td>0.5</td>\n",
       "      <td>0.5</td>\n",
       "      <td>1.50</td>\n",
       "      <td>0.00</td>\n",
       "      <td>11.80</td>\n",
       "    </tr>\n",
       "    <tr>\n",
       "      <th>19662635</th>\n",
       "      <td>2</td>\n",
       "      <td>2015-02-15 11:23:13</td>\n",
       "      <td>2015-02-15 11:29:37</td>\n",
       "      <td>1</td>\n",
       "      <td>1.28</td>\n",
       "      <td>-73.956635</td>\n",
       "      <td>40.775738</td>\n",
       "      <td>1</td>\n",
       "      <td>N</td>\n",
       "      <td>-73.967468</td>\n",
       "      <td>40.761639</td>\n",
       "      <td>2</td>\n",
       "      <td>7.0</td>\n",
       "      <td>0.0</td>\n",
       "      <td>0.5</td>\n",
       "      <td>0.00</td>\n",
       "      <td>0.00</td>\n",
       "      <td>7.80</td>\n",
       "    </tr>\n",
       "    <tr>\n",
       "      <th>15273088</th>\n",
       "      <td>2</td>\n",
       "      <td>2015-02-05 18:36:07</td>\n",
       "      <td>2015-02-05 18:36:40</td>\n",
       "      <td>1</td>\n",
       "      <td>0.00</td>\n",
       "      <td>-73.974190</td>\n",
       "      <td>40.754951</td>\n",
       "      <td>5</td>\n",
       "      <td>N</td>\n",
       "      <td>-73.974167</td>\n",
       "      <td>40.754822</td>\n",
       "      <td>1</td>\n",
       "      <td>52.0</td>\n",
       "      <td>0.0</td>\n",
       "      <td>0.5</td>\n",
       "      <td>11.47</td>\n",
       "      <td>5.33</td>\n",
       "      <td>69.60</td>\n",
       "    </tr>\n",
       "    <tr>\n",
       "      <th>67295899</th>\n",
       "      <td>2</td>\n",
       "      <td>2015-06-06 22:18:20</td>\n",
       "      <td>2015-06-06 22:40:32</td>\n",
       "      <td>3</td>\n",
       "      <td>4.55</td>\n",
       "      <td>-73.973450</td>\n",
       "      <td>40.784496</td>\n",
       "      <td>1</td>\n",
       "      <td>N</td>\n",
       "      <td>-73.993279</td>\n",
       "      <td>40.732471</td>\n",
       "      <td>2</td>\n",
       "      <td>17.5</td>\n",
       "      <td>0.5</td>\n",
       "      <td>0.5</td>\n",
       "      <td>0.00</td>\n",
       "      <td>0.00</td>\n",
       "      <td>18.80</td>\n",
       "    </tr>\n",
       "  </tbody>\n",
       "</table>\n",
       "</div>"
      ],
      "text/plain": [
       "          VendorID tpep_pickup_datetime tpep_dropoff_datetime  \\\n",
       "61599709         1  2015-05-12 17:46:38   2015-05-12 18:18:09   \n",
       "24871662         1  2015-02-27 06:03:22   2015-02-27 06:09:52   \n",
       "19662635         2  2015-02-15 11:23:13   2015-02-15 11:29:37   \n",
       "15273088         2  2015-02-05 18:36:07   2015-02-05 18:36:40   \n",
       "67295899         2  2015-06-06 22:18:20   2015-06-06 22:40:32   \n",
       "\n",
       "          passenger_count  trip_distance  pickup_longitude  pickup_latitude  \\\n",
       "61599709                1           9.10        -73.863525        40.770012   \n",
       "24871662                1           2.60        -74.008308        40.714573   \n",
       "19662635                1           1.28        -73.956635        40.775738   \n",
       "15273088                1           0.00        -73.974190        40.754951   \n",
       "67295899                3           4.55        -73.973450        40.784496   \n",
       "\n",
       "          RateCodeID store_and_fwd_flag  dropoff_longitude  dropoff_latitude  \\\n",
       "61599709           1                  N         -73.982628         40.736942   \n",
       "24871662           1                  N         -73.988518         40.748821   \n",
       "19662635           1                  N         -73.967468         40.761639   \n",
       "15273088           5                  N         -73.974167         40.754822   \n",
       "67295899           1                  N         -73.993279         40.732471   \n",
       "\n",
       "          payment_type  fare_amount  extra  mta_tax  tip_amount  tolls_amount  \\\n",
       "61599709             1         30.0    1.0      0.5        7.45          5.54   \n",
       "24871662             1          9.0    0.5      0.5        1.50          0.00   \n",
       "19662635             2          7.0    0.0      0.5        0.00          0.00   \n",
       "15273088             1         52.0    0.0      0.5       11.47          5.33   \n",
       "67295899             2         17.5    0.5      0.5        0.00          0.00   \n",
       "\n",
       "          total_amount  \n",
       "61599709         44.79  \n",
       "24871662         11.80  \n",
       "19662635          7.80  \n",
       "15273088         69.60  \n",
       "67295899         18.80  "
      ]
     },
     "execution_count": 2,
     "metadata": {},
     "output_type": "execute_result"
    }
   ],
   "source": [
    "df = pd.read_csv('yellow_tripdata_2015_short.csv', index_col=0)\n",
    "print (\"Shape of data\\n{}\".format(df.shape))\n",
    "df.head()"
   ]
  },
  {
   "cell_type": "code",
   "execution_count": 3,
   "metadata": {},
   "outputs": [
    {
     "data": {
      "text/plain": [
       "Index(['VendorID', 'tpep_pickup_datetime', 'tpep_dropoff_datetime',\n",
       "       'passenger_count', 'trip_distance', 'pickup_longitude',\n",
       "       'pickup_latitude', 'RateCodeID', 'store_and_fwd_flag',\n",
       "       'dropoff_longitude', 'dropoff_latitude', 'payment_type', 'fare_amount',\n",
       "       'extra', 'mta_tax', 'tip_amount', 'tolls_amount', 'total_amount'],\n",
       "      dtype='object')"
      ]
     },
     "execution_count": 3,
     "metadata": {},
     "output_type": "execute_result"
    }
   ],
   "source": [
    "df.columns"
   ]
  },
  {
   "cell_type": "code",
   "execution_count": 4,
   "metadata": {},
   "outputs": [
    {
     "data": {
      "text/html": [
       "<div>\n",
       "<style scoped>\n",
       "    .dataframe tbody tr th:only-of-type {\n",
       "        vertical-align: middle;\n",
       "    }\n",
       "\n",
       "    .dataframe tbody tr th {\n",
       "        vertical-align: top;\n",
       "    }\n",
       "\n",
       "    .dataframe thead th {\n",
       "        text-align: right;\n",
       "    }\n",
       "</style>\n",
       "<table border=\"1\" class=\"dataframe\">\n",
       "  <thead>\n",
       "    <tr style=\"text-align: right;\">\n",
       "      <th></th>\n",
       "      <th>tpep_pickup_datetime</th>\n",
       "      <th>passenger_count</th>\n",
       "      <th>pickup_longitude</th>\n",
       "      <th>pickup_latitude</th>\n",
       "      <th>dropoff_longitude</th>\n",
       "      <th>dropoff_latitude</th>\n",
       "    </tr>\n",
       "  </thead>\n",
       "  <tbody>\n",
       "    <tr>\n",
       "      <th>61599709</th>\n",
       "      <td>2015-05-12 17:46:38</td>\n",
       "      <td>1</td>\n",
       "      <td>-73.863525</td>\n",
       "      <td>40.770012</td>\n",
       "      <td>-73.982628</td>\n",
       "      <td>40.736942</td>\n",
       "    </tr>\n",
       "    <tr>\n",
       "      <th>24871662</th>\n",
       "      <td>2015-02-27 06:03:22</td>\n",
       "      <td>1</td>\n",
       "      <td>-74.008308</td>\n",
       "      <td>40.714573</td>\n",
       "      <td>-73.988518</td>\n",
       "      <td>40.748821</td>\n",
       "    </tr>\n",
       "    <tr>\n",
       "      <th>19662635</th>\n",
       "      <td>2015-02-15 11:23:13</td>\n",
       "      <td>1</td>\n",
       "      <td>-73.956635</td>\n",
       "      <td>40.775738</td>\n",
       "      <td>-73.967468</td>\n",
       "      <td>40.761639</td>\n",
       "    </tr>\n",
       "    <tr>\n",
       "      <th>15273088</th>\n",
       "      <td>2015-02-05 18:36:07</td>\n",
       "      <td>1</td>\n",
       "      <td>-73.974190</td>\n",
       "      <td>40.754951</td>\n",
       "      <td>-73.974167</td>\n",
       "      <td>40.754822</td>\n",
       "    </tr>\n",
       "    <tr>\n",
       "      <th>67295899</th>\n",
       "      <td>2015-06-06 22:18:20</td>\n",
       "      <td>3</td>\n",
       "      <td>-73.973450</td>\n",
       "      <td>40.784496</td>\n",
       "      <td>-73.993279</td>\n",
       "      <td>40.732471</td>\n",
       "    </tr>\n",
       "  </tbody>\n",
       "</table>\n",
       "</div>"
      ],
      "text/plain": [
       "         tpep_pickup_datetime  passenger_count  pickup_longitude  \\\n",
       "61599709  2015-05-12 17:46:38                1        -73.863525   \n",
       "24871662  2015-02-27 06:03:22                1        -74.008308   \n",
       "19662635  2015-02-15 11:23:13                1        -73.956635   \n",
       "15273088  2015-02-05 18:36:07                1        -73.974190   \n",
       "67295899  2015-06-06 22:18:20                3        -73.973450   \n",
       "\n",
       "          pickup_latitude  dropoff_longitude  dropoff_latitude  \n",
       "61599709        40.770012         -73.982628         40.736942  \n",
       "24871662        40.714573         -73.988518         40.748821  \n",
       "19662635        40.775738         -73.967468         40.761639  \n",
       "15273088        40.754951         -73.974167         40.754822  \n",
       "67295899        40.784496         -73.993279         40.732471  "
      ]
     },
     "execution_count": 4,
     "metadata": {},
     "output_type": "execute_result"
    }
   ],
   "source": [
    "df = df.drop(['VendorID', 'tpep_dropoff_datetime', 'trip_distance',\n",
    "         'RateCodeID', 'store_and_fwd_flag', 'payment_type', 'fare_amount', 'extra', 'mta_tax',\n",
    "         'tip_amount', 'tolls_amount', 'total_amount'], axis=1)\n",
    "df.dropna(inplace=True)\n",
    "df.head()"
   ]
  },
  {
   "cell_type": "code",
   "execution_count": 5,
   "metadata": {},
   "outputs": [
    {
     "data": {
      "text/plain": [
       "(770806, 6)"
      ]
     },
     "execution_count": 5,
     "metadata": {},
     "output_type": "execute_result"
    }
   ],
   "source": [
    "df.shape"
   ]
  },
  {
   "cell_type": "markdown",
   "metadata": {},
   "source": [
    "#### borders of NY City\n",
    "city_long_border = (-74.03, -73.75);\n",
    "city_lat_border = (40.63, 40.85) "
   ]
  },
  {
   "cell_type": "code",
   "execution_count": 6,
   "metadata": {},
   "outputs": [
    {
     "data": {
      "text/plain": [
       "(746585, 6)"
      ]
     },
     "execution_count": 6,
     "metadata": {},
     "output_type": "execute_result"
    }
   ],
   "source": [
    "df = df[df['pickup_longitude'] <= -73.75]\n",
    "df = df[df['pickup_longitude'] >= -74.03]\n",
    "df = df[df['pickup_latitude'] <= 40.85]\n",
    "df = df[df['pickup_latitude'] >= 40.63]\n",
    "df = df[df['dropoff_longitude'] <= -73.75]\n",
    "df = df[df['dropoff_longitude'] >= -74.03]\n",
    "df = df[df['dropoff_latitude'] <= 40.85]\n",
    "df = df[df['dropoff_latitude'] >= 40.63]\n",
    "df.shape"
   ]
  },
  {
   "cell_type": "markdown",
   "metadata": {},
   "source": [
    "#### extract all the time features out"
   ]
  },
  {
   "cell_type": "code",
   "execution_count": 7,
   "metadata": {},
   "outputs": [],
   "source": [
    "df['tpep_pickup_datetime'] = pd.to_datetime(df['tpep_pickup_datetime'], format='%Y/%m/%d %H:%M:%S')"
   ]
  },
  {
   "cell_type": "code",
   "execution_count": 8,
   "metadata": {},
   "outputs": [
    {
     "data": {
      "text/plain": [
       "tpep_pickup_datetime    datetime64[ns]\n",
       "passenger_count                  int64\n",
       "pickup_longitude               float64\n",
       "pickup_latitude                float64\n",
       "dropoff_longitude              float64\n",
       "dropoff_latitude               float64\n",
       "dtype: object"
      ]
     },
     "execution_count": 8,
     "metadata": {},
     "output_type": "execute_result"
    }
   ],
   "source": [
    "df.dtypes"
   ]
  },
  {
   "cell_type": "code",
   "execution_count": 9,
   "metadata": {},
   "outputs": [],
   "source": [
    "df['year'] = df['tpep_pickup_datetime'].dt.year\n",
    "df['month'] = df['tpep_pickup_datetime'].dt.month\n",
    "df['hour'] = df['tpep_pickup_datetime'].dt.hour\n",
    "df['dayofweek'] = df['tpep_pickup_datetime'].dt.weekday_name\n",
    "df['year_quarter'] = df['tpep_pickup_datetime'].dt.quarter\n",
    "df['days_in_month'] = df['tpep_pickup_datetime'].dt.days_in_month"
   ]
  },
  {
   "cell_type": "code",
   "execution_count": 15,
   "metadata": {},
   "outputs": [
    {
     "data": {
      "text/html": [
       "<div>\n",
       "<style scoped>\n",
       "    .dataframe tbody tr th:only-of-type {\n",
       "        vertical-align: middle;\n",
       "    }\n",
       "\n",
       "    .dataframe tbody tr th {\n",
       "        vertical-align: top;\n",
       "    }\n",
       "\n",
       "    .dataframe thead th {\n",
       "        text-align: right;\n",
       "    }\n",
       "</style>\n",
       "<table border=\"1\" class=\"dataframe\">\n",
       "  <thead>\n",
       "    <tr style=\"text-align: right;\">\n",
       "      <th></th>\n",
       "      <th>tpep_pickup_datetime</th>\n",
       "      <th>passenger_count</th>\n",
       "      <th>pickup_longitude</th>\n",
       "      <th>pickup_latitude</th>\n",
       "      <th>dropoff_longitude</th>\n",
       "      <th>dropoff_latitude</th>\n",
       "      <th>year</th>\n",
       "      <th>month</th>\n",
       "      <th>hour</th>\n",
       "      <th>dayofweek</th>\n",
       "      <th>year_quarter</th>\n",
       "      <th>days_in_month</th>\n",
       "    </tr>\n",
       "  </thead>\n",
       "  <tbody>\n",
       "    <tr>\n",
       "      <th>61599709</th>\n",
       "      <td>2015-05-12 17:46:38</td>\n",
       "      <td>1</td>\n",
       "      <td>-73.863525</td>\n",
       "      <td>40.770012</td>\n",
       "      <td>-73.982628</td>\n",
       "      <td>40.736942</td>\n",
       "      <td>2015</td>\n",
       "      <td>5</td>\n",
       "      <td>17</td>\n",
       "      <td>Tuesday</td>\n",
       "      <td>2</td>\n",
       "      <td>31</td>\n",
       "    </tr>\n",
       "    <tr>\n",
       "      <th>24871662</th>\n",
       "      <td>2015-02-27 06:03:22</td>\n",
       "      <td>1</td>\n",
       "      <td>-74.008308</td>\n",
       "      <td>40.714573</td>\n",
       "      <td>-73.988518</td>\n",
       "      <td>40.748821</td>\n",
       "      <td>2015</td>\n",
       "      <td>2</td>\n",
       "      <td>6</td>\n",
       "      <td>Friday</td>\n",
       "      <td>1</td>\n",
       "      <td>28</td>\n",
       "    </tr>\n",
       "    <tr>\n",
       "      <th>19662635</th>\n",
       "      <td>2015-02-15 11:23:13</td>\n",
       "      <td>1</td>\n",
       "      <td>-73.956635</td>\n",
       "      <td>40.775738</td>\n",
       "      <td>-73.967468</td>\n",
       "      <td>40.761639</td>\n",
       "      <td>2015</td>\n",
       "      <td>2</td>\n",
       "      <td>11</td>\n",
       "      <td>Sunday</td>\n",
       "      <td>1</td>\n",
       "      <td>28</td>\n",
       "    </tr>\n",
       "    <tr>\n",
       "      <th>15273088</th>\n",
       "      <td>2015-02-05 18:36:07</td>\n",
       "      <td>1</td>\n",
       "      <td>-73.974190</td>\n",
       "      <td>40.754951</td>\n",
       "      <td>-73.974167</td>\n",
       "      <td>40.754822</td>\n",
       "      <td>2015</td>\n",
       "      <td>2</td>\n",
       "      <td>18</td>\n",
       "      <td>Thursday</td>\n",
       "      <td>1</td>\n",
       "      <td>28</td>\n",
       "    </tr>\n",
       "    <tr>\n",
       "      <th>67295899</th>\n",
       "      <td>2015-06-06 22:18:20</td>\n",
       "      <td>3</td>\n",
       "      <td>-73.973450</td>\n",
       "      <td>40.784496</td>\n",
       "      <td>-73.993279</td>\n",
       "      <td>40.732471</td>\n",
       "      <td>2015</td>\n",
       "      <td>6</td>\n",
       "      <td>22</td>\n",
       "      <td>Saturday</td>\n",
       "      <td>2</td>\n",
       "      <td>30</td>\n",
       "    </tr>\n",
       "  </tbody>\n",
       "</table>\n",
       "</div>"
      ],
      "text/plain": [
       "         tpep_pickup_datetime  passenger_count  pickup_longitude  \\\n",
       "61599709  2015-05-12 17:46:38                1        -73.863525   \n",
       "24871662  2015-02-27 06:03:22                1        -74.008308   \n",
       "19662635  2015-02-15 11:23:13                1        -73.956635   \n",
       "15273088  2015-02-05 18:36:07                1        -73.974190   \n",
       "67295899  2015-06-06 22:18:20                3        -73.973450   \n",
       "\n",
       "          pickup_latitude  dropoff_longitude  dropoff_latitude  year  month  \\\n",
       "61599709        40.770012         -73.982628         40.736942  2015      5   \n",
       "24871662        40.714573         -73.988518         40.748821  2015      2   \n",
       "19662635        40.775738         -73.967468         40.761639  2015      2   \n",
       "15273088        40.754951         -73.974167         40.754822  2015      2   \n",
       "67295899        40.784496         -73.993279         40.732471  2015      6   \n",
       "\n",
       "          hour dayofweek  year_quarter  days_in_month  \n",
       "61599709    17   Tuesday             2             31  \n",
       "24871662     6    Friday             1             28  \n",
       "19662635    11    Sunday             1             28  \n",
       "15273088    18  Thursday             1             28  \n",
       "67295899    22  Saturday             2             30  "
      ]
     },
     "execution_count": 15,
     "metadata": {},
     "output_type": "execute_result"
    }
   ],
   "source": [
    "df.head()"
   ]
  },
  {
   "cell_type": "code",
   "execution_count": 17,
   "metadata": {},
   "outputs": [
    {
     "data": {
      "text/plain": [
       "Index(['tpep_pickup_datetime', 'passenger_count', 'pickup_longitude',\n",
       "       'pickup_latitude', 'dropoff_longitude', 'dropoff_latitude', 'year',\n",
       "       'month', 'hour', 'dayofweek', 'year_quarter', 'days_in_month'],\n",
       "      dtype='object')"
      ]
     },
     "execution_count": 17,
     "metadata": {},
     "output_type": "execute_result"
    }
   ],
   "source": [
    "df.columns"
   ]
  },
  {
   "cell_type": "markdown",
   "metadata": {},
   "source": [
    "#### For the holiday:\n",
    "#### I tried to extract whether certain day is the day before a holiday, which I expect lots of people will rush to airport. However I fail to use the 'Holidays / Holiday Calendars' class in pandas which contains 'USFederalHolidayCalendar'."
   ]
  },
  {
   "cell_type": "code",
   "execution_count": 16,
   "metadata": {},
   "outputs": [
    {
     "data": {
      "text/plain": [
       "[Holiday: New Years Day (month=1, day=1, observance=<function nearest_workday at 0x10b6706a8>),\n",
       " Holiday: Dr. Martin Luther King Jr. (month=1, day=1, offset=<DateOffset: kwds={'weekday': MO(+3)}>),\n",
       " Holiday: Presidents Day (month=2, day=1, offset=<DateOffset: kwds={'weekday': MO(+3)}>),\n",
       " Holiday: MemorialDay (month=5, day=31, offset=<DateOffset: kwds={'weekday': MO(-1)}>),\n",
       " Holiday: July 4th (month=7, day=4, observance=<function nearest_workday at 0x10b6706a8>),\n",
       " Holiday: Labor Day (month=9, day=1, offset=<DateOffset: kwds={'weekday': MO(+1)}>),\n",
       " Holiday: Columbus Day (month=10, day=1, offset=<DateOffset: kwds={'weekday': MO(+2)}>),\n",
       " Holiday: Veterans Day (month=11, day=11, observance=<function nearest_workday at 0x10b6706a8>),\n",
       " Holiday: Thanksgiving (month=11, day=1, offset=<DateOffset: kwds={'weekday': TH(+4)}>),\n",
       " Holiday: Christmas (month=12, day=25, observance=<function nearest_workday at 0x10b6706a8>)]"
      ]
     },
     "execution_count": 16,
     "metadata": {},
     "output_type": "execute_result"
    }
   ],
   "source": [
    "from pandas.tseries.holiday import USFederalHolidayCalendar\n",
    "USFederalHolidayCalendar.rules"
   ]
  },
  {
   "cell_type": "code",
   "execution_count": null,
   "metadata": {},
   "outputs": [],
   "source": []
  },
  {
   "cell_type": "code",
   "execution_count": null,
   "metadata": {},
   "outputs": [],
   "source": []
  },
  {
   "cell_type": "raw",
   "metadata": {
    "collapsed": true
   },
   "source": [
    "df['tpep_pickup_datetime'].dt.dayofweek"
   ]
  },
  {
   "cell_type": "raw",
   "metadata": {},
   "source": [
    "df['tpep_pickup_datetime'].dt.date"
   ]
  },
  {
   "cell_type": "code",
   "execution_count": null,
   "metadata": {},
   "outputs": [],
   "source": []
  },
  {
   "cell_type": "code",
   "execution_count": null,
   "metadata": {},
   "outputs": [],
   "source": []
  }
 ],
 "metadata": {
  "kernelspec": {
   "display_name": "Python 3",
   "language": "python",
   "name": "python3"
  },
  "language_info": {
   "codemirror_mode": {
    "name": "ipython",
    "version": 3
   },
   "file_extension": ".py",
   "mimetype": "text/x-python",
   "name": "python",
   "nbconvert_exporter": "python",
   "pygments_lexer": "ipython3",
   "version": "3.6.1"
  }
 },
 "nbformat": 4,
 "nbformat_minor": 2
}
